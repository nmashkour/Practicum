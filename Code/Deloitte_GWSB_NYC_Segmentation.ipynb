{
  "cells": [
    {
      "cell_type": "markdown",
      "source": [
        "#*NYC Department of Health: Risk Segmentation Model Approach for Restaurants*\n",
        "### GWU Business Analytics Practicum: Spring 2024\n",
        "#### Authors: Emma Hudson, Nada Mashkour, Arnav Chaudhari, Manuel Chavez\n"
      ],
      "metadata": {
        "id": "x5GYua9fjSak"
      },
      "id": "x5GYua9fjSak"
    },
    {
      "cell_type": "markdown",
      "source": [
        "# Import Necessary Packages"
      ],
      "metadata": {
        "id": "P0UqOaK8y59n"
      },
      "id": "P0UqOaK8y59n"
    },
    {
      "cell_type": "code",
      "execution_count": 141,
      "id": "e6066297",
      "metadata": {
        "id": "e6066297"
      },
      "outputs": [],
      "source": [
        "import numpy as np\n",
        "import pandas as pd\n",
        "from sklearn.model_selection import train_test_split\n",
        "import matplotlib.pyplot as plt\n",
        "import seaborn as sn"
      ]
    },
    {
      "cell_type": "code",
      "execution_count": 142,
      "id": "035a34ee",
      "metadata": {
        "id": "035a34ee"
      },
      "outputs": [],
      "source": [
        "from sklearn.model_selection import train_test_split\n",
        "from sklearn.linear_model import LinearRegression\n",
        "from sklearn.metrics import mean_squared_error\n",
        "import matplotlib.pyplot as plt"
      ]
    },
    {
      "cell_type": "code",
      "execution_count": 143,
      "id": "731b29bf",
      "metadata": {
        "id": "731b29bf"
      },
      "outputs": [],
      "source": [
        "import matplotlib.pyplot as plt\n",
        "from pandas.plotting import scatter_matrix\n",
        "import pandas as pd\n",
        "import numpy as np\n",
        "import matplotlib.pyplot as plt\n",
        "import matplotlib.dates as mdates\n",
        "import seaborn as sns\n",
        "from sklearn.linear_model import LinearRegression, Ridge, RidgeCV, Lasso, LassoCV\n",
        "from sklearn.preprocessing import scale"
      ]
    },
    {
      "cell_type": "markdown",
      "id": "bea35475-8afd-4ff1-b416-bc92742a1f0c",
      "metadata": {
        "id": "bea35475-8afd-4ff1-b416-bc92742a1f0c"
      },
      "source": [
        "# Data Cleaning & Exploratory Analysis"
      ]
    },
    {
      "cell_type": "markdown",
      "source": [
        "Importing the original dataset, from the NYC DOH Open Source data:\n",
        "\n",
        "https://data.cityofnewyork.us/Health/DOHMH-New-York-City-Restaurant-Inspection-Results/43nn-pn8j/about_data"
      ],
      "metadata": {
        "id": "fWrOTDxrjwSP"
      },
      "id": "fWrOTDxrjwSP"
    },
    {
      "cell_type": "code",
      "execution_count": 144,
      "id": "17b75b75-1edd-4299-b441-d32988d9a56e",
      "metadata": {
        "id": "17b75b75-1edd-4299-b441-d32988d9a56e"
      },
      "outputs": [],
      "source": [
        "mydf = pd.read_csv(\"NYC_rest_inspection.csv\")"
      ]
    },
    {
      "cell_type": "code",
      "execution_count": 145,
      "id": "d986a4b8",
      "metadata": {
        "colab": {
          "base_uri": "https://localhost:8080/"
        },
        "id": "d986a4b8",
        "outputId": "f6d2ed2a-7644-4f61-af66-8da30c0c52e8"
      },
      "outputs": [
        {
          "output_type": "execute_result",
          "data": {
            "text/plain": [
              "213679"
            ]
          },
          "metadata": {},
          "execution_count": 145
        }
      ],
      "source": [
        "len(mydf)"
      ]
    },
    {
      "cell_type": "code",
      "execution_count": 146,
      "id": "96cb9069",
      "metadata": {
        "colab": {
          "base_uri": "https://localhost:8080/"
        },
        "id": "96cb9069",
        "outputId": "a7fe09f7-7664-4416-97b4-fb157883a1a9"
      },
      "outputs": [
        {
          "output_type": "stream",
          "name": "stdout",
          "text": [
            "<class 'pandas.core.frame.DataFrame'>\n",
            "RangeIndex: 213679 entries, 0 to 213678\n",
            "Data columns (total 27 columns):\n",
            " #   Column                 Non-Null Count   Dtype  \n",
            "---  ------                 --------------   -----  \n",
            " 0   CAMIS                  213679 non-null  int64  \n",
            " 1   DBA                    212957 non-null  object \n",
            " 2   BORO                   213679 non-null  object \n",
            " 3   BUILDING               213363 non-null  object \n",
            " 4   STREET                 213677 non-null  object \n",
            " 5   ZIPCODE                210981 non-null  float64\n",
            " 6   PHONE                  213677 non-null  object \n",
            " 7   CUISINE DESCRIPTION    211150 non-null  object \n",
            " 8   INSPECTION DATE        213679 non-null  object \n",
            " 9   ACTION                 211150 non-null  object \n",
            " 10  VIOLATION CODE         210024 non-null  object \n",
            " 11  VIOLATION DESCRIPTION  210024 non-null  object \n",
            " 12  CRITICAL FLAG          213679 non-null  object \n",
            " 13  SCORE                  203298 non-null  float64\n",
            " 14  GRADE                  104095 non-null  object \n",
            " 15  GRADE DATE             95229 non-null   object \n",
            " 16  RECORD DATE            213679 non-null  object \n",
            " 17  INSPECTION TYPE        211150 non-null  object \n",
            " 18  Latitude               213400 non-null  float64\n",
            " 19  Longitude              213400 non-null  float64\n",
            " 20  Community Board        210437 non-null  float64\n",
            " 21  Council District       210437 non-null  float64\n",
            " 22  Census Tract           210437 non-null  float64\n",
            " 23  BIN                    209408 non-null  float64\n",
            " 24  BBL                    213133 non-null  float64\n",
            " 25  NTA                    210437 non-null  object \n",
            " 26  Location Point1        0 non-null       float64\n",
            "dtypes: float64(10), int64(1), object(16)\n",
            "memory usage: 44.0+ MB\n"
          ]
        }
      ],
      "source": [
        "mydf.info()"
      ]
    },
    {
      "cell_type": "code",
      "execution_count": 147,
      "id": "76897466",
      "metadata": {
        "id": "76897466"
      },
      "outputs": [],
      "source": [
        "mydf.columns = mydf.columns.str.strip()"
      ]
    },
    {
      "cell_type": "code",
      "execution_count": 148,
      "id": "82c1414a",
      "metadata": {
        "id": "82c1414a"
      },
      "outputs": [],
      "source": [
        "# removing unnecessary columns\n",
        "columns_remove=['Community Board','Council District','Census Tract','BIN','BBL','NTA','Location Point1','PHONE']"
      ]
    },
    {
      "cell_type": "code",
      "execution_count": 149,
      "id": "4bb4be91",
      "metadata": {
        "id": "4bb4be91"
      },
      "outputs": [],
      "source": [
        "mydf = mydf.drop(columns=columns_remove)"
      ]
    },
    {
      "cell_type": "code",
      "execution_count": 150,
      "id": "86b69ec5",
      "metadata": {
        "colab": {
          "base_uri": "https://localhost:8080/"
        },
        "id": "86b69ec5",
        "outputId": "b17d1a67-ee50-4014-a24d-2d835ff782c7"
      },
      "outputs": [
        {
          "output_type": "stream",
          "name": "stderr",
          "text": [
            "<ipython-input-150-a59cb0cbb149>:1: UserWarning: Could not infer format, so each element will be parsed individually, falling back to `dateutil`. To ensure parsing is consistent and as-expected, please specify a format.\n",
            "  mydf['INSPECTION DATE'] = pd.to_datetime(mydf['INSPECTION DATE']).dt.date\n"
          ]
        }
      ],
      "source": [
        "mydf['INSPECTION DATE'] = pd.to_datetime(mydf['INSPECTION DATE']).dt.date\n",
        "mydf['RECORD DATE'] = pd.to_datetime(mydf['RECORD DATE']).dt.date"
      ]
    },
    {
      "cell_type": "code",
      "execution_count": 151,
      "id": "32a148b8",
      "metadata": {
        "id": "32a148b8"
      },
      "outputs": [],
      "source": [
        "# Some rows have a date of '1900.' For the purpose of our future analysis, we will be removing theses rows, as it does not fit in the timeframe of our data.\n",
        "mydf['INSPECTION DATE'] = pd.to_datetime(mydf['INSPECTION DATE'], errors='coerce')\n",
        "mydf_filter1 = mydf.loc[mydf['INSPECTION DATE'].dt.year == 1900]"
      ]
    },
    {
      "cell_type": "code",
      "execution_count": 152,
      "id": "4bfad0c2",
      "metadata": {
        "colab": {
          "base_uri": "https://localhost:8080/"
        },
        "id": "4bfad0c2",
        "outputId": "d8a23a53-21e5-4289-dce6-a95b3f5f073a"
      },
      "outputs": [
        {
          "output_type": "stream",
          "name": "stdout",
          "text": [
            "Number of rows in mydf_filter1: 0\n"
          ]
        }
      ],
      "source": [
        "num_rows_filtered = len(mydf_filter1)\n",
        "\n",
        "print(\"Number of rows in mydf_filter1:\", num_rows_filtered)"
      ]
    },
    {
      "cell_type": "code",
      "execution_count": 153,
      "id": "a1709185",
      "metadata": {
        "colab": {
          "base_uri": "https://localhost:8080/"
        },
        "id": "a1709185",
        "outputId": "e6766d68-ff98-4b92-f75a-894bbb8a55af"
      },
      "outputs": [
        {
          "output_type": "stream",
          "name": "stdout",
          "text": [
            "Index(['CAMIS', 'DBA', 'BORO', 'BUILDING', 'STREET', 'ZIPCODE',\n",
            "       'CUISINE DESCRIPTION', 'INSPECTION DATE', 'ACTION', 'VIOLATION CODE',\n",
            "       'VIOLATION DESCRIPTION', 'CRITICAL FLAG', 'SCORE', 'GRADE',\n",
            "       'GRADE DATE', 'RECORD DATE', 'INSPECTION TYPE', 'Latitude',\n",
            "       'Longitude'],\n",
            "      dtype='object')\n"
          ]
        }
      ],
      "source": [
        "empty_columns2 = mydf_filter1.columns[mydf_filter1.isnull().all()]\n",
        "print(empty_columns2)"
      ]
    },
    {
      "cell_type": "code",
      "execution_count": 154,
      "id": "fa151243",
      "metadata": {
        "id": "fa151243"
      },
      "outputs": [],
      "source": [
        "mydf = mydf[mydf['INSPECTION DATE'].dt.year != 1900]"
      ]
    },
    {
      "cell_type": "code",
      "execution_count": 155,
      "id": "df5b1234",
      "metadata": {
        "colab": {
          "base_uri": "https://localhost:8080/"
        },
        "id": "df5b1234",
        "outputId": "17833d0b-11f7-41bc-9004-714c5e799276"
      },
      "outputs": [
        {
          "output_type": "execute_result",
          "data": {
            "text/plain": [
              "array([nan, '02B', '09B', '10J', '04A', '22F', '04M', '04L', '06F',\n",
              "       '19-10', '09C', '18F', '05A', '20F', '04K', '10H', '09E', '02I',\n",
              "       '10C', '15-21', '10E', '03F', '15-01', '15F6', '03I', '20-06',\n",
              "       '20-08', '08A', '06D', '10B', '06C', '10F', '09A', '02G', '06B',\n",
              "       '04C', '10D', '08B', '08C', '04J', '10G', '06A', '02H', '05H',\n",
              "       '20-04', '04N', '04H', '06E', '05D', '05F', '28-03', '22A',\n",
              "       '18-11', '28-06', '02F', '20A', '20-01', '28-01', '20D', '10A',\n",
              "       '10I', '19-04', '22C', '04O', '02C', '19-05', '18-08', '05C',\n",
              "       '16-04', '16-03', '06G', '19-06', '03B', '19-07', '16-02', '15-27',\n",
              "       '03A', '28-04', '04E', '22G', '16B', '02A', '19-11', '04D', '09D',\n",
              "       '22E', '15-42', '28-05', '16E', '1.50E+03', '16D', '16-06', '18G',\n",
              "       '15-37', '18-12', '1.50E+04', '16C', '05E', '03C', '18-01',\n",
              "       '15-36', '06H', '04F', '16A', '20E', '15F7', '16-01', '03E',\n",
              "       '20-05', '05B', '18-02', '04B', '15-22', '18-13', '18D', '20-07',\n",
              "       '18-14', '02D', '15F1', '15F2', '06I', '04P', '07A', '28-07',\n",
              "       '15-39', '15S', '04I', '18C', '15-32', '15L', '15-17', '03D',\n",
              "       '18B', '15I', '19-03', '19-01', '03G', '15-33', '19-08', '22B',\n",
              "       '15A1', '15F8', '20-02', '20C', '15-29'], dtype=object)"
            ]
          },
          "metadata": {},
          "execution_count": 155
        }
      ],
      "source": [
        "mydf['VIOLATION CODE'].unique()"
      ]
    },
    {
      "cell_type": "code",
      "execution_count": 156,
      "id": "86107782",
      "metadata": {
        "colab": {
          "base_uri": "https://localhost:8080/"
        },
        "id": "86107782",
        "outputId": "d2c377e6-6b7b-4396-eeaf-4c344e1fd240"
      },
      "outputs": [
        {
          "output_type": "stream",
          "name": "stdout",
          "text": [
            "Empty DataFrame\n",
            "Columns: [CAMIS, DBA, BORO, BUILDING, STREET, ZIPCODE, CUISINE DESCRIPTION, INSPECTION DATE, ACTION, VIOLATION CODE, VIOLATION DESCRIPTION, CRITICAL FLAG, SCORE, GRADE, GRADE DATE, RECORD DATE, INSPECTION TYPE, Latitude, Longitude]\n",
            "Index: []\n"
          ]
        }
      ],
      "source": [
        "rows_with_empty_CAMIS = mydf[mydf['CAMIS'].isna()]\n",
        "print(rows_with_empty_CAMIS)"
      ]
    },
    {
      "cell_type": "markdown",
      "id": "7e7eaffb-a09b-4551-8204-2ca18e1d298d",
      "metadata": {
        "id": "7e7eaffb-a09b-4551-8204-2ca18e1d298d"
      },
      "source": [
        "Rows where DBA (restaurant name) is empty:"
      ]
    },
    {
      "cell_type": "code",
      "execution_count": 157,
      "id": "2266a4f8",
      "metadata": {
        "id": "2266a4f8"
      },
      "outputs": [],
      "source": [
        "rows_with_empty_DBA = mydf[mydf['DBA'].isna()]"
      ]
    },
    {
      "cell_type": "markdown",
      "id": "9d031850",
      "metadata": {
        "id": "9d031850"
      },
      "source": [
        " We will check in this dataset the unique values for __'Violation Description'__"
      ]
    },
    {
      "cell_type": "code",
      "execution_count": 158,
      "id": "b994af7b",
      "metadata": {
        "colab": {
          "base_uri": "https://localhost:8080/"
        },
        "id": "b994af7b",
        "outputId": "b76b3a9e-8761-4d21-c98f-fd2e6d3063be"
      },
      "outputs": [
        {
          "output_type": "execute_result",
          "data": {
            "text/plain": [
              "array([nan], dtype=object)"
            ]
          },
          "metadata": {},
          "execution_count": 158
        }
      ],
      "source": [
        "rows_empty_VCODE_1 = mydf[mydf['VIOLATION CODE'].isna()]\n",
        "rows_empty_VCODE_1['VIOLATION DESCRIPTION'].unique()"
      ]
    },
    {
      "cell_type": "markdown",
      "id": "74c68a28",
      "metadata": {
        "id": "74c68a28"
      },
      "source": [
        "We realize that all the values are empty in Violation Description column, now we will move to __Score__"
      ]
    },
    {
      "cell_type": "markdown",
      "id": "1c37d030",
      "metadata": {
        "id": "1c37d030"
      },
      "source": [
        "Checking the unique values for __Score__"
      ]
    },
    {
      "cell_type": "code",
      "execution_count": 159,
      "id": "5923b256",
      "metadata": {
        "colab": {
          "base_uri": "https://localhost:8080/"
        },
        "id": "5923b256",
        "outputId": "90894daf-c865-4696-9b65-68d51d455fc3"
      },
      "outputs": [
        {
          "output_type": "execute_result",
          "data": {
            "text/plain": [
              "array([nan,  0.])"
            ]
          },
          "metadata": {},
          "execution_count": 159
        }
      ],
      "source": [
        "rows_empty_VCODE_1['SCORE'].unique()"
      ]
    },
    {
      "cell_type": "code",
      "execution_count": 160,
      "id": "603e216f",
      "metadata": {
        "colab": {
          "base_uri": "https://localhost:8080/"
        },
        "id": "603e216f",
        "outputId": "f9ffa0da-aa9e-42c5-8f39-92b16f28c0ce"
      },
      "outputs": [
        {
          "output_type": "execute_result",
          "data": {
            "text/plain": [
              "array([nan, 'A', 'N', 'P', 'Z', 'C'], dtype=object)"
            ]
          },
          "metadata": {},
          "execution_count": 160
        }
      ],
      "source": [
        "rows_empty_VCODE_1['GRADE'].unique()"
      ]
    },
    {
      "cell_type": "code",
      "execution_count": 161,
      "id": "d65c8a2d",
      "metadata": {
        "colab": {
          "base_uri": "https://localhost:8080/"
        },
        "id": "d65c8a2d",
        "outputId": "bdf3332d-9173-4e7f-a13f-905a87930919"
      },
      "outputs": [
        {
          "output_type": "execute_result",
          "data": {
            "text/plain": [
              "3029"
            ]
          },
          "metadata": {},
          "execution_count": 161
        }
      ],
      "source": [
        "rows_empty_VCODE_2 = rows_empty_VCODE_1[rows_empty_VCODE_1['SCORE'].isna()]\n",
        "len(rows_empty_VCODE_2)"
      ]
    },
    {
      "cell_type": "code",
      "execution_count": 162,
      "id": "b202d9d8",
      "metadata": {
        "colab": {
          "base_uri": "https://localhost:8080/"
        },
        "id": "b202d9d8",
        "outputId": "0978439e-d0d6-4e46-c3be-ed2a8899af2b"
      },
      "outputs": [
        {
          "output_type": "execute_result",
          "data": {
            "text/plain": [
              "array([nan], dtype=object)"
            ]
          },
          "metadata": {},
          "execution_count": 162
        }
      ],
      "source": [
        "rows_empty_VCODE_2['VIOLATION CODE'].unique()"
      ]
    },
    {
      "cell_type": "markdown",
      "id": "f38fe373",
      "metadata": {
        "id": "f38fe373"
      },
      "source": [
        "## Preparing dataset for modeling"
      ]
    },
    {
      "cell_type": "code",
      "execution_count": 163,
      "id": "79ef76f1",
      "metadata": {
        "id": "79ef76f1"
      },
      "outputs": [],
      "source": [
        "mydf = mydf[(mydf['GRADE'].notna()) & (mydf['GRADE'] != 0)]"
      ]
    },
    {
      "cell_type": "code",
      "execution_count": 164,
      "id": "f097e94e",
      "metadata": {
        "id": "f097e94e"
      },
      "outputs": [],
      "source": [
        "# Looking at the letter grades"
      ]
    },
    {
      "cell_type": "code",
      "execution_count": 165,
      "id": "4e367e7e",
      "metadata": {
        "id": "4e367e7e"
      },
      "outputs": [],
      "source": [
        "mydf = mydf[mydf['GRADE'].isin(['A', 'B','C'])]"
      ]
    },
    {
      "cell_type": "code",
      "execution_count": 166,
      "id": "53f5b65d",
      "metadata": {
        "id": "53f5b65d"
      },
      "outputs": [],
      "source": [
        "mydf = mydf[mydf['VIOLATION CODE'].notna()]"
      ]
    },
    {
      "cell_type": "markdown",
      "id": "b3f393a5",
      "metadata": {
        "id": "b3f393a5"
      },
      "source": [
        "We verify that we do not have empty rows:"
      ]
    },
    {
      "cell_type": "code",
      "execution_count": 167,
      "id": "e4987105",
      "metadata": {
        "colab": {
          "base_uri": "https://localhost:8080/"
        },
        "id": "e4987105",
        "outputId": "52b5db8a-769b-4769-f3f2-bd1d27cb5e29"
      },
      "outputs": [
        {
          "output_type": "execute_result",
          "data": {
            "text/plain": [
              "False"
            ]
          },
          "metadata": {},
          "execution_count": 167
        }
      ],
      "source": [
        "selected_columns = ['VIOLATION CODE', 'GRADE','GRADE DATE']  # Replace with your selected columns\n",
        "\n",
        "# Check for empty values in selected columns\n",
        "empty_rows_exist = mydf[selected_columns].isna().any(axis=1).any()\n",
        "empty_rows_exist"
      ]
    },
    {
      "cell_type": "code",
      "execution_count": 168,
      "id": "3f2b08ff",
      "metadata": {
        "colab": {
          "base_uri": "https://localhost:8080/"
        },
        "id": "3f2b08ff",
        "outputId": "e993e1eb-b4c6-4740-8374-7b005bfd91f0"
      },
      "outputs": [
        {
          "output_type": "stream",
          "name": "stderr",
          "text": [
            "<ipython-input-168-2a944987d23b>:2: UserWarning: Could not infer format, so each element will be parsed individually, falling back to `dateutil`. To ensure parsing is consistent and as-expected, please specify a format.\n",
            "  mydf['GRADE DATE'] = pd.to_datetime(mydf['GRADE DATE'])\n"
          ]
        }
      ],
      "source": [
        "# We include a new key , in order to identify a inspection instead , and merging later the violations\n",
        "mydf['GRADE DATE'] = pd.to_datetime(mydf['GRADE DATE'])\n",
        "mydf['KEY'] = mydf['CAMIS'].astype(str) + '-' + mydf['GRADE DATE'].dt.strftime('%Y%m%d')"
      ]
    },
    {
      "cell_type": "code",
      "execution_count": 169,
      "id": "ff8e325f",
      "metadata": {
        "colab": {
          "base_uri": "https://localhost:8080/"
        },
        "id": "ff8e325f",
        "outputId": "19ebc59c-e3ca-49c9-94c8-bd682dba23f9"
      },
      "outputs": [
        {
          "output_type": "execute_result",
          "data": {
            "text/plain": [
              "array(['10J', '09B', '02B', '06F', '04M', '09C', '09E', '02I', '10C',\n",
              "       '04A', '10E', '04L', '04K', '10H', '06D', '10B', '06C', '08A',\n",
              "       '10F', '09A', '02G', '10D', '08B', '08C', '06A', '04N', '05F',\n",
              "       '04J', '10G', '04C', '04H', '05D', '10A', '10I', '04O', '06B',\n",
              "       '28-06', '02H', '06E', '03A', '02C', '03B', '28-05', '02A', '22G',\n",
              "       '05H', '03C', '06H', '04E', '03I', '05E', '05C', '04F', '04B',\n",
              "       '06G', '05B', '04D', '02D', '04P', '05A', '09D', '02F', '28-07',\n",
              "       '03E', '22F', '03F', '06I', '03D', '03G', '18-11', '20-06',\n",
              "       '16-03', '20-04', '04I'], dtype=object)"
            ]
          },
          "metadata": {},
          "execution_count": 169
        }
      ],
      "source": [
        "unique_violations = mydf['VIOLATION CODE'].unique()\n",
        "unique_violations"
      ]
    },
    {
      "cell_type": "code",
      "execution_count": 170,
      "id": "6b0e9321",
      "metadata": {
        "colab": {
          "base_uri": "https://localhost:8080/"
        },
        "id": "6b0e9321",
        "outputId": "03b0f2c3-9377-41b6-b09a-fbed77ec0064"
      },
      "outputs": [
        {
          "output_type": "execute_result",
          "data": {
            "text/plain": [
              "array(['A', 'B', 'C'], dtype=object)"
            ]
          },
          "metadata": {},
          "execution_count": 170
        }
      ],
      "source": [
        "unique_grades = mydf['GRADE'].unique()\n",
        "unique_grades"
      ]
    },
    {
      "cell_type": "code",
      "execution_count": 171,
      "id": "bc2302d8",
      "metadata": {
        "id": "bc2302d8"
      },
      "outputs": [],
      "source": [
        "column_to_move = 'KEY'\n",
        "\n",
        "index_of_column = mydf.columns.get_loc(column_to_move)\n",
        "\n",
        "mydf.insert(0, column_to_move, mydf.pop(column_to_move))"
      ]
    },
    {
      "cell_type": "code",
      "execution_count": 172,
      "id": "d2d640de",
      "metadata": {
        "id": "d2d640de"
      },
      "outputs": [],
      "source": [
        "violation_columns = [col for col in mydf.columns if 'VIOLATION' in col]"
      ]
    },
    {
      "cell_type": "code",
      "execution_count": 173,
      "id": "978ccc54",
      "metadata": {
        "colab": {
          "base_uri": "https://localhost:8080/"
        },
        "id": "978ccc54",
        "outputId": "742fb859-2bc1-4a99-c219-e624b565c0c4"
      },
      "outputs": [
        {
          "output_type": "execute_result",
          "data": {
            "text/plain": [
              "array(['American', 'Chinese', 'Japanese', 'Pizza', 'Mediterranean',\n",
              "       'African', 'Hotdogs/Pretzels', 'Chicken', 'Coffee/Tea', 'Italian',\n",
              "       'Caribbean', 'Mexican', 'Donuts', 'Tex-Mex', 'Soul Food', 'Vegan',\n",
              "       'Vegetarian', 'Sandwiches', 'Seafood', 'Spanish',\n",
              "       'Bakery Products/Desserts', 'Other', 'Hamburgers',\n",
              "       'Latin American', 'Asian/Asian Fusion', 'Indian', 'Jewish/Kosher',\n",
              "       'Bagels/Pretzels', 'Thai', 'Middle Eastern', 'Turkish', 'Peruvian',\n",
              "       'Brazilian', 'Hawaiian', 'Salads',\n",
              "       'Juice, Smoothies, Fruit Salads', 'Sandwiches/Salads/Mixed Buffet',\n",
              "       'Frozen Desserts', 'Barbecue', 'Korean', 'Greek', 'Creole',\n",
              "       'Hotdogs', 'Russian', 'Steakhouse', 'French', 'Eastern European',\n",
              "       'Southeast Asian', 'Chinese/Japanese', 'New French', 'Continental',\n",
              "       'German', 'Bottled Beverages', 'Tapas', 'Soups/Salads/Sandwiches',\n",
              "       'Irish', 'Bangladeshi', 'Filipino', 'Fusion', 'Australian',\n",
              "       'New American', 'Not Listed/Not Applicable', 'Indonesian', 'Cajun',\n",
              "       'Moroccan', 'Egyptian', 'Afghan', 'Chilean', 'Pancakes/Waffles',\n",
              "       'Chinese/Cuban', 'Pakistani', 'Portuguese', 'Lebanese',\n",
              "       'Creole/Cajun', 'Ethiopian', 'English', 'Southwestern',\n",
              "       'Fruits/Vegetables', 'Scandinavian', 'Armenian', 'Polish',\n",
              "       'Californian', 'Czech', 'Iranian', 'Soups', 'Nuts/Confectionary',\n",
              "       'Haute Cuisine', 'Basque', 'Chimichurri'], dtype=object)"
            ]
          },
          "metadata": {},
          "execution_count": 173
        }
      ],
      "source": [
        "mydf['CUISINE DESCRIPTION'].unique()"
      ]
    },
    {
      "cell_type": "code",
      "execution_count": 174,
      "id": "ff9f84b4",
      "metadata": {
        "id": "ff9f84b4"
      },
      "outputs": [],
      "source": [
        "unique_violations = ['10J', '09B', '02B', '06F', '04M', '09C', '09E', '02I', '10C', '04A', '10E', '04L', '04K', '10H', '06D', '10B', '06C', '10F',\n",
        "                     '09A', '08A', '02G', '10D', '08B', '08C', '06A', '04N', '04J', '10G', '04C', '04H', '05D', '10A', '10I', '06B', '02H', '06E',\n",
        "                     '03A', '02C', '28-06', '28-05', '02A', '22G', '05F', '05H', '03C', '04E', '03I', '04O', '05C', '03B', '04B', '06G', '05B', '04D',\n",
        "                     '02D', '04F', '04P', '05A', '02F', '22F', '03F', '03E', '05E', '03D', '03G', '18-11', '28-07', '09D', '04I']\n",
        "\n",
        "# Create dummy variables for all unique 'VIOLATION CODE'\n",
        "violation_dummies = pd.get_dummies(mydf['VIOLATION CODE']).astype(int)\n",
        "violation_dummies2 = pd.get_dummies(mydf['BORO']).astype(int)\n",
        "violation_dummies3 = pd.get_dummies(mydf['CUISINE DESCRIPTION']).astype(int)\n",
        "\n",
        "# Reverse the dummy variables to indicate whether a violation code occurred or not\n",
        "violation_occurred = violation_dummies.groupby(mydf['KEY']).apply(lambda x: x.max(axis=0)).reset_index(drop=True)\n",
        "violation_occurred2 = violation_dummies2.groupby(mydf['KEY']).apply(lambda x: x.max(axis=0)).reset_index(drop=True)\n",
        "violation_occurred3 = violation_dummies3.groupby(mydf['KEY']).apply(lambda x: x.max(axis=0)).reset_index(drop=True)\n",
        "\n",
        "grouped_df = mydf.groupby('KEY').agg({\n",
        "    'GRADE': 'first',\n",
        "    'SCORE': 'max',\n",
        "    'INSPECTION DATE':'first',\n",
        "    'CAMIS':'first',\n",
        "    'DBA':'first',\n",
        "    'Latitude':'first',\n",
        "    'Longitude':'first',\n",
        "}).reset_index()\n",
        "\n",
        "final_df = pd.concat([grouped_df, violation_occurred,violation_occurred2,violation_occurred3], axis=1)"
      ]
    },
    {
      "cell_type": "code",
      "execution_count": 175,
      "id": "9953dabf",
      "metadata": {
        "id": "9953dabf"
      },
      "outputs": [],
      "source": [
        "unique_boros=['Bronx','Brooklyn','Manhattan','Queens','Staten Island']"
      ]
    },
    {
      "cell_type": "code",
      "execution_count": 176,
      "id": "088b12f8",
      "metadata": {
        "colab": {
          "base_uri": "https://localhost:8080/"
        },
        "id": "088b12f8",
        "outputId": "d83817cb-3ff1-4789-e36f-e61617b1f590"
      },
      "outputs": [
        {
          "output_type": "execute_result",
          "data": {
            "text/plain": [
              "['Bronx', 'Brooklyn', 'Manhattan', 'Queens', 'Staten Island']"
            ]
          },
          "metadata": {},
          "execution_count": 176
        }
      ],
      "source": [
        "unique_boros"
      ]
    },
    {
      "cell_type": "code",
      "execution_count": 177,
      "id": "67f82279",
      "metadata": {
        "id": "67f82279"
      },
      "outputs": [],
      "source": [
        "unique_cuisine=mydf['CUISINE DESCRIPTION'].unique().tolist()"
      ]
    },
    {
      "cell_type": "markdown",
      "id": "457a82fd-064f-439d-95cb-078af2235d51",
      "metadata": {
        "id": "457a82fd-064f-439d-95cb-078af2235d51"
      },
      "source": [
        "# First Round of Clustering"
      ]
    },
    {
      "cell_type": "code",
      "execution_count": 178,
      "id": "d6c7beeb-d0ad-4510-ae4e-d91c7d8dc0f8",
      "metadata": {
        "colab": {
          "base_uri": "https://localhost:8080/"
        },
        "id": "d6c7beeb-d0ad-4510-ae4e-d91c7d8dc0f8",
        "outputId": "409bb63b-5720-4da7-aa9f-64e339979c6c"
      },
      "outputs": [
        {
          "output_type": "stream",
          "name": "stdout",
          "text": [
            "Requirement already satisfied: yellowbrick in /usr/local/lib/python3.10/dist-packages (1.5)\n",
            "Requirement already satisfied: matplotlib!=3.0.0,>=2.0.2 in /usr/local/lib/python3.10/dist-packages (from yellowbrick) (3.7.1)\n",
            "Requirement already satisfied: scipy>=1.0.0 in /usr/local/lib/python3.10/dist-packages (from yellowbrick) (1.11.4)\n",
            "Requirement already satisfied: scikit-learn>=1.0.0 in /usr/local/lib/python3.10/dist-packages (from yellowbrick) (1.2.2)\n",
            "Requirement already satisfied: numpy>=1.16.0 in /usr/local/lib/python3.10/dist-packages (from yellowbrick) (1.25.2)\n",
            "Requirement already satisfied: cycler>=0.10.0 in /usr/local/lib/python3.10/dist-packages (from yellowbrick) (0.12.1)\n",
            "Requirement already satisfied: contourpy>=1.0.1 in /usr/local/lib/python3.10/dist-packages (from matplotlib!=3.0.0,>=2.0.2->yellowbrick) (1.2.1)\n",
            "Requirement already satisfied: fonttools>=4.22.0 in /usr/local/lib/python3.10/dist-packages (from matplotlib!=3.0.0,>=2.0.2->yellowbrick) (4.51.0)\n",
            "Requirement already satisfied: kiwisolver>=1.0.1 in /usr/local/lib/python3.10/dist-packages (from matplotlib!=3.0.0,>=2.0.2->yellowbrick) (1.4.5)\n",
            "Requirement already satisfied: packaging>=20.0 in /usr/local/lib/python3.10/dist-packages (from matplotlib!=3.0.0,>=2.0.2->yellowbrick) (24.0)\n",
            "Requirement already satisfied: pillow>=6.2.0 in /usr/local/lib/python3.10/dist-packages (from matplotlib!=3.0.0,>=2.0.2->yellowbrick) (9.4.0)\n",
            "Requirement already satisfied: pyparsing>=2.3.1 in /usr/local/lib/python3.10/dist-packages (from matplotlib!=3.0.0,>=2.0.2->yellowbrick) (3.1.2)\n",
            "Requirement already satisfied: python-dateutil>=2.7 in /usr/local/lib/python3.10/dist-packages (from matplotlib!=3.0.0,>=2.0.2->yellowbrick) (2.8.2)\n",
            "Requirement already satisfied: joblib>=1.1.1 in /usr/local/lib/python3.10/dist-packages (from scikit-learn>=1.0.0->yellowbrick) (1.4.0)\n",
            "Requirement already satisfied: threadpoolctl>=2.0.0 in /usr/local/lib/python3.10/dist-packages (from scikit-learn>=1.0.0->yellowbrick) (3.5.0)\n",
            "Requirement already satisfied: six>=1.5 in /usr/local/lib/python3.10/dist-packages (from python-dateutil>=2.7->matplotlib!=3.0.0,>=2.0.2->yellowbrick) (1.16.0)\n"
          ]
        }
      ],
      "source": [
        "pip install yellowbrick"
      ]
    },
    {
      "cell_type": "code",
      "execution_count": 179,
      "id": "546832e6-2de4-4ea6-8624-6b08c2477209",
      "metadata": {
        "id": "546832e6-2de4-4ea6-8624-6b08c2477209"
      },
      "outputs": [],
      "source": [
        "from sklearn.preprocessing import LabelEncoder\n",
        "from sklearn.preprocessing import StandardScaler\n",
        "from sklearn.decomposition import PCA\n",
        "from yellowbrick.cluster import KElbowVisualizer\n",
        "from sklearn.cluster import KMeans\n",
        "import sys\n",
        "import warnings\n",
        "import sys\n",
        "if not sys.warnoptions:\n",
        "    warnings.simplefilter(\"ignore\")"
      ]
    },
    {
      "cell_type": "code",
      "execution_count": 180,
      "id": "36da6bae-4496-43fa-9c9d-f8570823a02e",
      "metadata": {
        "jp-MarkdownHeadingCollapsed": true,
        "colab": {
          "base_uri": "https://localhost:8080/",
          "height": 874
        },
        "id": "36da6bae-4496-43fa-9c9d-f8570823a02e",
        "outputId": "129bc326-5ece-45bb-9489-d6b8b75945d0"
      },
      "outputs": [
        {
          "output_type": "stream",
          "name": "stderr",
          "text": [
            "/usr/local/lib/python3.10/dist-packages/sklearn/cluster/_kmeans.py:870: FutureWarning: The default value of `n_init` will change from 10 to 'auto' in 1.4. Set the value of `n_init` explicitly to suppress the warning\n",
            "  warnings.warn(\n",
            "/usr/local/lib/python3.10/dist-packages/sklearn/cluster/_kmeans.py:870: FutureWarning: The default value of `n_init` will change from 10 to 'auto' in 1.4. Set the value of `n_init` explicitly to suppress the warning\n",
            "  warnings.warn(\n",
            "/usr/local/lib/python3.10/dist-packages/sklearn/cluster/_kmeans.py:870: FutureWarning: The default value of `n_init` will change from 10 to 'auto' in 1.4. Set the value of `n_init` explicitly to suppress the warning\n",
            "  warnings.warn(\n",
            "/usr/local/lib/python3.10/dist-packages/sklearn/cluster/_kmeans.py:870: FutureWarning: The default value of `n_init` will change from 10 to 'auto' in 1.4. Set the value of `n_init` explicitly to suppress the warning\n",
            "  warnings.warn(\n",
            "/usr/local/lib/python3.10/dist-packages/sklearn/cluster/_kmeans.py:870: FutureWarning: The default value of `n_init` will change from 10 to 'auto' in 1.4. Set the value of `n_init` explicitly to suppress the warning\n",
            "  warnings.warn(\n",
            "/usr/local/lib/python3.10/dist-packages/sklearn/cluster/_kmeans.py:870: FutureWarning: The default value of `n_init` will change from 10 to 'auto' in 1.4. Set the value of `n_init` explicitly to suppress the warning\n",
            "  warnings.warn(\n",
            "/usr/local/lib/python3.10/dist-packages/sklearn/cluster/_kmeans.py:870: FutureWarning: The default value of `n_init` will change from 10 to 'auto' in 1.4. Set the value of `n_init` explicitly to suppress the warning\n",
            "  warnings.warn(\n",
            "/usr/local/lib/python3.10/dist-packages/sklearn/cluster/_kmeans.py:870: FutureWarning: The default value of `n_init` will change from 10 to 'auto' in 1.4. Set the value of `n_init` explicitly to suppress the warning\n",
            "  warnings.warn(\n",
            "/usr/local/lib/python3.10/dist-packages/sklearn/cluster/_kmeans.py:870: FutureWarning: The default value of `n_init` will change from 10 to 'auto' in 1.4. Set the value of `n_init` explicitly to suppress the warning\n",
            "  warnings.warn(\n"
          ]
        },
        {
          "output_type": "display_data",
          "data": {
            "text/plain": [
              "<Figure size 800x550 with 2 Axes>"
            ],
            "image/png": "[encoded data removed]"
          },
          "metadata": {}
        },
        {
          "output_type": "execute_result",
          "data": {
            "text/plain": [
              "<Axes: title={'center': 'Distortion Score Elbow for KMeans Clustering'}, xlabel='k', ylabel='distortion score'>"
            ]
          },
          "metadata": {},
          "execution_count": 180
        }
      ],
      "source": [
        "X = final_df[unique_violations]\n",
        "Elbow_M = KElbowVisualizer(KMeans(),n_clusters = 4, k=10)\n",
        "Elbow_M.fit(X)\n",
        "Elbow_M.show()"
      ]
    },
    {
      "cell_type": "code",
      "source": [
        "from sklearn.cluster import KMeans\n",
        "\n",
        "cluster_range = range(2,50)\n",
        "cluster_wss = []\n",
        "\n",
        "for num_cluster in cluster_range:\n",
        "    clusters = KMeans(num_cluster)\n",
        "    clusters.fit(X)\n",
        "    cluster_wss.append(clusters.inertia_)\n",
        "\n",
        "plt.xlabel('# Clusters')\n",
        "plt.ylabel('WSS')\n",
        "plt.plot(cluster_range, cluster_wss, marker = 'o')\n",
        "plt.show()"
      ],
      "metadata": {
        "colab": {
          "base_uri": "https://localhost:8080/",
          "height": 1000
        },
        "id": "s8MyeYuKU1_x",
        "outputId": "fc9f46ff-7193-42f2-b0d7-82a94f406a54"
      },
      "id": "s8MyeYuKU1_x",
      "execution_count": 181,
      "outputs": [
        {
          "output_type": "stream",
          "name": "stderr",
          "text": [
            "/usr/local/lib/python3.10/dist-packages/sklearn/cluster/_kmeans.py:870: FutureWarning: The default value of `n_init` will change from 10 to 'auto' in 1.4. Set the value of `n_init` explicitly to suppress the warning\n",
            "  warnings.warn(\n",
            "/usr/local/lib/python3.10/dist-packages/sklearn/cluster/_kmeans.py:870: FutureWarning: The default value of `n_init` will change from 10 to 'auto' in 1.4. Set the value of `n_init` explicitly to suppress the warning\n",
            "  warnings.warn(\n",
            "/usr/local/lib/python3.10/dist-packages/sklearn/cluster/_kmeans.py:870: FutureWarning: The default value of `n_init` will change from 10 to 'auto' in 1.4. Set the value of `n_init` explicitly to suppress the warning\n",
            "  warnings.warn(\n",
            "/usr/local/lib/python3.10/dist-packages/sklearn/cluster/_kmeans.py:870: FutureWarning: The default value of `n_init` will change from 10 to 'auto' in 1.4. Set the value of `n_init` explicitly to suppress the warning\n",
            "  warnings.warn(\n",
            "/usr/local/lib/python3.10/dist-packages/sklearn/cluster/_kmeans.py:870: FutureWarning: The default value of `n_init` will change from 10 to 'auto' in 1.4. Set the value of `n_init` explicitly to suppress the warning\n",
            "  warnings.warn(\n",
            "/usr/local/lib/python3.10/dist-packages/sklearn/cluster/_kmeans.py:870: FutureWarning: The default value of `n_init` will change from 10 to 'auto' in 1.4. Set the value of `n_init` explicitly to suppress the warning\n",
            "  warnings.warn(\n",
            "/usr/local/lib/python3.10/dist-packages/sklearn/cluster/_kmeans.py:870: FutureWarning: The default value of `n_init` will change from 10 to 'auto' in 1.4. Set the value of `n_init` explicitly to suppress the warning\n",
            "  warnings.warn(\n",
            "/usr/local/lib/python3.10/dist-packages/sklearn/cluster/_kmeans.py:870: FutureWarning: The default value of `n_init` will change from 10 to 'auto' in 1.4. Set the value of `n_init` explicitly to suppress the warning\n",
            "  warnings.warn(\n",
            "/usr/local/lib/python3.10/dist-packages/sklearn/cluster/_kmeans.py:870: FutureWarning: The default value of `n_init` will change from 10 to 'auto' in 1.4. Set the value of `n_init` explicitly to suppress the warning\n",
            "  warnings.warn(\n",
            "/usr/local/lib/python3.10/dist-packages/sklearn/cluster/_kmeans.py:870: FutureWarning: The default value of `n_init` will change from 10 to 'auto' in 1.4. Set the value of `n_init` explicitly to suppress the warning\n",
            "  warnings.warn(\n",
            "/usr/local/lib/python3.10/dist-packages/sklearn/cluster/_kmeans.py:870: FutureWarning: The default value of `n_init` will change from 10 to 'auto' in 1.4. Set the value of `n_init` explicitly to suppress the warning\n",
            "  warnings.warn(\n",
            "/usr/local/lib/python3.10/dist-packages/sklearn/cluster/_kmeans.py:870: FutureWarning: The default value of `n_init` will change from 10 to 'auto' in 1.4. Set the value of `n_init` explicitly to suppress the warning\n",
            "  warnings.warn(\n",
            "/usr/local/lib/python3.10/dist-packages/sklearn/cluster/_kmeans.py:870: FutureWarning: The default value of `n_init` will change from 10 to 'auto' in 1.4. Set the value of `n_init` explicitly to suppress the warning\n",
            "  warnings.warn(\n",
            "/usr/local/lib/python3.10/dist-packages/sklearn/cluster/_kmeans.py:870: FutureWarning: The default value of `n_init` will change from 10 to 'auto' in 1.4. Set the value of `n_init` explicitly to suppress the warning\n",
            "  warnings.warn(\n",
            "/usr/local/lib/python3.10/dist-packages/sklearn/cluster/_kmeans.py:870: FutureWarning: The default value of `n_init` will change from 10 to 'auto' in 1.4. Set the value of `n_init` explicitly to suppress the warning\n",
            "  warnings.warn(\n",
            "/usr/local/lib/python3.10/dist-packages/sklearn/cluster/_kmeans.py:870: FutureWarning: The default value of `n_init` will change from 10 to 'auto' in 1.4. Set the value of `n_init` explicitly to suppress the warning\n",
            "  warnings.warn(\n",
            "/usr/local/lib/python3.10/dist-packages/sklearn/cluster/_kmeans.py:870: FutureWarning: The default value of `n_init` will change from 10 to 'auto' in 1.4. Set the value of `n_init` explicitly to suppress the warning\n",
            "  warnings.warn(\n",
            "/usr/local/lib/python3.10/dist-packages/sklearn/cluster/_kmeans.py:870: FutureWarning: The default value of `n_init` will change from 10 to 'auto' in 1.4. Set the value of `n_init` explicitly to suppress the warning\n",
            "  warnings.warn(\n",
            "/usr/local/lib/python3.10/dist-packages/sklearn/cluster/_kmeans.py:870: FutureWarning: The default value of `n_init` will change from 10 to 'auto' in 1.4. Set the value of `n_init` explicitly to suppress the warning\n",
            "  warnings.warn(\n",
            "/usr/local/lib/python3.10/dist-packages/sklearn/cluster/_kmeans.py:870: FutureWarning: The default value of `n_init` will change from 10 to 'auto' in 1.4. Set the value of `n_init` explicitly to suppress the warning\n",
            "  warnings.warn(\n",
            "/usr/local/lib/python3.10/dist-packages/sklearn/cluster/_kmeans.py:870: FutureWarning: The default value of `n_init` will change from 10 to 'auto' in 1.4. Set the value of `n_init` explicitly to suppress the warning\n",
            "  warnings.warn(\n",
            "/usr/local/lib/python3.10/dist-packages/sklearn/cluster/_kmeans.py:870: FutureWarning: The default value of `n_init` will change from 10 to 'auto' in 1.4. Set the value of `n_init` explicitly to suppress the warning\n",
            "  warnings.warn(\n",
            "/usr/local/lib/python3.10/dist-packages/sklearn/cluster/_kmeans.py:870: FutureWarning: The default value of `n_init` will change from 10 to 'auto' in 1.4. Set the value of `n_init` explicitly to suppress the warning\n",
            "  warnings.warn(\n",
            "/usr/local/lib/python3.10/dist-packages/sklearn/cluster/_kmeans.py:870: FutureWarning: The default value of `n_init` will change from 10 to 'auto' in 1.4. Set the value of `n_init` explicitly to suppress the warning\n",
            "  warnings.warn(\n",
            "/usr/local/lib/python3.10/dist-packages/sklearn/cluster/_kmeans.py:870: FutureWarning: The default value of `n_init` will change from 10 to 'auto' in 1.4. Set the value of `n_init` explicitly to suppress the warning\n",
            "  warnings.warn(\n",
            "/usr/local/lib/python3.10/dist-packages/sklearn/cluster/_kmeans.py:870: FutureWarning: The default value of `n_init` will change from 10 to 'auto' in 1.4. Set the value of `n_init` explicitly to suppress the warning\n",
            "  warnings.warn(\n",
            "/usr/local/lib/python3.10/dist-packages/sklearn/cluster/_kmeans.py:870: FutureWarning: The default value of `n_init` will change from 10 to 'auto' in 1.4. Set the value of `n_init` explicitly to suppress the warning\n",
            "  warnings.warn(\n",
            "/usr/local/lib/python3.10/dist-packages/sklearn/cluster/_kmeans.py:870: FutureWarning: The default value of `n_init` will change from 10 to 'auto' in 1.4. Set the value of `n_init` explicitly to suppress the warning\n",
            "  warnings.warn(\n",
            "/usr/local/lib/python3.10/dist-packages/sklearn/cluster/_kmeans.py:870: FutureWarning: The default value of `n_init` will change from 10 to 'auto' in 1.4. Set the value of `n_init` explicitly to suppress the warning\n",
            "  warnings.warn(\n",
            "/usr/local/lib/python3.10/dist-packages/sklearn/cluster/_kmeans.py:870: FutureWarning: The default value of `n_init` will change from 10 to 'auto' in 1.4. Set the value of `n_init` explicitly to suppress the warning\n",
            "  warnings.warn(\n",
            "/usr/local/lib/python3.10/dist-packages/sklearn/cluster/_kmeans.py:870: FutureWarning: The default value of `n_init` will change from 10 to 'auto' in 1.4. Set the value of `n_init` explicitly to suppress the warning\n",
            "  warnings.warn(\n",
            "/usr/local/lib/python3.10/dist-packages/sklearn/cluster/_kmeans.py:870: FutureWarning: The default value of `n_init` will change from 10 to 'auto' in 1.4. Set the value of `n_init` explicitly to suppress the warning\n",
            "  warnings.warn(\n",
            "/usr/local/lib/python3.10/dist-packages/sklearn/cluster/_kmeans.py:870: FutureWarning: The default value of `n_init` will change from 10 to 'auto' in 1.4. Set the value of `n_init` explicitly to suppress the warning\n",
            "  warnings.warn(\n",
            "/usr/local/lib/python3.10/dist-packages/sklearn/cluster/_kmeans.py:870: FutureWarning: The default value of `n_init` will change from 10 to 'auto' in 1.4. Set the value of `n_init` explicitly to suppress the warning\n",
            "  warnings.warn(\n",
            "/usr/local/lib/python3.10/dist-packages/sklearn/cluster/_kmeans.py:870: FutureWarning: The default value of `n_init` will change from 10 to 'auto' in 1.4. Set the value of `n_init` explicitly to suppress the warning\n",
            "  warnings.warn(\n",
            "/usr/local/lib/python3.10/dist-packages/sklearn/cluster/_kmeans.py:870: FutureWarning: The default value of `n_init` will change from 10 to 'auto' in 1.4. Set the value of `n_init` explicitly to suppress the warning\n",
            "  warnings.warn(\n",
            "/usr/local/lib/python3.10/dist-packages/sklearn/cluster/_kmeans.py:870: FutureWarning: The default value of `n_init` will change from 10 to 'auto' in 1.4. Set the value of `n_init` explicitly to suppress the warning\n",
            "  warnings.warn(\n",
            "/usr/local/lib/python3.10/dist-packages/sklearn/cluster/_kmeans.py:870: FutureWarning: The default value of `n_init` will change from 10 to 'auto' in 1.4. Set the value of `n_init` explicitly to suppress the warning\n",
            "  warnings.warn(\n",
            "/usr/local/lib/python3.10/dist-packages/sklearn/cluster/_kmeans.py:870: FutureWarning: The default value of `n_init` will change from 10 to 'auto' in 1.4. Set the value of `n_init` explicitly to suppress the warning\n",
            "  warnings.warn(\n",
            "/usr/local/lib/python3.10/dist-packages/sklearn/cluster/_kmeans.py:870: FutureWarning: The default value of `n_init` will change from 10 to 'auto' in 1.4. Set the value of `n_init` explicitly to suppress the warning\n",
            "  warnings.warn(\n",
            "/usr/local/lib/python3.10/dist-packages/sklearn/cluster/_kmeans.py:870: FutureWarning: The default value of `n_init` will change from 10 to 'auto' in 1.4. Set the value of `n_init` explicitly to suppress the warning\n",
            "  warnings.warn(\n",
            "/usr/local/lib/python3.10/dist-packages/sklearn/cluster/_kmeans.py:870: FutureWarning: The default value of `n_init` will change from 10 to 'auto' in 1.4. Set the value of `n_init` explicitly to suppress the warning\n",
            "  warnings.warn(\n",
            "/usr/local/lib/python3.10/dist-packages/sklearn/cluster/_kmeans.py:870: FutureWarning: The default value of `n_init` will change from 10 to 'auto' in 1.4. Set the value of `n_init` explicitly to suppress the warning\n",
            "  warnings.warn(\n",
            "/usr/local/lib/python3.10/dist-packages/sklearn/cluster/_kmeans.py:870: FutureWarning: The default value of `n_init` will change from 10 to 'auto' in 1.4. Set the value of `n_init` explicitly to suppress the warning\n",
            "  warnings.warn(\n",
            "/usr/local/lib/python3.10/dist-packages/sklearn/cluster/_kmeans.py:870: FutureWarning: The default value of `n_init` will change from 10 to 'auto' in 1.4. Set the value of `n_init` explicitly to suppress the warning\n",
            "  warnings.warn(\n",
            "/usr/local/lib/python3.10/dist-packages/sklearn/cluster/_kmeans.py:870: FutureWarning: The default value of `n_init` will change from 10 to 'auto' in 1.4. Set the value of `n_init` explicitly to suppress the warning\n",
            "  warnings.warn(\n",
            "/usr/local/lib/python3.10/dist-packages/sklearn/cluster/_kmeans.py:870: FutureWarning: The default value of `n_init` will change from 10 to 'auto' in 1.4. Set the value of `n_init` explicitly to suppress the warning\n",
            "  warnings.warn(\n",
            "/usr/local/lib/python3.10/dist-packages/sklearn/cluster/_kmeans.py:870: FutureWarning: The default value of `n_init` will change from 10 to 'auto' in 1.4. Set the value of `n_init` explicitly to suppress the warning\n",
            "  warnings.warn(\n"
          ]
        },
        {
          "output_type": "display_data",
          "data": {
            "text/plain": [
              "<Figure size 800x550 with 1 Axes>"
            ],
            "image/png": "[encoded data removed]"
          },
          "metadata": {}
        }
      ]
    },
    {
      "cell_type": "code",
      "execution_count": 182,
      "id": "d4d90bf1-9007-42ed-a5ea-21b8905eb04c",
      "metadata": {
        "colab": {
          "base_uri": "https://localhost:8080/"
        },
        "id": "d4d90bf1-9007-42ed-a5ea-21b8905eb04c",
        "outputId": "363ba950-e798-461e-dda4-5c2835df4e88"
      },
      "outputs": [
        {
          "output_type": "stream",
          "name": "stdout",
          "text": [
            "Number of rows per year (ascending order):\n",
            "      Count  Cumulative Count  Cumulative Percentage\n",
            "Year                                                \n",
            "2015      6                 6               0.016028\n",
            "2016    129               135               0.360635\n",
            "2017    374               509               1.359726\n",
            "2018    502              1011               2.700753\n",
            "2019   1388              2399               6.408612\n",
            "2020   1322              3721               9.940161\n",
            "2021   3313              7034              18.790404\n",
            "2022  14775             21809              58.259871\n",
            "2023  14941             36750              98.172784\n",
            "2024    684             37434             100.000000\n"
          ]
        }
      ],
      "source": [
        "final_df['INSPECTION DATE'] = pd.to_datetime(final_df['INSPECTION DATE'])\n",
        "\n",
        "final_df['Year'] = final_df['INSPECTION DATE'].dt.year\n",
        "\n",
        "count_per_year = final_df['Year'].value_counts().sort_index(ascending=True)\n",
        "\n",
        "cumulative_count = count_per_year.cumsum()\n",
        "total_count = cumulative_count.max()\n",
        "cumulative_percentage = cumulative_count / total_count * 100\n",
        "\n",
        "\n",
        "result_df = pd.DataFrame({'Count': count_per_year,'Cumulative Count': cumulative_count,'Cumulative Percentage': cumulative_percentage})\n",
        "\n",
        "print(\"Number of rows per year (ascending order):\")\n",
        "print(result_df)"
      ]
    },
    {
      "cell_type": "markdown",
      "source": [
        "We are working with an approx split of 60-40 , considering the split by Date since our data has a time component."
      ],
      "metadata": {
        "id": "txvqq1gNmKon"
      },
      "id": "txvqq1gNmKon"
    },
    {
      "cell_type": "code",
      "execution_count": 183,
      "id": "bcc1da12-f339-4623-8cea-967ded762610",
      "metadata": {
        "id": "bcc1da12-f339-4623-8cea-967ded762610"
      },
      "outputs": [],
      "source": [
        "filter_test = final_df[final_df['Year'].isin([2023, 2024])]"
      ]
    },
    {
      "cell_type": "code",
      "execution_count": 184,
      "id": "1c20a8ae-80c3-4831-ba0b-6817b43d42c1",
      "metadata": {
        "id": "1c20a8ae-80c3-4831-ba0b-6817b43d42c1"
      },
      "outputs": [],
      "source": [
        "filter_train = final_df[final_df['Year'].isin([2015, 2016,2017,2018,2019,2020,2021,2022])]"
      ]
    },
    {
      "cell_type": "code",
      "execution_count": 185,
      "id": "e095ddc1-4180-463a-bacb-199b453f0854",
      "metadata": {
        "colab": {
          "base_uri": "https://localhost:8080/"
        },
        "id": "e095ddc1-4180-463a-bacb-199b453f0854",
        "outputId": "fc358d3c-02c8-4144-8897-c99d29eff09b"
      },
      "outputs": [
        {
          "output_type": "stream",
          "name": "stdout",
          "text": [
            "Requirement already satisfied: scikit-learn-extra in /usr/local/lib/python3.10/dist-packages (0.3.0)\n",
            "Requirement already satisfied: numpy>=1.13.3 in /usr/local/lib/python3.10/dist-packages (from scikit-learn-extra) (1.25.2)\n",
            "Requirement already satisfied: scipy>=0.19.1 in /usr/local/lib/python3.10/dist-packages (from scikit-learn-extra) (1.11.4)\n",
            "Requirement already satisfied: scikit-learn>=0.23.0 in /usr/local/lib/python3.10/dist-packages (from scikit-learn-extra) (1.2.2)\n",
            "Requirement already satisfied: joblib>=1.1.1 in /usr/local/lib/python3.10/dist-packages (from scikit-learn>=0.23.0->scikit-learn-extra) (1.4.0)\n",
            "Requirement already satisfied: threadpoolctl>=2.0.0 in /usr/local/lib/python3.10/dist-packages (from scikit-learn>=0.23.0->scikit-learn-extra) (3.5.0)\n"
          ]
        }
      ],
      "source": [
        "pip install scikit-learn-extra"
      ]
    },
    {
      "cell_type": "code",
      "execution_count": 186,
      "id": "896f961a-6f17-4e8c-87ea-b6fabeec1fe6",
      "metadata": {
        "id": "896f961a-6f17-4e8c-87ea-b6fabeec1fe6"
      },
      "outputs": [],
      "source": [
        "X_train=filter_train[unique_violations]\n",
        "X_test=filter_test[unique_violations]\n",
        "y_train=filter_train['SCORE']\n",
        "y_test=filter_test['SCORE']"
      ]
    },
    {
      "cell_type": "code",
      "execution_count": 187,
      "id": "c5fc3dcb-4748-4aaf-9dba-39494d801928",
      "metadata": {
        "colab": {
          "base_uri": "https://localhost:8080/"
        },
        "id": "c5fc3dcb-4748-4aaf-9dba-39494d801928",
        "outputId": "784222d5-5a67-473f-ed99-dc6e17e78ce6"
      },
      "outputs": [
        {
          "output_type": "stream",
          "name": "stderr",
          "text": [
            "/usr/local/lib/python3.10/dist-packages/sklearn/cluster/_kmeans.py:870: FutureWarning: The default value of `n_init` will change from 10 to 'auto' in 1.4. Set the value of `n_init` explicitly to suppress the warning\n",
            "  warnings.warn(\n"
          ]
        },
        {
          "output_type": "stream",
          "name": "stdout",
          "text": [
            "Cluster\n",
            "0    17.648365\n",
            "1    16.753309\n",
            "2    10.381439\n",
            "3     9.500982\n",
            "Name: Test Data, dtype: float64\n"
          ]
        }
      ],
      "source": [
        "from sklearn.cluster import KMeans\n",
        "import numpy as np\n",
        "import pandas as pd\n",
        "\n",
        "def calculate_median(X):\n",
        "    return np.median(X, axis=0)\n",
        "\n",
        "def median_distance(X, medians):\n",
        "    return np.linalg.norm(X - medians, ord=1, axis=1)\n",
        "\n",
        "\n",
        "def kmedians_fit(X, n_clusters, random_state=0, max_iter=300):\n",
        "\n",
        "    kmeans = KMeans(n_clusters=n_clusters, init='random', random_state=random_state, max_iter=max_iter)\n",
        "    kmeans.fit(X)\n",
        "\n",
        "    # Calculate the median for each cluster\n",
        "    cluster_medians = []\n",
        "    for i in range(n_clusters):\n",
        "        cluster_data = X[kmeans.labels_ == i]\n",
        "        median = calculate_median(cluster_data)\n",
        "        cluster_medians.append(median)\n",
        "\n",
        "    # Return the cluster labels and medians\n",
        "    return kmeans.labels_, np.array(cluster_medians)\n",
        "\n",
        "train_clusters, train_medians = kmedians_fit(X_train.values, n_clusters=4)\n",
        "\n",
        "test_distances = np.array([median_distance(X_test.values, train_medians[i]) for i in range(4)])\n",
        "test_clusters = np.argmin(test_distances, axis=0)\n",
        "\n",
        "# Create a DataFrame to store test data and their predicted clusters\n",
        "test_cluster_df = pd.DataFrame({'Test Data': y_test, 'Cluster': test_clusters})\n",
        "\n",
        "# Calculate the average score by cluster\n",
        "average_score_by_cluster = test_cluster_df.groupby('Cluster')['Test Data'].mean()\n",
        "print(average_score_by_cluster)\n",
        "\n",
        "\n"
      ]
    },
    {
      "cell_type": "code",
      "execution_count": 188,
      "id": "43fc1d75-bfbd-4ee2-807a-eb0bfd59bfae",
      "metadata": {
        "colab": {
          "base_uri": "https://localhost:8080/"
        },
        "id": "43fc1d75-bfbd-4ee2-807a-eb0bfd59bfae",
        "outputId": "759df17a-2092-4cc6-ae9e-3f1b239d985e"
      },
      "outputs": [
        {
          "output_type": "stream",
          "name": "stdout",
          "text": [
            "Silhouette Score: 0.18648685066459944\n"
          ]
        }
      ],
      "source": [
        "from sklearn.metrics import silhouette_score\n",
        "\n",
        "silhouette_avg = silhouette_score(X_test, test_clusters)\n",
        "\n",
        "print(\"Silhouette Score:\", silhouette_avg)"
      ]
    },
    {
      "cell_type": "code",
      "execution_count": 189,
      "id": "86ee86f8-969f-4a18-a246-44e248f03150",
      "metadata": {
        "colab": {
          "base_uri": "https://localhost:8080/"
        },
        "id": "86ee86f8-969f-4a18-a246-44e248f03150",
        "outputId": "30366a3e-3367-4b8d-dd0c-ae7129c9f8cd"
      },
      "outputs": [
        {
          "output_type": "stream",
          "name": "stderr",
          "text": [
            "<ipython-input-189-6546f980c730>:1: SettingWithCopyWarning: \n",
            "A value is trying to be set on a copy of a slice from a DataFrame.\n",
            "Try using .loc[row_indexer,col_indexer] = value instead\n",
            "\n",
            "See the caveats in the documentation: https://pandas.pydata.org/pandas-docs/stable/user_guide/indexing.html#returning-a-view-versus-a-copy\n",
            "  filter_train['Cluster'] = train_clusters\n",
            "<ipython-input-189-6546f980c730>:2: SettingWithCopyWarning: \n",
            "A value is trying to be set on a copy of a slice from a DataFrame.\n",
            "Try using .loc[row_indexer,col_indexer] = value instead\n",
            "\n",
            "See the caveats in the documentation: https://pandas.pydata.org/pandas-docs/stable/user_guide/indexing.html#returning-a-view-versus-a-copy\n",
            "  filter_test['Cluster'] = test_clusters\n",
            "<ipython-input-189-6546f980c730>:4: SettingWithCopyWarning: \n",
            "A value is trying to be set on a copy of a slice from a DataFrame.\n",
            "Try using .loc[row_indexer,col_indexer] = value instead\n",
            "\n",
            "See the caveats in the documentation: https://pandas.pydata.org/pandas-docs/stable/user_guide/indexing.html#returning-a-view-versus-a-copy\n",
            "  filter_train['Data Source'] = 'Training'\n",
            "<ipython-input-189-6546f980c730>:5: SettingWithCopyWarning: \n",
            "A value is trying to be set on a copy of a slice from a DataFrame.\n",
            "Try using .loc[row_indexer,col_indexer] = value instead\n",
            "\n",
            "See the caveats in the documentation: https://pandas.pydata.org/pandas-docs/stable/user_guide/indexing.html#returning-a-view-versus-a-copy\n",
            "  filter_test['Data Source'] = 'Test'\n"
          ]
        }
      ],
      "source": [
        "filter_train['Cluster'] = train_clusters\n",
        "filter_test['Cluster'] = test_clusters\n",
        "\n",
        "filter_train['Data Source'] = 'Training'\n",
        "filter_test['Data Source'] = 'Test'\n",
        "\n",
        "combined_data = pd.concat([filter_train, filter_test], axis=0)"
      ]
    },
    {
      "cell_type": "code",
      "execution_count": 190,
      "id": "4757a06e-2e19-4408-8d4a-9b6ba7a5806c",
      "metadata": {
        "colab": {
          "base_uri": "https://localhost:8080/"
        },
        "id": "4757a06e-2e19-4408-8d4a-9b6ba7a5806c",
        "outputId": "177de255-7929-4c8e-b5a1-7a547ed911f8"
      },
      "outputs": [
        {
          "output_type": "stream",
          "name": "stdout",
          "text": [
            "Cluster\n",
            "3    16217\n",
            "2    12320\n",
            "1     4974\n",
            "0     3923\n",
            "Name: count, dtype: int64\n"
          ]
        }
      ],
      "source": [
        "cluster_counts = combined_data['Cluster'].value_counts()\n",
        "print(cluster_counts)"
      ]
    },
    {
      "cell_type": "markdown",
      "id": "9cb08e10-b1e6-42a4-9957-8d6878be0265",
      "metadata": {
        "id": "9cb08e10-b1e6-42a4-9957-8d6878be0265"
      },
      "source": [
        "##__CLUSTER 0__"
      ]
    },
    {
      "cell_type": "code",
      "execution_count": 191,
      "id": "a28653e6-7483-483c-b2b3-fb2676166db1",
      "metadata": {
        "id": "a28653e6-7483-483c-b2b3-fb2676166db1"
      },
      "outputs": [],
      "source": [
        "cluster_0 = combined_data[combined_data['Cluster'] == 0]"
      ]
    },
    {
      "cell_type": "code",
      "execution_count": 192,
      "id": "7965173d-61c6-4202-a125-ce3767a8e2ae",
      "metadata": {
        "id": "7965173d-61c6-4202-a125-ce3767a8e2ae"
      },
      "outputs": [],
      "source": [
        "cluster_0.to_csv('cluster0.csv')"
      ]
    },
    {
      "cell_type": "code",
      "execution_count": 193,
      "id": "1e01fcee-9e32-41fa-a0bf-00979805fe26",
      "metadata": {
        "colab": {
          "base_uri": "https://localhost:8080/"
        },
        "id": "1e01fcee-9e32-41fa-a0bf-00979805fe26",
        "outputId": "37070471-9a30-44ae-fa46-6069ac75383a"
      },
      "outputs": [
        {
          "output_type": "stream",
          "name": "stdout",
          "text": [
            "        Sum\n",
            "08A    3732\n",
            "04N    3617\n",
            "10F    1019\n",
            "04L     744\n",
            "10B     603\n",
            "...     ...\n",
            "03D       0\n",
            "03G       0\n",
            "18-11     0\n",
            "04B       0\n",
            "04I       0\n",
            "\n",
            "[69 rows x 1 columns]\n"
          ]
        }
      ],
      "source": [
        "sum_of_unique_violations = cluster_0[unique_violations].sum()\n",
        "\n",
        "sum_table = pd.DataFrame(sum_of_unique_violations, columns=['Sum'])\n",
        "\n",
        "sum_table_sorted = sum_table.sort_values(by='Sum', ascending=False)\n",
        "\n",
        "print(sum_table_sorted)"
      ]
    },
    {
      "cell_type": "code",
      "execution_count": 194,
      "id": "8cc14c67-0731-40b6-9c9e-0445a119edd9",
      "metadata": {
        "colab": {
          "base_uri": "https://localhost:8080/",
          "height": 601
        },
        "id": "8cc14c67-0731-40b6-9c9e-0445a119edd9",
        "outputId": "85ec6034-9cea-44a5-e1ba-e5d26c898fd6"
      },
      "outputs": [
        {
          "output_type": "display_data",
          "data": {
            "text/plain": [
              "<Figure size 1000x600 with 1 Axes>"
            ],
            "image/png": "[encoded data removed]"
          },
          "metadata": {}
        }
      ],
      "source": [
        "import matplotlib.pyplot as plt\n",
        "\n",
        "sum_table_sorted = sum_table.sort_values(by='Sum', ascending=False).head(10)\n",
        "plt.figure(figsize=(10, 6))\n",
        "plt.bar(sum_table_sorted.index, sum_table_sorted['Sum'], color='skyblue')\n",
        "plt.xlabel('Unique Violation Column')\n",
        "plt.ylabel('Sum of Values')\n",
        "plt.title('Sum of Values for Each Unique Violation Column')\n",
        "plt.xticks(rotation=45, ha='right')\n",
        "plt.tight_layout()\n",
        "plt.show()\n",
        "\n",
        "# pests, mice, and flies\n",
        "# 08A: conditions conducive to presence of pests\n",
        "# 04N: filth flies\n",
        "# 10F: Non-food contact surfaces (wall, ceiling, floors) improperly constructed/maintained\n",
        "# 04L: evidence of mice\n"
      ]
    },
    {
      "cell_type": "code",
      "execution_count": 195,
      "id": "0c402e69-036a-4fbf-9c5f-333d166db564",
      "metadata": {
        "colab": {
          "base_uri": "https://localhost:8080/"
        },
        "id": "0c402e69-036a-4fbf-9c5f-333d166db564",
        "outputId": "d7756437-7d3d-47b7-b1c5-6a1241a2733a"
      },
      "outputs": [
        {
          "output_type": "stream",
          "name": "stdout",
          "text": [
            "Number of rows per year (ascending order):\n",
            "      Count  Cumulative Count  Cumulative Percentage\n",
            "Year                                                \n",
            "2015      1                 1               0.025491\n",
            "2016     13                14               0.356870\n",
            "2017     46                60               1.529442\n",
            "2018     55               115               2.931430\n",
            "2019    143               258               6.576600\n",
            "2020     76               334               8.513892\n",
            "2021    468               802              20.443538\n",
            "2022   1500              2302              58.679582\n",
            "2023   1569              3871              98.674484\n",
            "2024     52              3923             100.000000\n"
          ]
        }
      ],
      "source": [
        "count_per_year_0 = cluster_0['Year'].value_counts().sort_index(ascending=True)\n",
        "\n",
        "cumulative_count_0 = count_per_year_0.cumsum()\n",
        "total_count_0 = cumulative_count_0.max()\n",
        "cumulative_percentage_0 = cumulative_count_0 / total_count_0 * 100\n",
        "\n",
        "result_df_0 = pd.DataFrame({'Count': count_per_year_0,'Cumulative Count': cumulative_count_0,'Cumulative Percentage': cumulative_percentage_0})\n",
        "\n",
        "print(\"Number of rows per year (ascending order):\")\n",
        "print(result_df_0)"
      ]
    },
    {
      "cell_type": "code",
      "execution_count": 196,
      "id": "96e0f2f5-fcff-4b69-bee5-7d0d5652945a",
      "metadata": {
        "id": "96e0f2f5-fcff-4b69-bee5-7d0d5652945a"
      },
      "outputs": [],
      "source": [
        "cluster_0 = cluster_0[cluster_0['SCORE'] != 0]"
      ]
    },
    {
      "cell_type": "code",
      "execution_count": 197,
      "id": "97fffdf2-d7af-4602-a54a-0104b49640f3",
      "metadata": {
        "colab": {
          "base_uri": "https://localhost:8080/"
        },
        "id": "97fffdf2-d7af-4602-a54a-0104b49640f3",
        "outputId": "0dd664f5-4ead-4839-a17d-adcdfbbe5dfb"
      },
      "outputs": [
        {
          "output_type": "stream",
          "name": "stdout",
          "text": [
            "Number of rows per year (ascending order):\n",
            "      Count  Cumulative Count  Cumulative Percentage\n",
            "Year                                                \n",
            "2015      1                 1               0.026539\n",
            "2016     13                14               0.371550\n",
            "2017     46                60               1.592357\n",
            "2018     55               115               3.052017\n",
            "2019    143               258               6.847134\n",
            "2020     76               334               8.864119\n",
            "2021    466               800              21.231423\n",
            "2022   1347              2147              56.979830\n",
            "2023   1569              3716              98.619958\n",
            "2024     52              3768             100.000000\n"
          ]
        }
      ],
      "source": [
        "count_per_year_0 = cluster_0['Year'].value_counts().sort_index(ascending=True)\n",
        "\n",
        "cumulative_count_0 = count_per_year_0.cumsum()\n",
        "total_count_0 = cumulative_count_0.max()\n",
        "cumulative_percentage_0 = cumulative_count_0 / total_count_0 * 100\n",
        "\n",
        "result_df_0 = pd.DataFrame({'Count': count_per_year_0,'Cumulative Count': cumulative_count_0,'Cumulative Percentage': cumulative_percentage_0})\n",
        "\n",
        "print(\"Number of rows per year (ascending order):\")\n",
        "print(result_df_0)"
      ]
    },
    {
      "cell_type": "code",
      "execution_count": 198,
      "id": "5820d360-e963-4142-a6cf-447154452ba2",
      "metadata": {
        "id": "5820d360-e963-4142-a6cf-447154452ba2"
      },
      "outputs": [],
      "source": [
        "filter_test_0 = cluster_0[cluster_0['Year'].isin([2023, 2024])]\n",
        "filter_train_0 = cluster_0[cluster_0['Year'].isin([2015, 2016,2017,2018,2019,2020,2021,2022])]\n",
        "X_train=filter_train_0[unique_violations]\n",
        "X_test=filter_test_0[unique_violations]\n",
        "y_train=filter_train_0['SCORE']\n",
        "y_test=filter_test_0['SCORE']"
      ]
    },
    {
      "cell_type": "code",
      "execution_count": 199,
      "id": "a3fc8d4a-3afc-4c1e-8c16-b2c49e72e3a1",
      "metadata": {
        "colab": {
          "base_uri": "https://localhost:8080/"
        },
        "id": "a3fc8d4a-3afc-4c1e-8c16-b2c49e72e3a1",
        "outputId": "a49cc798-e165-4f22-97cb-7d02a457f722"
      },
      "outputs": [
        {
          "output_type": "execute_result",
          "data": {
            "text/plain": [
              "2147"
            ]
          },
          "metadata": {},
          "execution_count": 199
        }
      ],
      "source": [
        "len(filter_train_0)"
      ]
    },
    {
      "cell_type": "code",
      "source": [
        "import statsmodels.api as sm\n",
        "import pandas as pd"
      ],
      "metadata": {
        "id": "Zs24dOAwchVt"
      },
      "id": "Zs24dOAwchVt",
      "execution_count": 200,
      "outputs": []
    },
    {
      "cell_type": "markdown",
      "source": [
        "### Linear"
      ],
      "metadata": {
        "id": "VPHKJzRujfOi"
      },
      "id": "VPHKJzRujfOi"
    },
    {
      "cell_type": "code",
      "execution_count": 201,
      "id": "d0881530-ecc6-4de8-8748-8401eec9fbd8",
      "metadata": {
        "colab": {
          "base_uri": "https://localhost:8080/"
        },
        "id": "d0881530-ecc6-4de8-8748-8401eec9fbd8",
        "outputId": "1a2bacac-e117-4ce4-de54-ddb4647fef80"
      },
      "outputs": [
        {
          "output_type": "stream",
          "name": "stdout",
          "text": [
            "                            OLS Regression Results                            \n",
            "==============================================================================\n",
            "Dep. Variable:                  SCORE   R-squared:                       0.860\n",
            "Model:                            OLS   Adj. R-squared:                  0.856\n",
            "Method:                 Least Squares   F-statistic:                     225.5\n",
            "Date:                Fri, 03 May 2024   Prob (F-statistic):               0.00\n",
            "Time:                        04:11:17   Log-Likelihood:                -5994.0\n",
            "No. Observations:                2147   AIC:                         1.210e+04\n",
            "Df Residuals:                    2089   BIC:                         1.243e+04\n",
            "Df Model:                          57                                         \n",
            "Covariance Type:            nonrobust                                         \n",
            "==============================================================================\n",
            "                 coef    std err          t      P>|t|      [0.025      0.975]\n",
            "------------------------------------------------------------------------------\n",
            "10J            0.6165      1.298      0.475      0.635      -1.928       3.161\n",
            "09B            1.3771      0.707      1.947      0.052      -0.010       2.764\n",
            "02B            7.7337      0.365     21.165      0.000       7.017       8.450\n",
            "06F            4.8631      0.736      6.606      0.000       3.419       6.307\n",
            "04M            0.4964      0.314      1.581      0.114      -0.120       1.112\n",
            "09C            2.7835      0.469      5.939      0.000       1.864       3.703\n",
            "09E            1.7309      2.314      0.748      0.454      -2.806       6.268\n",
            "02I           10.0361      2.099      4.782      0.000       5.920      14.152\n",
            "10C            2.4112      2.013      1.198      0.231      -1.537       6.359\n",
            "04A            8.8423      0.441     20.064      0.000       7.978       9.707\n",
            "10E            2.4260      0.731      3.317      0.001       0.992       3.860\n",
            "04L            0.3481      0.225      1.544      0.123      -0.094       0.790\n",
            "04K            1.0861      0.547      1.984      0.047       0.013       2.159\n",
            "10H            1.9684      0.540      3.646      0.000       0.910       3.027\n",
            "06D            6.2230      0.352     17.671      0.000       5.532       6.914\n",
            "10B            2.1830      0.265      8.250      0.000       1.664       2.702\n",
            "06C            7.0724      0.400     17.692      0.000       6.288       7.856\n",
            "10F            2.1063      0.202     10.408      0.000       1.709       2.503\n",
            "09A            1.2410      1.136      1.093      0.275      -0.986       3.468\n",
            "08A            4.4574      0.467      9.544      0.000       3.542       5.373\n",
            "02G            9.2369      0.359     25.717      0.000       8.533       9.941\n",
            "10D            1.7957      1.026      1.751      0.080      -0.216       3.807\n",
            "08B            1.5902      0.847      1.878      0.060      -0.070       3.251\n",
            "08C            3.0597      0.376      8.127      0.000       2.321       3.798\n",
            "06A            6.0595      0.569     10.642      0.000       4.943       7.176\n",
            "04N            6.0290      0.462     13.058      0.000       5.124       6.934\n",
            "04J            9.4179      0.959      9.824      0.000       7.538      11.298\n",
            "10G            5.4047      0.845      6.398      0.000       3.748       7.061\n",
            "04C            6.0869      0.986      6.174      0.000       4.154       8.020\n",
            "04H            7.3346      0.408     17.993      0.000       6.535       8.134\n",
            "05D           12.2684      0.779     15.743      0.000      10.740      13.797\n",
            "10A            3.0331      1.253      2.421      0.016       0.577       5.490\n",
            "10I            2.4095      0.933      2.582      0.010       0.580       4.239\n",
            "06B            9.0040      1.322      6.809      0.000       6.411      11.597\n",
            "02H            8.9392      0.673     13.287      0.000       7.620      10.259\n",
            "06E            3.4622      0.846      4.092      0.000       1.803       5.122\n",
            "03A           11.3865      1.601      7.112      0.000       8.247      14.526\n",
            "02C           12.1882      1.951      6.247      0.000       8.362      16.014\n",
            "28-06          5.7658      1.173      4.917      0.000       3.466       8.065\n",
            "28-05          1.2450      1.979      0.629      0.529      -2.635       5.125\n",
            "02A            9.2708      2.877      3.223      0.001       3.629      14.912\n",
            "22G         3.816e-15   1.89e-15      2.020      0.044    1.11e-16    7.52e-15\n",
            "05F           12.2464      1.926      6.358      0.000       8.469      16.024\n",
            "05H           33.9054      2.410     14.071      0.000      29.180      38.631\n",
            "03C            7.5806      4.096      1.851      0.064      -0.452      15.613\n",
            "04E           12.8438      2.585      4.970      0.000       7.775      17.912\n",
            "03I            7.4048      4.095      1.808      0.071      -0.626      15.436\n",
            "04O            2.1600      1.934      1.117      0.264      -1.633       5.953\n",
            "05C           24.8899      3.017      8.251      0.000      18.974      30.806\n",
            "03B           18.1279      3.018      6.007      0.000      12.209      24.047\n",
            "04B        -1.025e-14   2.25e-15     -4.554      0.000   -1.47e-14   -5.83e-15\n",
            "06G        -1.916e-16   9.19e-16     -0.209      0.835   -1.99e-15    1.61e-15\n",
            "05B        -5.156e-15   7.39e-16     -6.979      0.000    -6.6e-15   -3.71e-15\n",
            "04D           19.6028      2.882      6.801      0.000      13.951      25.255\n",
            "02D           -0.2138      4.264     -0.050      0.960      -8.576       8.148\n",
            "04F           18.9044      5.325      3.550      0.000       8.462      29.347\n",
            "04P        -7.094e-16   1.37e-16     -5.190      0.000   -9.78e-16   -4.41e-16\n",
            "05A           49.5136      4.003     12.369      0.000      41.663      57.364\n",
            "02F            2.7607      3.127      0.883      0.377      -3.372       8.893\n",
            "22F                 0          0        nan        nan           0           0\n",
            "03F                 0          0        nan        nan           0           0\n",
            "03E            7.4029      4.099      1.806      0.071      -0.636      15.441\n",
            "05E           10.7302      6.344      1.691      0.091      -1.712      23.172\n",
            "03D                 0          0        nan        nan           0           0\n",
            "03G                 0          0        nan        nan           0           0\n",
            "18-11               0          0        nan        nan           0           0\n",
            "28-07         -1.2699      4.029     -0.315      0.753      -9.171       6.631\n",
            "09D            0.0349      4.478      0.008      0.994      -8.748       8.817\n",
            "04I                 0          0        nan        nan           0           0\n",
            "==============================================================================\n",
            "Omnibus:                     1656.212   Durbin-Watson:                   1.962\n",
            "Prob(Omnibus):                  0.000   Jarque-Bera (JB):            38263.089\n",
            "Skew:                           3.479   Prob(JB):                         0.00\n",
            "Kurtosis:                      22.476   Cond. No.                     1.03e+16\n",
            "==============================================================================\n",
            "\n",
            "Notes:\n",
            "[1] Standard Errors assume that the covariance matrix of the errors is correctly specified.\n",
            "[2] The smallest eigenvalue is 4.32e-29. This might indicate that there are\n",
            "strong multicollinearity problems or that the design matrix is singular.\n"
          ]
        }
      ],
      "source": [
        "c0_X_train = sm.add_constant(X_train)\n",
        "c0_X_test = X_test\n",
        "c0_lin_model = sm.OLS(y_train, c0_X_train)\n",
        "results = c0_lin_model.fit()\n",
        "c1_lin_pred_0 = results.predict(c0_X_test)\n",
        "print(results.summary())"
      ]
    },
    {
      "cell_type": "code",
      "execution_count": 202,
      "id": "4d1009c5-8701-4880-9ca6-27a0f9469490",
      "metadata": {
        "colab": {
          "base_uri": "https://localhost:8080/"
        },
        "id": "4d1009c5-8701-4880-9ca6-27a0f9469490",
        "outputId": "36a2d2f7-f422-491f-cce8-5fcc65d61472"
      },
      "outputs": [
        {
          "output_type": "stream",
          "name": "stdout",
          "text": [
            "Mean Absolute Percentage Error (MAPE) 14.44410769962533\n"
          ]
        }
      ],
      "source": [
        "from sklearn.metrics import mean_absolute_error\n",
        "\n",
        "y_true = y_test\n",
        "y_pred = c1_lin_pred_0\n",
        "\n",
        "def mean_absolute_percentage_error(y_true, y_pred):\n",
        "    y_true, y_pred = np.array(y_true), np.array(y_pred)\n",
        "    return np.mean(np.abs((y_true - y_pred) / y_true)) * 100\n",
        "\n",
        "mape0 = mean_absolute_percentage_error(y_true, y_pred)\n",
        "print(\"Mean Absolute Percentage Error (MAPE)\", mape0)"
      ]
    },
    {
      "cell_type": "markdown",
      "id": "976f074c-b623-4052-a751-5bffe123905f",
      "metadata": {
        "id": "976f074c-b623-4052-a751-5bffe123905f"
      },
      "source": [
        "### Ridge"
      ]
    },
    {
      "cell_type": "code",
      "execution_count": 203,
      "id": "e0b75ef2-a67a-4a27-b7bd-ce8fdd9ddef1",
      "metadata": {
        "id": "e0b75ef2-a67a-4a27-b7bd-ce8fdd9ddef1"
      },
      "outputs": [],
      "source": [
        "from sklearn.model_selection import train_test_split\n",
        "from sklearn.linear_model import LinearRegression\n",
        "from sklearn.metrics import mean_squared_error\n",
        "import matplotlib.pyplot as plt"
      ]
    },
    {
      "cell_type": "code",
      "execution_count": 204,
      "id": "38890e2f-b1be-413d-ae69-a029ca0ac609",
      "metadata": {
        "colab": {
          "base_uri": "https://localhost:8080/"
        },
        "id": "38890e2f-b1be-413d-ae69-a029ca0ac609",
        "outputId": "de7df97a-f01c-4ce1-fc5c-9a00a397877d"
      },
      "outputs": [
        {
          "output_type": "stream",
          "name": "stdout",
          "text": [
            "The best alpha from RidgeCV: 174.7528400007683\n"
          ]
        }
      ],
      "source": [
        "alphas = 10**np.linspace(-2,5,100)\n",
        "ridgecv = RidgeCV(alphas=alphas, scoring='neg_mean_squared_error')\n",
        "ridgecv.fit(scale(X_train), y_train)\n",
        "\n",
        "print('The best alpha from RidgeCV:', ridgecv.alpha_)"
      ]
    },
    {
      "cell_type": "code",
      "execution_count": 205,
      "id": "8465b0f5-4072-4e70-99dd-c60311d51cad",
      "metadata": {
        "id": "8465b0f5-4072-4e70-99dd-c60311d51cad"
      },
      "outputs": [],
      "source": [
        "from sklearn.preprocessing import StandardScaler\n",
        "\n",
        "scaler = StandardScaler().fit(X_train)"
      ]
    },
    {
      "cell_type": "code",
      "execution_count": 206,
      "id": "06ce2268-30e1-48df-8b16-1cf293b3821e",
      "metadata": {
        "colab": {
          "base_uri": "https://localhost:8080/"
        },
        "id": "06ce2268-30e1-48df-8b16-1cf293b3821e",
        "outputId": "11ab777f-027a-46e5-a240-3a0f790372e1"
      },
      "outputs": [
        {
          "output_type": "execute_result",
          "data": {
            "text/plain": [
              "21.013"
            ]
          },
          "metadata": {},
          "execution_count": 206
        }
      ],
      "source": [
        "from sklearn.linear_model import Ridge\n",
        "from sklearn.preprocessing import StandardScaler\n",
        "\n",
        "scaler = StandardScaler().fit(X_train)\n",
        "\n",
        "\n",
        "X_test_scaled = scaler.transform(X_test)\n",
        "\n",
        "\n",
        "ridge = Ridge(alpha=1.0)\n",
        "ridge.fit(scaler.transform(X_train), y_train)\n",
        "\n",
        "\n",
        "pu_ridge_prediction = ridge.predict(X_test_scaled)\n",
        "\n",
        "pu_ridge_mse = round(mean_squared_error(y_test, pu_ridge_prediction), 3)\n",
        "pu_ridge_mse"
      ]
    },
    {
      "cell_type": "code",
      "source": [
        "# MAPE VALUE OF RIDGE REGRESSION\n",
        "y3_true = y_test\n",
        "y3_pred = pu_ridge_prediction\n",
        "\n",
        "def mean_absolute_percentage_error(y3_true, y3_pred):\n",
        "    y3_true, y3_pred = np.array(y3_true), np.array(y3_pred)\n",
        "    return np.mean(np.abs((y3_true - y3_pred) / y3_true)) * 100\n",
        "\n",
        "mape3 = mean_absolute_percentage_error(y3_true, y3_pred)\n",
        "print(\"Mean Absolute Percentage Error (MAPE)\", mape3)"
      ],
      "metadata": {
        "colab": {
          "base_uri": "https://localhost:8080/"
        },
        "id": "Xw8q_JemeLkT",
        "outputId": "c356df24-1fd7-47b6-bdf5-885de2024ecd"
      },
      "id": "Xw8q_JemeLkT",
      "execution_count": 207,
      "outputs": [
        {
          "output_type": "stream",
          "name": "stdout",
          "text": [
            "Mean Absolute Percentage Error (MAPE) 13.053246521484546\n"
          ]
        }
      ]
    },
    {
      "cell_type": "code",
      "execution_count": 208,
      "id": "0e4274a4-95a4-42f0-9390-22799cf46c04",
      "metadata": {
        "colab": {
          "base_uri": "https://localhost:8080/",
          "height": 524
        },
        "id": "0e4274a4-95a4-42f0-9390-22799cf46c04",
        "outputId": "32fbc1ff-a9f6-4cc3-8dee-db5778baac87"
      },
      "outputs": [
        {
          "output_type": "display_data",
          "data": {
            "text/plain": [
              "<Figure size 800x550 with 1 Axes>"
            ],
            "image/png": "[encoded data removed]"
          },
          "metadata": {}
        }
      ],
      "source": [
        "import matplotlib.pyplot as plt\n",
        "\n",
        "residuals = y_test - pu_ridge_prediction\n",
        "\n",
        "plt.scatter(pu_ridge_prediction, residuals)\n",
        "plt.axhline(y=0, color='r', linestyle='--')\n",
        "plt.xlabel('Predicted Values')\n",
        "plt.ylabel('Residuals')\n",
        "plt.title('Residual Plot')\n",
        "plt.grid(True)\n",
        "plt.show()"
      ]
    },
    {
      "cell_type": "markdown",
      "source": [
        "### Lasso"
      ],
      "metadata": {
        "id": "-cNozc3gfGm8"
      },
      "id": "-cNozc3gfGm8"
    },
    {
      "cell_type": "code",
      "execution_count": 209,
      "metadata": {
        "id": "a2z-0mzcBEbF"
      },
      "outputs": [],
      "source": [
        "lasso_reg = Lasso(alpha=1.0)\n",
        "lasso_reg.fit(X_train, y_train)\n",
        "c2_las_pred = lasso_reg.predict(c0_X_test)"
      ],
      "id": "a2z-0mzcBEbF"
    },
    {
      "cell_type": "code",
      "execution_count": 210,
      "metadata": {
        "colab": {
          "base_uri": "https://localhost:8080/"
        },
        "id": "CcVFUtOzBMrN",
        "outputId": "6a8c0b83-b158-41a3-f4f7-7ddf1d0b51be"
      },
      "outputs": [
        {
          "output_type": "stream",
          "name": "stdout",
          "text": [
            "Mean Absolute Percentage Error (MAPE) 34.33072902459307\n"
          ]
        }
      ],
      "source": [
        "y2_true = y_test\n",
        "y2_pred = c2_las_pred\n",
        "\n",
        "def mean_absolute_percentage_error(y2_true, y2_pred):\n",
        "    y2_true, y2_pred = np.array(y2_true), np.array(y2_pred)\n",
        "    return np.mean(np.abs((y2_true - y2_pred) / y2_true)) * 100\n",
        "\n",
        "mape2 = mean_absolute_percentage_error(y2_true, y2_pred)\n",
        "print(\"Mean Absolute Percentage Error (MAPE)\", mape2)"
      ],
      "id": "CcVFUtOzBMrN"
    },
    {
      "cell_type": "markdown",
      "id": "faad15ac-15e0-4294-b69c-5c068af7a447",
      "metadata": {
        "id": "faad15ac-15e0-4294-b69c-5c068af7a447"
      },
      "source": [
        "### Predicting the values"
      ]
    },
    {
      "cell_type": "code",
      "execution_count": 211,
      "id": "6d3991db-9146-4081-8c41-ef47bc0599fe",
      "metadata": {
        "colab": {
          "base_uri": "https://localhost:8080/"
        },
        "id": "6d3991db-9146-4081-8c41-ef47bc0599fe",
        "outputId": "feeb9603-0152-4c06-de8e-686e268884f3"
      },
      "outputs": [
        {
          "output_type": "stream",
          "name": "stderr",
          "text": [
            "<ipython-input-211-1f958910c644>:1: SettingWithCopyWarning: \n",
            "A value is trying to be set on a copy of a slice from a DataFrame.\n",
            "Try using .loc[row_indexer,col_indexer] = value instead\n",
            "\n",
            "See the caveats in the documentation: https://pandas.pydata.org/pandas-docs/stable/user_guide/indexing.html#returning-a-view-versus-a-copy\n",
            "  filter_test_0['PREDICTED_SCORE'] = ridge.predict(X_test_scaled)\n",
            "<ipython-input-211-1f958910c644>:3: SettingWithCopyWarning: \n",
            "A value is trying to be set on a copy of a slice from a DataFrame.\n",
            "Try using .loc[row_indexer,col_indexer] = value instead\n",
            "\n",
            "See the caveats in the documentation: https://pandas.pydata.org/pandas-docs/stable/user_guide/indexing.html#returning-a-view-versus-a-copy\n",
            "  filter_train_0['PREDICTED_SCORE'] = ridge.predict(X_train_scaled)\n"
          ]
        }
      ],
      "source": [
        "filter_test_0['PREDICTED_SCORE'] = ridge.predict(X_test_scaled)\n",
        "X_train_scaled = scaler.transform(X_train)\n",
        "filter_train_0['PREDICTED_SCORE'] = ridge.predict(X_train_scaled)"
      ]
    },
    {
      "cell_type": "code",
      "execution_count": 212,
      "id": "7b4ac0ea-e6b2-472c-950c-1a93b7fc6829",
      "metadata": {
        "id": "7b4ac0ea-e6b2-472c-950c-1a93b7fc6829"
      },
      "outputs": [],
      "source": [
        "merged_df_0 = pd.concat([filter_test_0, filter_train_0], ignore_index=True)"
      ]
    },
    {
      "cell_type": "markdown",
      "id": "61c34d98-1709-44f7-bf35-9f2a6357581d",
      "metadata": {
        "id": "61c34d98-1709-44f7-bf35-9f2a6357581d"
      },
      "source": [
        "## __CLUSTER 1__"
      ]
    },
    {
      "cell_type": "code",
      "execution_count": 213,
      "id": "bc59b0e9-47f4-4a5f-97e2-40209dd99356",
      "metadata": {
        "id": "bc59b0e9-47f4-4a5f-97e2-40209dd99356"
      },
      "outputs": [],
      "source": [
        "cluster_1 = combined_data[combined_data['Cluster'] == 1]"
      ]
    },
    {
      "cell_type": "code",
      "execution_count": 214,
      "id": "c42a28ac-6dd9-4217-b14a-51391b95d047",
      "metadata": {
        "colab": {
          "base_uri": "https://localhost:8080/"
        },
        "id": "c42a28ac-6dd9-4217-b14a-51391b95d047",
        "outputId": "1890c543-f508-41a7-ef75-026235c85144"
      },
      "outputs": [
        {
          "output_type": "stream",
          "name": "stdout",
          "text": [
            "      Sum\n",
            "08A  4888\n",
            "04L  4394\n",
            "10F  1617\n",
            "10B   793\n",
            "04M   704\n",
            "..    ...\n",
            "03F     0\n",
            "22F     0\n",
            "02F     0\n",
            "22G     0\n",
            "04I     0\n",
            "\n",
            "[69 rows x 1 columns]\n"
          ]
        }
      ],
      "source": [
        "sum_of_unique_violations_1 = cluster_1[unique_violations].sum()\n",
        "\n",
        "sum_table1 = pd.DataFrame(sum_of_unique_violations_1, columns=['Sum'])\n",
        "\n",
        "sum_table_sorted1 = sum_table1.sort_values(by='Sum', ascending=False)\n",
        "\n",
        "print(sum_table_sorted1)\n",
        "\n",
        "# 08A: Conditions conducive to pests\n",
        "# 04L: evidence of mice\n",
        "# 10F: Flooring improperly constructed and/or maintained\n",
        "# 10B: improper disposal of sewage or liquid waste\n",
        "# 04M: roaches"
      ]
    },
    {
      "cell_type": "code",
      "execution_count": 215,
      "id": "de1dbf22-d135-435c-8b2d-ef1dfc902093",
      "metadata": {
        "colab": {
          "base_uri": "https://localhost:8080/",
          "height": 601
        },
        "id": "de1dbf22-d135-435c-8b2d-ef1dfc902093",
        "outputId": "88247133-1599-41a7-b29e-ee7cbea9b329"
      },
      "outputs": [
        {
          "output_type": "display_data",
          "data": {
            "text/plain": [
              "<Figure size 1000x600 with 1 Axes>"
            ],
            "image/png": "[encoded data removed]"
          },
          "metadata": {}
        }
      ],
      "source": [
        "import matplotlib.pyplot as plt\n",
        "\n",
        "sum_table_sorted1 = sum_table1.sort_values(by='Sum', ascending=False).head(10)\n",
        "plt.figure(figsize=(10, 6))\n",
        "plt.bar(sum_table_sorted1.index, sum_table_sorted1['Sum'], color='skyblue')\n",
        "plt.xlabel('Unique Violation Column')\n",
        "plt.ylabel('Sum of Values')\n",
        "plt.title('Sum of Values for Each Unique Violation Column')\n",
        "plt.xticks(rotation=45, ha='right')\n",
        "plt.tight_layout()\n",
        "plt.show()"
      ]
    },
    {
      "cell_type": "code",
      "execution_count": 216,
      "id": "5b1edc0d-6ba2-4ea5-a822-6bb46db1a8a6",
      "metadata": {
        "id": "5b1edc0d-6ba2-4ea5-a822-6bb46db1a8a6"
      },
      "outputs": [],
      "source": [
        "cluster_1 = cluster_1[cluster_1['SCORE'] != 0]"
      ]
    },
    {
      "cell_type": "code",
      "execution_count": 217,
      "id": "7963b433-a0b6-4f60-bcf9-82b37935e8e5",
      "metadata": {
        "id": "7963b433-a0b6-4f60-bcf9-82b37935e8e5"
      },
      "outputs": [],
      "source": [
        "filter_test_1 = cluster_1[cluster_1['Year'].isin([2023, 2024])]\n",
        "filter_train_1 = cluster_1[cluster_1['Year'].isin([2015, 2016,2017,2018,2019,2020,2021,2022])]\n",
        "X_train=filter_train_1[unique_violations]\n",
        "X_test=filter_test_1[unique_violations]\n",
        "y_train=filter_train_1['SCORE']\n",
        "y_test=filter_test_1['SCORE']"
      ]
    },
    {
      "cell_type": "markdown",
      "id": "bcdfd2b2-8765-45e5-9e4f-e7810d01df7c",
      "metadata": {
        "id": "bcdfd2b2-8765-45e5-9e4f-e7810d01df7c"
      },
      "source": [
        "### Linear Model"
      ]
    },
    {
      "cell_type": "code",
      "execution_count": 218,
      "id": "025b4bf6-7619-4f06-8dbb-577be06757b3",
      "metadata": {
        "colab": {
          "base_uri": "https://localhost:8080/"
        },
        "id": "025b4bf6-7619-4f06-8dbb-577be06757b3",
        "outputId": "2a5d808b-bf55-4fe1-944f-6879bc9e63dd"
      },
      "outputs": [
        {
          "output_type": "stream",
          "name": "stdout",
          "text": [
            "                                 OLS Regression Results                                \n",
            "=======================================================================================\n",
            "Dep. Variable:                  SCORE   R-squared (uncentered):                   0.961\n",
            "Model:                            OLS   Adj. R-squared (uncentered):              0.960\n",
            "Method:                 Least Squares   F-statistic:                              1270.\n",
            "Date:                Fri, 03 May 2024   Prob (F-statistic):                        0.00\n",
            "Time:                        04:11:22   Log-Likelihood:                         -7713.6\n",
            "No. Observations:                2907   AIC:                                  1.554e+04\n",
            "Df Residuals:                    2852   BIC:                                  1.587e+04\n",
            "Df Model:                          55                                                  \n",
            "Covariance Type:            nonrobust                                                  \n",
            "==============================================================================\n",
            "                 coef    std err          t      P>|t|      [0.025      0.975]\n",
            "------------------------------------------------------------------------------\n",
            "10J            1.5713      0.902      1.743      0.081      -0.197       3.339\n",
            "09B            2.2976      0.429      5.359      0.000       1.457       3.138\n",
            "02B            8.0428      0.256     31.430      0.000       7.541       8.545\n",
            "06F            4.3292      0.620      6.986      0.000       3.114       5.544\n",
            "04M            1.1846      0.245      4.845      0.000       0.705       1.664\n",
            "09C            2.0018      0.315      6.348      0.000       1.384       2.620\n",
            "09E            0.3213      2.043      0.157      0.875      -3.684       4.327\n",
            "02I            5.9953      1.434      4.182      0.000       3.184       8.806\n",
            "10C            1.5683      1.052      1.491      0.136      -0.494       3.631\n",
            "04A           10.7716      0.327     32.985      0.000      10.131      11.412\n",
            "10E            2.3129      0.563      4.108      0.000       1.209       3.417\n",
            "04L            0.9959      0.261      3.811      0.000       0.484       1.508\n",
            "04K            0.5253      0.293      1.791      0.073      -0.050       1.100\n",
            "10H            3.0308      0.356      8.515      0.000       2.333       3.729\n",
            "06D            6.4257      0.289     22.209      0.000       5.858       6.993\n",
            "10B            2.4219      0.185     13.107      0.000       2.060       2.784\n",
            "06C            6.1606      0.292     21.075      0.000       5.587       6.734\n",
            "10F            2.3278      0.141     16.463      0.000       2.051       2.605\n",
            "09A            2.3696      0.973      2.436      0.015       0.462       4.277\n",
            "08A            8.9944      0.272     33.045      0.000       8.461       9.528\n",
            "02G            8.1169      0.260     31.161      0.000       7.606       8.628\n",
            "10D            2.3006      0.530      4.338      0.000       1.261       3.341\n",
            "08B            1.7496      1.423      1.229      0.219      -1.041       4.540\n",
            "08C            2.2105      0.258      8.565      0.000       1.704       2.717\n",
            "06A            4.5245      0.415     10.899      0.000       3.710       5.338\n",
            "04N         6.548e-15   1.98e-15      3.314      0.001    2.67e-15    1.04e-14\n",
            "04J            6.0569      0.774      7.825      0.000       4.539       7.575\n",
            "10G            7.3580      0.693     10.615      0.000       5.999       8.717\n",
            "04C            5.1572      1.110      4.648      0.000       2.981       7.333\n",
            "04H            5.9291      0.420     14.132      0.000       5.106       6.752\n",
            "05D           11.1348      0.550     20.237      0.000      10.056      12.214\n",
            "10A            1.4707      0.901      1.633      0.103      -0.296       3.237\n",
            "10I            2.8431      0.481      5.913      0.000       1.900       3.786\n",
            "06B            8.4817      0.949      8.935      0.000       6.620      10.343\n",
            "02H            6.8276      0.527     12.947      0.000       5.794       7.862\n",
            "06E            6.2652      0.562     11.143      0.000       5.163       7.368\n",
            "03A            8.3740      1.741      4.809      0.000       4.960      11.788\n",
            "02C            4.4736      1.328      3.369      0.001       1.870       7.077\n",
            "28-06          4.1803      0.977      4.280      0.000       2.265       6.095\n",
            "28-05          2.1392      3.517      0.608      0.543      -4.757       9.035\n",
            "02A        -3.025e-15   1.02e-15     -2.953      0.003   -5.03e-15   -1.02e-15\n",
            "22G        -8.653e-15   1.36e-15     -6.340      0.000   -1.13e-14   -5.98e-15\n",
            "05F           14.9248      1.760      8.478      0.000      11.473      18.376\n",
            "05H           23.4525      1.569     14.947      0.000      20.376      26.529\n",
            "03C        -1.837e-16   1.08e-15     -0.169      0.866   -2.31e-15    1.94e-15\n",
            "04E            5.7991      3.479      1.667      0.096      -1.023      12.622\n",
            "03I         7.705e-15   9.68e-16      7.963      0.000    5.81e-15     9.6e-15\n",
            "04O            6.4342      1.752      3.673      0.000       2.999       9.869\n",
            "05C           27.7831      2.480     11.202      0.000      22.920      32.646\n",
            "03B            5.8649      2.589      2.265      0.024       0.788      10.941\n",
            "04B            9.0096      3.471      2.596      0.009       2.203      15.816\n",
            "06G        -3.647e-17   5.91e-16     -0.062      0.951    -1.2e-15    1.12e-15\n",
            "05B            7.5839      3.482      2.178      0.030       0.756      14.412\n",
            "04D           10.6118      2.467      4.301      0.000       5.774      15.450\n",
            "02D            2.7934      3.495      0.799      0.424      -4.060       9.646\n",
            "04F            4.8174      2.582      1.866      0.062      -0.245       9.880\n",
            "04P            9.7894      3.533      2.771      0.006       2.862      16.717\n",
            "05A           17.5706      1.556     11.292      0.000      14.519      20.622\n",
            "02F                 0          0        nan        nan           0           0\n",
            "22F                 0          0        nan        nan           0           0\n",
            "03F                 0          0        nan        nan           0           0\n",
            "03E           12.6707      3.539      3.580      0.000       5.731      19.611\n",
            "05E                 0          0        nan        nan           0           0\n",
            "03D                 0          0        nan        nan           0           0\n",
            "03G                 0          0        nan        nan           0           0\n",
            "18-11          0.1565      3.483      0.045      0.964      -6.674       6.987\n",
            "28-07               0          0        nan        nan           0           0\n",
            "09D            0.6818      3.472      0.196      0.844      -6.126       7.490\n",
            "04I                 0          0        nan        nan           0           0\n",
            "==============================================================================\n",
            "Omnibus:                     2695.778   Durbin-Watson:                   2.051\n",
            "Prob(Omnibus):                  0.000   Jarque-Bera (JB):           101232.821\n",
            "Skew:                           4.463   Prob(JB):                         0.00\n",
            "Kurtosis:                      30.497   Cond. No.                     2.50e+16\n",
            "==============================================================================\n",
            "\n",
            "Notes:\n",
            "[1] R² is computed without centering (uncentered) since the model does not contain a constant.\n",
            "[2] Standard Errors assume that the covariance matrix of the errors is correctly specified.\n",
            "[3] The smallest eigenvalue is 8.89e-30. This might indicate that there are\n",
            "strong multicollinearity problems or that the design matrix is singular.\n"
          ]
        }
      ],
      "source": [
        "c1_X_train = (X_train)\n",
        "c1_X_test = sm.add_constant(X_test)\n",
        "c1_lin_model = sm.OLS(y_train, c1_X_train)\n",
        "results = c1_lin_model.fit()\n",
        "c1_lin_pred_1 = results.predict(c1_X_test)\n",
        "print(results.summary())"
      ]
    },
    {
      "cell_type": "code",
      "execution_count": 219,
      "id": "a3bd3d02-1731-41e1-9cef-7f8569e5491a",
      "metadata": {
        "colab": {
          "base_uri": "https://localhost:8080/"
        },
        "id": "a3bd3d02-1731-41e1-9cef-7f8569e5491a",
        "outputId": "9c4c7cc4-6f7b-45fe-cbe5-05d9bebc1c05"
      },
      "outputs": [
        {
          "output_type": "stream",
          "name": "stdout",
          "text": [
            "Mean Absolute Percentage Error (MAPE) 10.031611024532213\n"
          ]
        }
      ],
      "source": [
        "from sklearn.metrics import mean_absolute_error\n",
        "\n",
        "y_true = y_test\n",
        "y_pred = c1_lin_pred_1\n",
        "\n",
        "def mean_absolute_percentage_error(y_true, y_pred):\n",
        "    y_true, y_pred = np.array(y_true), np.array(y_pred)\n",
        "    return np.mean(np.abs((y_true - y_pred) / y_true)) * 100\n",
        "\n",
        "mape = mean_absolute_percentage_error(y_true, y_pred)\n",
        "print(\"Mean Absolute Percentage Error (MAPE)\", mape)"
      ]
    },
    {
      "cell_type": "markdown",
      "id": "10d68c7a-ff73-45d0-b996-8af648a438a0",
      "metadata": {
        "id": "10d68c7a-ff73-45d0-b996-8af648a438a0"
      },
      "source": [
        "### Ridge"
      ]
    },
    {
      "cell_type": "code",
      "execution_count": 220,
      "id": "77b7dd86-ffac-4a83-b1bb-d874979f322b",
      "metadata": {
        "colab": {
          "base_uri": "https://localhost:8080/"
        },
        "id": "77b7dd86-ffac-4a83-b1bb-d874979f322b",
        "outputId": "3db868ae-bebb-42b5-cc5a-033572170ccc"
      },
      "outputs": [
        {
          "output_type": "execute_result",
          "data": {
            "text/plain": [
              "15.423"
            ]
          },
          "metadata": {},
          "execution_count": 220
        }
      ],
      "source": [
        "from sklearn.linear_model import Ridge\n",
        "from sklearn.preprocessing import StandardScaler\n",
        "\n",
        "scaler = StandardScaler().fit(X_train)\n",
        "\n",
        "\n",
        "X_test_scaled = scaler.transform(X_test)\n",
        "\n",
        "\n",
        "ridge = Ridge(alpha=1.0)\n",
        "ridge.fit(scaler.transform(X_train), y_train)\n",
        "\n",
        "\n",
        "pu_ridge_prediction1 = ridge.predict(X_test_scaled)\n",
        "\n",
        "pu_ridge_mse_1 = round(mean_squared_error(y_test, pu_ridge_prediction1), 3)\n",
        "pu_ridge_mse_1"
      ]
    },
    {
      "cell_type": "code",
      "source": [
        "# MAPE VALUE OF RIDGE REGRESSION\n",
        "y_true = y_test\n",
        "y_pred = pu_ridge_prediction1\n",
        "\n",
        "def mean_absolute_percentage_error(y_true, y_pred):\n",
        "    y_true, y_pred = np.array(y_true), np.array(y_pred)\n",
        "    return np.mean(np.abs((y_true - y_pred) / y_true)) * 100\n",
        "\n",
        "mape = mean_absolute_percentage_error(y_true, y_pred)\n",
        "print(\"Mean Absolute Percentage Error (MAPE)\", mape)"
      ],
      "metadata": {
        "colab": {
          "base_uri": "https://localhost:8080/"
        },
        "id": "EUXtb5x7ePmm",
        "outputId": "f72bbbfd-868b-4bfd-856d-ca15879b7b3f"
      },
      "id": "EUXtb5x7ePmm",
      "execution_count": 221,
      "outputs": [
        {
          "output_type": "stream",
          "name": "stdout",
          "text": [
            "Mean Absolute Percentage Error (MAPE) 8.983840974341819\n"
          ]
        }
      ]
    },
    {
      "cell_type": "markdown",
      "source": [
        "### Lasso"
      ],
      "metadata": {
        "id": "4k2y0L4af5Qw"
      },
      "id": "4k2y0L4af5Qw"
    },
    {
      "cell_type": "code",
      "execution_count": 222,
      "metadata": {
        "id": "6Yy9uUr4f5Qx"
      },
      "outputs": [],
      "source": [
        "lasso_reg = Lasso(alpha=1.0)\n",
        "lasso_reg.fit(X_train, y_train)\n",
        "c2_las_pred = lasso_reg.predict(c1_X_test)"
      ],
      "id": "6Yy9uUr4f5Qx"
    },
    {
      "cell_type": "code",
      "execution_count": 223,
      "metadata": {
        "colab": {
          "base_uri": "https://localhost:8080/"
        },
        "outputId": "fb9c7aaa-caae-4bca-fc0d-90b02933361a",
        "id": "rP8Ts2Kvf5Qx"
      },
      "outputs": [
        {
          "output_type": "stream",
          "name": "stdout",
          "text": [
            "Mean Absolute Percentage Error (MAPE) 35.390142977049635\n"
          ]
        }
      ],
      "source": [
        "y2_true = y_test\n",
        "y2_pred = c2_las_pred\n",
        "\n",
        "def mean_absolute_percentage_error(y2_true, y2_pred):\n",
        "    y2_true, y2_pred = np.array(y2_true), np.array(y2_pred)\n",
        "    return np.mean(np.abs((y2_true - y2_pred) / y2_true)) * 100\n",
        "\n",
        "mape2 = mean_absolute_percentage_error(y2_true, y2_pred)\n",
        "print(\"Mean Absolute Percentage Error (MAPE)\", mape2)"
      ],
      "id": "rP8Ts2Kvf5Qx"
    },
    {
      "cell_type": "code",
      "execution_count": 224,
      "id": "79320847-07a5-466d-a87f-2180acd140b0",
      "metadata": {
        "colab": {
          "base_uri": "https://localhost:8080/",
          "height": 524
        },
        "id": "79320847-07a5-466d-a87f-2180acd140b0",
        "outputId": "5bf8f1ea-1486-4bfc-a6d9-131aa6629c33"
      },
      "outputs": [
        {
          "output_type": "display_data",
          "data": {
            "text/plain": [
              "<Figure size 800x550 with 1 Axes>"
            ],
            "image/png": "[encoded data removed]"
          },
          "metadata": {}
        }
      ],
      "source": [
        "import matplotlib.pyplot as plt\n",
        "\n",
        "residuals = y_test - pu_ridge_prediction1\n",
        "\n",
        "plt.scatter(pu_ridge_prediction1, residuals)\n",
        "plt.axhline(y=0, color='r', linestyle='--')\n",
        "plt.xlabel('Predicted Values')\n",
        "plt.ylabel('Residuals Cluster 1')\n",
        "plt.title('Residual Plot')\n",
        "plt.grid(True)\n",
        "plt.show()"
      ]
    },
    {
      "cell_type": "markdown",
      "source": [
        "### Predicting the values"
      ],
      "metadata": {
        "id": "vegE5pH2maag"
      },
      "id": "vegE5pH2maag"
    },
    {
      "cell_type": "code",
      "execution_count": 225,
      "id": "f15cb43c-6f71-4a03-9a79-45b5634bc548",
      "metadata": {
        "colab": {
          "base_uri": "https://localhost:8080/"
        },
        "id": "f15cb43c-6f71-4a03-9a79-45b5634bc548",
        "outputId": "f8c95470-2589-474b-8799-4b9fb62e6b16"
      },
      "outputs": [
        {
          "output_type": "stream",
          "name": "stderr",
          "text": [
            "<ipython-input-225-b3f309590e39>:1: SettingWithCopyWarning: \n",
            "A value is trying to be set on a copy of a slice from a DataFrame.\n",
            "Try using .loc[row_indexer,col_indexer] = value instead\n",
            "\n",
            "See the caveats in the documentation: https://pandas.pydata.org/pandas-docs/stable/user_guide/indexing.html#returning-a-view-versus-a-copy\n",
            "  filter_test_1['PREDICTED_SCORE'] = ridge.predict(X_test_scaled)\n",
            "<ipython-input-225-b3f309590e39>:3: SettingWithCopyWarning: \n",
            "A value is trying to be set on a copy of a slice from a DataFrame.\n",
            "Try using .loc[row_indexer,col_indexer] = value instead\n",
            "\n",
            "See the caveats in the documentation: https://pandas.pydata.org/pandas-docs/stable/user_guide/indexing.html#returning-a-view-versus-a-copy\n",
            "  filter_train_1['PREDICTED_SCORE'] = ridge.predict(X_train_scaled)\n"
          ]
        }
      ],
      "source": [
        "filter_test_1['PREDICTED_SCORE'] = ridge.predict(X_test_scaled)\n",
        "X_train_scaled = scaler.transform(X_train)\n",
        "filter_train_1['PREDICTED_SCORE'] = ridge.predict(X_train_scaled)"
      ]
    },
    {
      "cell_type": "code",
      "execution_count": 226,
      "id": "31affddc-5694-4d3e-8337-4a388e08bad9",
      "metadata": {
        "colab": {
          "base_uri": "https://localhost:8080/",
          "height": 279
        },
        "id": "31affddc-5694-4d3e-8337-4a388e08bad9",
        "outputId": "4facdc05-7efe-4f94-85b5-54b8202c9628"
      },
      "outputs": [
        {
          "output_type": "execute_result",
          "data": {
            "text/plain": [
              "                 KEY GRADE  SCORE INSPECTION DATE     CAMIS  \\\n",
              "0  30075445-20230822     A   12.0      2023-08-22  30075445   \n",
              "1  40361618-20230426     A   13.0      2023-04-26  40361618   \n",
              "2  40364439-20230517     A   12.0      2023-05-17  40364439   \n",
              "\n",
              "                     DBA   Latitude  Longitude  02A  02B  ...  Tapas  Tex-Mex  \\\n",
              "0  MORRIS PARK BAKE SHOP  40.848231 -73.855972    0    0  ...      0        0   \n",
              "1             SAL'S DELI  40.781674 -73.839416    0    0  ...      0        0   \n",
              "2     SEVILLA RESTAURANT  40.734908 -74.002973    0    0  ...      0        0   \n",
              "\n",
              "   Thai  Turkish  Vegan  Vegetarian  Year  Cluster  Data Source  \\\n",
              "0     0        0      0           0  2023        1         Test   \n",
              "1     0        0      0           0  2023        1         Test   \n",
              "2     0        0      0           0  2023        1         Test   \n",
              "\n",
              "   PREDICTED_SCORE  \n",
              "0        12.176476  \n",
              "1        12.762796  \n",
              "2        12.420498  \n",
              "\n",
              "[3 rows x 180 columns]"
            ],
            "text/html": [
              "\n",
              "  <div id=\"df-06e13a45-ddf2-4629-9be4-ee7494051adb\" class=\"colab-df-container\">\n",
              "    <div>\n",
              "<style scoped>\n",
              "    .dataframe tbody tr th:only-of-type {\n",
              "        vertical-align: middle;\n",
              "    }\n",
              "\n",
              "    .dataframe tbody tr th {\n",
              "        vertical-align: top;\n",
              "    }\n",
              "\n",
              "    .dataframe thead th {\n",
              "        text-align: right;\n",
              "    }\n",
              "</style>\n",
              "<table border=\"1\" class=\"dataframe\">\n",
              "  <thead>\n",
              "    <tr style=\"text-align: right;\">\n",
              "      <th></th>\n",
              "      <th>KEY</th>\n",
              "      <th>GRADE</th>\n",
              "      <th>SCORE</th>\n",
              "      <th>INSPECTION DATE</th>\n",
              "      <th>CAMIS</th>\n",
              "      <th>DBA</th>\n",
              "      <th>Latitude</th>\n",
              "      <th>Longitude</th>\n",
              "      <th>02A</th>\n",
              "      <th>02B</th>\n",
              "      <th>...</th>\n",
              "      <th>Tapas</th>\n",
              "      <th>Tex-Mex</th>\n",
              "      <th>Thai</th>\n",
              "      <th>Turkish</th>\n",
              "      <th>Vegan</th>\n",
              "      <th>Vegetarian</th>\n",
              "      <th>Year</th>\n",
              "      <th>Cluster</th>\n",
              "      <th>Data Source</th>\n",
              "      <th>PREDICTED_SCORE</th>\n",
              "    </tr>\n",
              "  </thead>\n",
              "  <tbody>\n",
              "    <tr>\n",
              "      <th>0</th>\n",
              "      <td>30075445-20230822</td>\n",
              "      <td>A</td>\n",
              "      <td>12.0</td>\n",
              "      <td>2023-08-22</td>\n",
              "      <td>30075445</td>\n",
              "      <td>MORRIS PARK BAKE SHOP</td>\n",
              "      <td>40.848231</td>\n",
              "      <td>-73.855972</td>\n",
              "      <td>0</td>\n",
              "      <td>0</td>\n",
              "      <td>...</td>\n",
              "      <td>0</td>\n",
              "      <td>0</td>\n",
              "      <td>0</td>\n",
              "      <td>0</td>\n",
              "      <td>0</td>\n",
              "      <td>0</td>\n",
              "      <td>2023</td>\n",
              "      <td>1</td>\n",
              "      <td>Test</td>\n",
              "      <td>12.176476</td>\n",
              "    </tr>\n",
              "    <tr>\n",
              "      <th>1</th>\n",
              "      <td>40361618-20230426</td>\n",
              "      <td>A</td>\n",
              "      <td>13.0</td>\n",
              "      <td>2023-04-26</td>\n",
              "      <td>40361618</td>\n",
              "      <td>SAL'S DELI</td>\n",
              "      <td>40.781674</td>\n",
              "      <td>-73.839416</td>\n",
              "      <td>0</td>\n",
              "      <td>0</td>\n",
              "      <td>...</td>\n",
              "      <td>0</td>\n",
              "      <td>0</td>\n",
              "      <td>0</td>\n",
              "      <td>0</td>\n",
              "      <td>0</td>\n",
              "      <td>0</td>\n",
              "      <td>2023</td>\n",
              "      <td>1</td>\n",
              "      <td>Test</td>\n",
              "      <td>12.762796</td>\n",
              "    </tr>\n",
              "    <tr>\n",
              "      <th>2</th>\n",
              "      <td>40364439-20230517</td>\n",
              "      <td>A</td>\n",
              "      <td>12.0</td>\n",
              "      <td>2023-05-17</td>\n",
              "      <td>40364439</td>\n",
              "      <td>SEVILLA RESTAURANT</td>\n",
              "      <td>40.734908</td>\n",
              "      <td>-74.002973</td>\n",
              "      <td>0</td>\n",
              "      <td>0</td>\n",
              "      <td>...</td>\n",
              "      <td>0</td>\n",
              "      <td>0</td>\n",
              "      <td>0</td>\n",
              "      <td>0</td>\n",
              "      <td>0</td>\n",
              "      <td>0</td>\n",
              "      <td>2023</td>\n",
              "      <td>1</td>\n",
              "      <td>Test</td>\n",
              "      <td>12.420498</td>\n",
              "    </tr>\n",
              "  </tbody>\n",
              "</table>\n",
              "<p>3 rows × 180 columns</p>\n",
              "</div>\n",
              "    <div class=\"colab-df-buttons\">\n",
              "\n",
              "  <div class=\"colab-df-container\">\n",
              "    <button class=\"colab-df-convert\" onclick=\"convertToInteractive('df-06e13a45-ddf2-4629-9be4-ee7494051adb')\"\n",
              "            title=\"Convert this dataframe to an interactive table.\"\n",
              "            style=\"display:none;\">\n",
              "\n",
              "  <svg xmlns=\"http://www.w3.org/2000/svg\" height=\"24px\" viewBox=\"0 -960 960 960\">\n",
              "    <path d=\"M120-120v-720h720v720H120Zm60-500h600v-160H180v160Zm220 220h160v-160H400v160Zm0 220h160v-160H400v160ZM180-400h160v-160H180v160Zm440 0h160v-160H620v160ZM180-180h160v-160H180v160Zm440 0h160v-160H620v160Z\"/>\n",
              "  </svg>\n",
              "    </button>\n",
              "\n",
              "  <style>\n",
              "    .colab-df-container {\n",
              "      display:flex;\n",
              "      gap: 12px;\n",
              "    }\n",
              "\n",
              "    .colab-df-convert {\n",
              "      background-color: #E8F0FE;\n",
              "      border: none;\n",
              "      border-radius: 50%;\n",
              "      cursor: pointer;\n",
              "      display: none;\n",
              "      fill: #1967D2;\n",
              "      height: 32px;\n",
              "      padding: 0 0 0 0;\n",
              "      width: 32px;\n",
              "    }\n",
              "\n",
              "    .colab-df-convert:hover {\n",
              "      background-color: #E2EBFA;\n",
              "      box-shadow: 0px 1px 2px rgba(60, 64, 67, 0.3), 0px 1px 3px 1px rgba(60, 64, 67, 0.15);\n",
              "      fill: #174EA6;\n",
              "    }\n",
              "\n",
              "    .colab-df-buttons div {\n",
              "      margin-bottom: 4px;\n",
              "    }\n",
              "\n",
              "    [theme=dark] .colab-df-convert {\n",
              "      background-color: #3B4455;\n",
              "      fill: #D2E3FC;\n",
              "    }\n",
              "\n",
              "    [theme=dark] .colab-df-convert:hover {\n",
              "      background-color: #434B5C;\n",
              "      box-shadow: 0px 1px 3px 1px rgba(0, 0, 0, 0.15);\n",
              "      filter: drop-shadow(0px 1px 2px rgba(0, 0, 0, 0.3));\n",
              "      fill: #FFFFFF;\n",
              "    }\n",
              "  </style>\n",
              "\n",
              "    <script>\n",
              "      const buttonEl =\n",
              "        document.querySelector('#df-06e13a45-ddf2-4629-9be4-ee7494051adb button.colab-df-convert');\n",
              "      buttonEl.style.display =\n",
              "        google.colab.kernel.accessAllowed ? 'block' : 'none';\n",
              "\n",
              "      async function convertToInteractive(key) {\n",
              "        const element = document.querySelector('#df-06e13a45-ddf2-4629-9be4-ee7494051adb');\n",
              "        const dataTable =\n",
              "          await google.colab.kernel.invokeFunction('convertToInteractive',\n",
              "                                                    [key], {});\n",
              "        if (!dataTable) return;\n",
              "\n",
              "        const docLinkHtml = 'Like what you see? Visit the ' +\n",
              "          '<a target=\"_blank\" href=https://colab.research.google.com/notebooks/data_table.ipynb>data table notebook</a>'\n",
              "          + ' to learn more about interactive tables.';\n",
              "        element.innerHTML = '';\n",
              "        dataTable['output_type'] = 'display_data';\n",
              "        await google.colab.output.renderOutput(dataTable, element);\n",
              "        const docLink = document.createElement('div');\n",
              "        docLink.innerHTML = docLinkHtml;\n",
              "        element.appendChild(docLink);\n",
              "      }\n",
              "    </script>\n",
              "  </div>\n",
              "\n",
              "\n",
              "<div id=\"df-b00dd464-75f8-4ae2-9cb8-a3474764b0a8\">\n",
              "  <button class=\"colab-df-quickchart\" onclick=\"quickchart('df-b00dd464-75f8-4ae2-9cb8-a3474764b0a8')\"\n",
              "            title=\"Suggest charts\"\n",
              "            style=\"display:none;\">\n",
              "\n",
              "<svg xmlns=\"http://www.w3.org/2000/svg\" height=\"24px\"viewBox=\"0 0 24 24\"\n",
              "     width=\"24px\">\n",
              "    <g>\n",
              "        <path d=\"M19 3H5c-1.1 0-2 .9-2 2v14c0 1.1.9 2 2 2h14c1.1 0 2-.9 2-2V5c0-1.1-.9-2-2-2zM9 17H7v-7h2v7zm4 0h-2V7h2v10zm4 0h-2v-4h2v4z\"/>\n",
              "    </g>\n",
              "</svg>\n",
              "  </button>\n",
              "\n",
              "<style>\n",
              "  .colab-df-quickchart {\n",
              "      --bg-color: #E8F0FE;\n",
              "      --fill-color: #1967D2;\n",
              "      --hover-bg-color: #E2EBFA;\n",
              "      --hover-fill-color: #174EA6;\n",
              "      --disabled-fill-color: #AAA;\n",
              "      --disabled-bg-color: #DDD;\n",
              "  }\n",
              "\n",
              "  [theme=dark] .colab-df-quickchart {\n",
              "      --bg-color: #3B4455;\n",
              "      --fill-color: #D2E3FC;\n",
              "      --hover-bg-color: #434B5C;\n",
              "      --hover-fill-color: #FFFFFF;\n",
              "      --disabled-bg-color: #3B4455;\n",
              "      --disabled-fill-color: #666;\n",
              "  }\n",
              "\n",
              "  .colab-df-quickchart {\n",
              "    background-color: var(--bg-color);\n",
              "    border: none;\n",
              "    border-radius: 50%;\n",
              "    cursor: pointer;\n",
              "    display: none;\n",
              "    fill: var(--fill-color);\n",
              "    height: 32px;\n",
              "    padding: 0;\n",
              "    width: 32px;\n",
              "  }\n",
              "\n",
              "  .colab-df-quickchart:hover {\n",
              "    background-color: var(--hover-bg-color);\n",
              "    box-shadow: 0 1px 2px rgba(60, 64, 67, 0.3), 0 1px 3px 1px rgba(60, 64, 67, 0.15);\n",
              "    fill: var(--button-hover-fill-color);\n",
              "  }\n",
              "\n",
              "  .colab-df-quickchart-complete:disabled,\n",
              "  .colab-df-quickchart-complete:disabled:hover {\n",
              "    background-color: var(--disabled-bg-color);\n",
              "    fill: var(--disabled-fill-color);\n",
              "    box-shadow: none;\n",
              "  }\n",
              "\n",
              "  .colab-df-spinner {\n",
              "    border: 2px solid var(--fill-color);\n",
              "    border-color: transparent;\n",
              "    border-bottom-color: var(--fill-color);\n",
              "    animation:\n",
              "      spin 1s steps(1) infinite;\n",
              "  }\n",
              "\n",
              "  @keyframes spin {\n",
              "    0% {\n",
              "      border-color: transparent;\n",
              "      border-bottom-color: var(--fill-color);\n",
              "      border-left-color: var(--fill-color);\n",
              "    }\n",
              "    20% {\n",
              "      border-color: transparent;\n",
              "      border-left-color: var(--fill-color);\n",
              "      border-top-color: var(--fill-color);\n",
              "    }\n",
              "    30% {\n",
              "      border-color: transparent;\n",
              "      border-left-color: var(--fill-color);\n",
              "      border-top-color: var(--fill-color);\n",
              "      border-right-color: var(--fill-color);\n",
              "    }\n",
              "    40% {\n",
              "      border-color: transparent;\n",
              "      border-right-color: var(--fill-color);\n",
              "      border-top-color: var(--fill-color);\n",
              "    }\n",
              "    60% {\n",
              "      border-color: transparent;\n",
              "      border-right-color: var(--fill-color);\n",
              "    }\n",
              "    80% {\n",
              "      border-color: transparent;\n",
              "      border-right-color: var(--fill-color);\n",
              "      border-bottom-color: var(--fill-color);\n",
              "    }\n",
              "    90% {\n",
              "      border-color: transparent;\n",
              "      border-bottom-color: var(--fill-color);\n",
              "    }\n",
              "  }\n",
              "</style>\n",
              "\n",
              "  <script>\n",
              "    async function quickchart(key) {\n",
              "      const quickchartButtonEl =\n",
              "        document.querySelector('#' + key + ' button');\n",
              "      quickchartButtonEl.disabled = true;  // To prevent multiple clicks.\n",
              "      quickchartButtonEl.classList.add('colab-df-spinner');\n",
              "      try {\n",
              "        const charts = await google.colab.kernel.invokeFunction(\n",
              "            'suggestCharts', [key], {});\n",
              "      } catch (error) {\n",
              "        console.error('Error during call to suggestCharts:', error);\n",
              "      }\n",
              "      quickchartButtonEl.classList.remove('colab-df-spinner');\n",
              "      quickchartButtonEl.classList.add('colab-df-quickchart-complete');\n",
              "    }\n",
              "    (() => {\n",
              "      let quickchartButtonEl =\n",
              "        document.querySelector('#df-b00dd464-75f8-4ae2-9cb8-a3474764b0a8 button');\n",
              "      quickchartButtonEl.style.display =\n",
              "        google.colab.kernel.accessAllowed ? 'block' : 'none';\n",
              "    })();\n",
              "  </script>\n",
              "</div>\n",
              "    </div>\n",
              "  </div>\n"
            ],
            "application/vnd.google.colaboratory.intrinsic+json": {
              "type": "dataframe",
              "variable_name": "merged_df_1"
            }
          },
          "metadata": {},
          "execution_count": 226
        }
      ],
      "source": [
        "merged_df_1 = pd.concat([filter_test_1, filter_train_1], ignore_index=True)\n",
        "merged_df_1.head(3)"
      ]
    },
    {
      "cell_type": "code",
      "source": [
        "import statsmodels.api as sm\n",
        "import pandas as pd"
      ],
      "metadata": {
        "id": "UDGuvum6ceHr"
      },
      "id": "UDGuvum6ceHr",
      "execution_count": 227,
      "outputs": []
    },
    {
      "cell_type": "markdown",
      "id": "17fb78bf-222f-4ff8-a41d-22dc47a162a2",
      "metadata": {
        "id": "17fb78bf-222f-4ff8-a41d-22dc47a162a2"
      },
      "source": [
        "## __CLUSTER_2__"
      ]
    },
    {
      "cell_type": "code",
      "execution_count": 228,
      "id": "a09a6b7d-22b7-49ea-bb4e-d97228ce3f63",
      "metadata": {
        "id": "a09a6b7d-22b7-49ea-bb4e-d97228ce3f63"
      },
      "outputs": [],
      "source": [
        "cluster_2 = combined_data[combined_data['Cluster'] == 2]"
      ]
    },
    {
      "cell_type": "code",
      "execution_count": 229,
      "id": "ec2987f8-95a4-4a6d-b03d-beda55babfc4",
      "metadata": {
        "colab": {
          "base_uri": "https://localhost:8080/"
        },
        "id": "ec2987f8-95a4-4a6d-b03d-beda55babfc4",
        "outputId": "1322fb34-13cb-4ec3-bf65-6930c7f7aad6"
      },
      "outputs": [
        {
          "output_type": "stream",
          "name": "stdout",
          "text": [
            "      Sum\n",
            "06D  3222\n",
            "06C  2588\n",
            "10B  2268\n",
            "02B  2206\n",
            "02G  1924\n",
            "..    ...\n",
            "03F     0\n",
            "03D     0\n",
            "10F     0\n",
            "22F     0\n",
            "04I     0\n",
            "\n",
            "[69 rows x 1 columns]\n"
          ]
        }
      ],
      "source": [
        "sum_of_unique_violations_2 = cluster_2[unique_violations].sum()\n",
        "\n",
        "sum_table2 = pd.DataFrame(sum_of_unique_violations_2, columns=['Sum'])\n",
        "\n",
        "sum_table_sorted2 = sum_table2.sort_values(by='Sum', ascending=False)\n",
        "\n",
        "print(sum_table_sorted2)\n",
        "\n",
        "# 06D: Food contact surface not sanitized; and/or not clean to sight and/or touch\n",
        "# 06C: lack of food protection when displayed/stored/overall protection\n",
        "# 10B: Improper disposal of sewage or liquid waste\n",
        "# 02B: Hot potentially hazardous food not held at 140°F or above\n",
        "# 02G: Cold potentially hazardous food not held at 41°F or below"
      ]
    },
    {
      "cell_type": "code",
      "execution_count": 230,
      "id": "45c90e8d-f371-418e-88b8-e974ca5671f9",
      "metadata": {
        "colab": {
          "base_uri": "https://localhost:8080/",
          "height": 601
        },
        "id": "45c90e8d-f371-418e-88b8-e974ca5671f9",
        "outputId": "1673da4d-ad74-4b92-beb7-9ace768b711e"
      },
      "outputs": [
        {
          "output_type": "display_data",
          "data": {
            "text/plain": [
              "<Figure size 1000x600 with 1 Axes>"
            ],
            "image/png": "[encoded data removed]"
          },
          "metadata": {}
        }
      ],
      "source": [
        "sum_table_sorted2 = sum_table2.sort_values(by='Sum', ascending=False).head(10)\n",
        "plt.figure(figsize=(10, 6))\n",
        "plt.bar(sum_table_sorted2.index, sum_table_sorted2['Sum'], color='skyblue')\n",
        "plt.xlabel('Unique Violation Column')\n",
        "plt.ylabel('Sum of Values')\n",
        "plt.title('Sum of Values for Each Unique Violation Column')\n",
        "plt.xticks(rotation=45, ha='right')\n",
        "plt.tight_layout()\n",
        "plt.show()"
      ]
    },
    {
      "cell_type": "code",
      "execution_count": 231,
      "id": "d65031ed-3028-45e4-a165-4887521984dc",
      "metadata": {
        "id": "d65031ed-3028-45e4-a165-4887521984dc"
      },
      "outputs": [],
      "source": [
        "cluster_2 = cluster_2[cluster_2['SCORE'] != 0]"
      ]
    },
    {
      "cell_type": "code",
      "execution_count": 232,
      "id": "b8311cfe-328a-4ac2-9af4-633fcc3d77d3",
      "metadata": {
        "id": "b8311cfe-328a-4ac2-9af4-633fcc3d77d3"
      },
      "outputs": [],
      "source": [
        "filter_test_2 = cluster_2[cluster_2['Year'].isin([2023, 2024])]\n",
        "filter_train_2 = cluster_2[cluster_2['Year'].isin([2015, 2016,2017,2018,2019,2020,2021,2022])]\n",
        "X_train=filter_train_2[unique_violations]\n",
        "X_test=filter_test_2[unique_violations]\n",
        "y_train=filter_train_2['SCORE']\n",
        "y_test=filter_test_2['SCORE']"
      ]
    },
    {
      "cell_type": "markdown",
      "id": "20c7b644-d78b-4e99-8009-6f5ae2c93955",
      "metadata": {
        "id": "20c7b644-d78b-4e99-8009-6f5ae2c93955"
      },
      "source": [
        "### Linear Model"
      ]
    },
    {
      "cell_type": "code",
      "execution_count": 233,
      "id": "b177c84b-a36a-4919-bd65-bf446f1af724",
      "metadata": {
        "colab": {
          "base_uri": "https://localhost:8080/"
        },
        "id": "b177c84b-a36a-4919-bd65-bf446f1af724",
        "outputId": "c2dd4a2c-b1f0-494d-fa9b-e3edf71b622a"
      },
      "outputs": [
        {
          "output_type": "stream",
          "name": "stdout",
          "text": [
            "                            OLS Regression Results                            \n",
            "==============================================================================\n",
            "Dep. Variable:                  SCORE   R-squared:                       0.924\n",
            "Model:                            OLS   Adj. R-squared:                  0.924\n",
            "Method:                 Least Squares   F-statistic:                     1429.\n",
            "Date:                Fri, 03 May 2024   Prob (F-statistic):               0.00\n",
            "Time:                        04:11:25   Log-Likelihood:                -12194.\n",
            "No. Observations:                7210   AIC:                         2.451e+04\n",
            "Df Residuals:                    7148   BIC:                         2.494e+04\n",
            "Df Model:                          61                                         \n",
            "Covariance Type:            nonrobust                                         \n",
            "==============================================================================\n",
            "                 coef    std err          t      P>|t|      [0.025      0.975]\n",
            "------------------------------------------------------------------------------\n",
            "const          0.1647      0.042      3.918      0.000       0.082       0.247\n",
            "10J            2.1084      0.140     15.066      0.000       1.834       2.383\n",
            "09B            2.2244      0.090     24.614      0.000       2.047       2.402\n",
            "02B            7.3312      0.046    159.912      0.000       7.241       7.421\n",
            "06F            4.9041      0.075     65.744      0.000       4.758       5.050\n",
            "04M            5.2632      0.304     17.308      0.000       4.667       5.859\n",
            "09C            2.2990      0.076     30.123      0.000       2.149       2.449\n",
            "09E            2.0793      0.277      7.506      0.000       1.536       2.622\n",
            "02I            5.8264      0.322     18.076      0.000       5.195       6.458\n",
            "10C            2.0700      0.317      6.536      0.000       1.449       2.691\n",
            "04A            9.9369      0.062    160.063      0.000       9.815      10.059\n",
            "10E            2.2576      0.099     22.844      0.000       2.064       2.451\n",
            "04L            5.2203      0.133     39.129      0.000       4.959       5.482\n",
            "04K            3.0594      0.394      7.765      0.000       2.287       3.832\n",
            "10H            2.5869      0.063     41.058      0.000       2.463       2.710\n",
            "06D            4.9686      0.038    129.164      0.000       4.893       5.044\n",
            "10B            2.3369      0.043     54.534      0.000       2.253       2.421\n",
            "06C            5.4420      0.042    130.567      0.000       5.360       5.524\n",
            "10F         3.177e-14   4.01e-15      7.927      0.000    2.39e-14    3.96e-14\n",
            "09A            2.3254      0.202     11.485      0.000       1.929       2.722\n",
            "08A            4.8651      0.392     12.398      0.000       4.096       5.634\n",
            "02G            7.4626      0.048    154.848      0.000       7.368       7.557\n",
            "10D            2.1180      0.116     18.240      0.000       1.890       2.346\n",
            "08B            2.3670      0.231     10.230      0.000       1.913       2.821\n",
            "08C            1.9609      0.073     26.966      0.000       1.818       2.103\n",
            "06A            4.9035      0.067     73.178      0.000       4.772       5.035\n",
            "04N            5.2768      0.182     28.935      0.000       4.919       5.634\n",
            "04J            6.8327      0.111     61.622      0.000       6.615       7.050\n",
            "10G            4.8256      0.100     48.354      0.000       4.630       5.021\n",
            "04C            6.9268      0.122     56.765      0.000       6.688       7.166\n",
            "04H            6.9527      0.066    104.578      0.000       6.822       7.083\n",
            "05D            9.8851      0.092    107.737      0.000       9.705      10.065\n",
            "10A            1.9508      0.152     12.867      0.000       1.654       2.248\n",
            "10I            2.2537      0.097     23.288      0.000       2.064       2.443\n",
            "06B            4.9446      0.124     39.875      0.000       4.702       5.188\n",
            "02H            7.2571      0.094     77.013      0.000       7.072       7.442\n",
            "06E            5.1391      0.063     81.372      0.000       5.015       5.263\n",
            "03A            9.9226      0.209     47.512      0.000       9.513      10.332\n",
            "02C            5.2552      0.252     20.845      0.000       4.761       5.749\n",
            "28-06          0.0893      0.959      0.093      0.926      -1.791       1.970\n",
            "28-05         -0.4691      0.594     -0.790      0.430      -1.633       0.695\n",
            "02A            9.5821      0.591     16.210      0.000       8.423      10.741\n",
            "22G           -0.5960      1.320     -0.452      0.652      -3.183       1.991\n",
            "05F           16.5799      0.522     31.763      0.000      15.557      17.603\n",
            "05H           20.4788      0.293     69.862      0.000      19.904      21.053\n",
            "03C            6.2245      0.942      6.606      0.000       4.377       8.072\n",
            "04E            6.9802      0.265     26.341      0.000       6.461       7.500\n",
            "03I            9.4804      0.662     14.314      0.000       8.182      10.779\n",
            "04O            5.1651      0.276     18.690      0.000       4.623       5.707\n",
            "05C           15.4644      0.546     28.311      0.000      14.394      16.535\n",
            "03B            9.7572      0.468     20.859      0.000       8.840      10.674\n",
            "04B            9.6853      0.933     10.381      0.000       7.856      11.514\n",
            "06G            9.1362      1.322      6.909      0.000       6.544      11.728\n",
            "05B            8.0743      0.431     18.729      0.000       7.229       8.919\n",
            "04D            9.8353      0.763     12.898      0.000       8.340      11.330\n",
            "02D            4.8258      0.766      6.297      0.000       3.323       6.328\n",
            "04F           -8.6350      1.213     -7.120      0.000     -11.012      -6.258\n",
            "04P          2.71e-16   1.58e-16      1.713      0.087   -3.92e-17    5.81e-16\n",
            "05A           28.1248      0.769     36.556      0.000      26.617      29.633\n",
            "02F            6.4486      0.933      6.912      0.000       4.620       8.278\n",
            "22F        -5.152e-16   1.57e-16     -3.287      0.001   -8.22e-16   -2.08e-16\n",
            "03F        -6.776e-17   9.18e-18     -7.384      0.000   -8.58e-17   -4.98e-17\n",
            "03E           10.7012      0.933     11.467      0.000       8.872      12.531\n",
            "05E           19.5317      0.513     38.109      0.000      18.527      20.536\n",
            "03D                 0          0        nan        nan           0           0\n",
            "03G            7.3933      1.319      5.604      0.000       4.807       9.980\n",
            "18-11               0          0        nan        nan           0           0\n",
            "28-07               0          0        nan        nan           0           0\n",
            "09D            1.2780      1.326      0.964      0.335      -1.321       3.877\n",
            "04I                 0          0        nan        nan           0           0\n",
            "==============================================================================\n",
            "Omnibus:                     6761.594   Durbin-Watson:                   2.016\n",
            "Prob(Omnibus):                  0.000   Jarque-Bera (JB):          3296373.678\n",
            "Skew:                           3.649   Prob(JB):                         0.00\n",
            "Kurtosis:                     107.496   Cond. No.                     1.13e+16\n",
            "==============================================================================\n",
            "\n",
            "Notes:\n",
            "[1] Standard Errors assume that the covariance matrix of the errors is correctly specified.\n",
            "[2] The smallest eigenvalue is 7.06e-29. This might indicate that there are\n",
            "strong multicollinearity problems or that the design matrix is singular.\n"
          ]
        }
      ],
      "source": [
        "c2_X_train = sm.add_constant(X_train)\n",
        "c2_X_test = sm.add_constant(X_test)\n",
        "c2_lin_model = sm.OLS(y_train, c2_X_train)\n",
        "results = c2_lin_model.fit()\n",
        "c1_lin_pred_2 = results.predict(c2_X_test)\n",
        "print(results.summary())"
      ]
    },
    {
      "cell_type": "code",
      "execution_count": 234,
      "id": "0158ae00-3706-490b-9dac-f16c326cdded",
      "metadata": {
        "colab": {
          "base_uri": "https://localhost:8080/"
        },
        "id": "0158ae00-3706-490b-9dac-f16c326cdded",
        "outputId": "725eada3-d1f9-45f0-80f6-381d847ba15e"
      },
      "outputs": [
        {
          "output_type": "stream",
          "name": "stdout",
          "text": [
            "Mean Absolute Percentage Error (MAPE) 8.008667546565515\n"
          ]
        }
      ],
      "source": [
        "from sklearn.metrics import mean_absolute_error\n",
        "\n",
        "y_true = y_test\n",
        "y_pred = c1_lin_pred_2\n",
        "\n",
        "def mean_absolute_percentage_error(y_true, y_pred):\n",
        "    y_true, y_pred = np.array(y_true), np.array(y_pred)\n",
        "    return np.mean(np.abs((y_true - y_pred) / y_true)) * 100\n",
        "\n",
        "mape_2 = mean_absolute_percentage_error(y_true, y_pred)\n",
        "print(\"Mean Absolute Percentage Error (MAPE)\", mape_2)"
      ]
    },
    {
      "cell_type": "markdown",
      "id": "9ab88ca5-0726-4d1a-9a8c-e07480596b05",
      "metadata": {
        "id": "9ab88ca5-0726-4d1a-9a8c-e07480596b05"
      },
      "source": [
        "### Ridge"
      ]
    },
    {
      "cell_type": "code",
      "execution_count": 235,
      "id": "426faa5d-062f-4eb5-aa49-672cd2f7cffe",
      "metadata": {
        "colab": {
          "base_uri": "https://localhost:8080/"
        },
        "id": "426faa5d-062f-4eb5-aa49-672cd2f7cffe",
        "outputId": "5cc06a71-10d4-4874-ed59-d1e34044da35"
      },
      "outputs": [
        {
          "output_type": "execute_result",
          "data": {
            "text/plain": [
              "3.129"
            ]
          },
          "metadata": {},
          "execution_count": 235
        }
      ],
      "source": [
        "from sklearn.linear_model import Ridge\n",
        "from sklearn.preprocessing import StandardScaler\n",
        "\n",
        "scaler = StandardScaler().fit(X_train)\n",
        "\n",
        "\n",
        "X_test_scaled = scaler.transform(X_test)\n",
        "\n",
        "\n",
        "ridge = Ridge(alpha=1.0)\n",
        "ridge.fit(scaler.transform(X_train), y_train)\n",
        "\n",
        "\n",
        "pu_ridge_prediction2 = ridge.predict(X_test_scaled)\n",
        "\n",
        "pu_ridge_mse_2 = round(mean_squared_error(y_test, pu_ridge_prediction2), 3)\n",
        "pu_ridge_mse_2"
      ]
    },
    {
      "cell_type": "code",
      "source": [
        "# MAPE VALUE OF RIDGE REGRESSION\n",
        "y_true = y_test\n",
        "y_pred = pu_ridge_prediction2\n",
        "\n",
        "def mean_absolute_percentage_error(y_true, y_pred):\n",
        "    y_true, y_pred = np.array(y_true), np.array(y_pred)\n",
        "    return np.mean(np.abs((y_true - y_pred) / y_true)) * 100\n",
        "\n",
        "mape = mean_absolute_percentage_error(y_true, y_pred)\n",
        "print(\"Mean Absolute Percentage Error (MAPE)\", mape)"
      ],
      "metadata": {
        "colab": {
          "base_uri": "https://localhost:8080/"
        },
        "id": "-8UQxiT-elyA",
        "outputId": "6cb4a8a4-ca63-4c37-b4b3-b44b6930160a"
      },
      "id": "-8UQxiT-elyA",
      "execution_count": 236,
      "outputs": [
        {
          "output_type": "stream",
          "name": "stdout",
          "text": [
            "Mean Absolute Percentage Error (MAPE) 8.015449052270975\n"
          ]
        }
      ]
    },
    {
      "cell_type": "markdown",
      "source": [
        "### Lasso"
      ],
      "metadata": {
        "id": "lSLw1nrUgJMG"
      },
      "id": "lSLw1nrUgJMG"
    },
    {
      "cell_type": "code",
      "execution_count": 237,
      "metadata": {
        "id": "cqvwBvxJgJMG"
      },
      "outputs": [],
      "source": [
        "import numpy as np\n",
        "from sklearn.linear_model import Lasso\n",
        "from sklearn.preprocessing import StandardScaler\n",
        "from sklearn.compose import ColumnTransformer\n",
        "from sklearn.pipeline import Pipeline\n",
        "\n",
        "# Create a pipeline to add the constant column and scale the features\n",
        "pipeline = Pipeline([\n",
        "    ('add_constant', ColumnTransformer([('const', 'passthrough', [0])], remainder='passthrough')),\n",
        "    ('scaler', StandardScaler())\n",
        "])\n",
        "\n",
        "# Fit the pipeline and transform the training data\n",
        "X_train_scaled = pipeline.fit_transform(X_train)\n",
        "\n",
        "# Transform the test data using the fitted pipeline\n",
        "X_test_scaled = pipeline.transform(X_test)\n",
        "\n",
        "# Fit the Lasso regression model\n",
        "lasso_reg = Lasso(alpha=1.0)\n",
        "lasso_reg.fit(X_train_scaled, y_train)\n",
        "\n",
        "# Predict using the test data\n",
        "c2_las_pred = lasso_reg.predict(X_test_scaled)"
      ],
      "id": "cqvwBvxJgJMG"
    },
    {
      "cell_type": "code",
      "execution_count": 238,
      "metadata": {
        "colab": {
          "base_uri": "https://localhost:8080/"
        },
        "outputId": "0cc9f254-b8cd-4cf6-c12a-ce0b40ff8a2d",
        "id": "IiHlX_GZgJMG"
      },
      "outputs": [
        {
          "output_type": "stream",
          "name": "stdout",
          "text": [
            "Mean Absolute Percentage Error (MAPE) 47.20515056287573\n"
          ]
        }
      ],
      "source": [
        "y2_true = y_test\n",
        "y2_pred = c2_las_pred\n",
        "\n",
        "def mean_absolute_percentage_error(y2_true, y2_pred):\n",
        "    y2_true, y2_pred = np.array(y2_true), np.array(y2_pred)\n",
        "    return np.mean(np.abs((y2_true - y2_pred) / y2_true)) * 100\n",
        "\n",
        "mape2 = mean_absolute_percentage_error(y2_true, y2_pred)\n",
        "print(\"Mean Absolute Percentage Error (MAPE)\", mape2)"
      ],
      "id": "IiHlX_GZgJMG"
    },
    {
      "cell_type": "code",
      "execution_count": 239,
      "id": "7c169ff8-ddc0-49b2-a53b-af7a1b172378",
      "metadata": {
        "colab": {
          "base_uri": "https://localhost:8080/",
          "height": 524
        },
        "id": "7c169ff8-ddc0-49b2-a53b-af7a1b172378",
        "outputId": "f630757c-2f3a-4c41-9174-1979b19bac0c"
      },
      "outputs": [
        {
          "output_type": "display_data",
          "data": {
            "text/plain": [
              "<Figure size 800x550 with 1 Axes>"
            ],
            "image/png": "[encoded data removed]"
          },
          "metadata": {}
        }
      ],
      "source": [
        "import matplotlib.pyplot as plt\n",
        "\n",
        "residuals = y_test - pu_ridge_prediction2\n",
        "\n",
        "plt.scatter(pu_ridge_prediction2, residuals)\n",
        "plt.axhline(y=0, color='r', linestyle='--')\n",
        "plt.xlabel('Predicted Values')\n",
        "plt.ylabel('Residuals Cluster 1')\n",
        "plt.title('Residual Plot')\n",
        "plt.grid(True)\n",
        "plt.show()"
      ]
    },
    {
      "cell_type": "markdown",
      "id": "113c2434-8c68-4395-983e-ad3a8fc60ce8",
      "metadata": {
        "id": "113c2434-8c68-4395-983e-ad3a8fc60ce8"
      },
      "source": [
        "### Predicting the values"
      ]
    },
    {
      "cell_type": "code",
      "execution_count": 240,
      "id": "f7561bf8-a6e8-42ae-a5ac-412d139d4b82",
      "metadata": {
        "colab": {
          "base_uri": "https://localhost:8080/",
          "height": 505
        },
        "id": "f7561bf8-a6e8-42ae-a5ac-412d139d4b82",
        "outputId": "2add20a7-2a43-402e-cbfa-ed8ad28a0cc7"
      },
      "outputs": [
        {
          "output_type": "stream",
          "name": "stderr",
          "text": [
            "<ipython-input-240-189f2c1a51c8>:1: SettingWithCopyWarning: \n",
            "A value is trying to be set on a copy of a slice from a DataFrame.\n",
            "Try using .loc[row_indexer,col_indexer] = value instead\n",
            "\n",
            "See the caveats in the documentation: https://pandas.pydata.org/pandas-docs/stable/user_guide/indexing.html#returning-a-view-versus-a-copy\n",
            "  filter_test_2['PREDICTED_SCORE'] = ridge.predict(X_test_scaled)\n",
            "<ipython-input-240-189f2c1a51c8>:3: SettingWithCopyWarning: \n",
            "A value is trying to be set on a copy of a slice from a DataFrame.\n",
            "Try using .loc[row_indexer,col_indexer] = value instead\n",
            "\n",
            "See the caveats in the documentation: https://pandas.pydata.org/pandas-docs/stable/user_guide/indexing.html#returning-a-view-versus-a-copy\n",
            "  filter_train_2['PREDICTED_SCORE'] = ridge.predict(X_train_scaled)\n"
          ]
        },
        {
          "output_type": "execute_result",
          "data": {
            "text/plain": [
              "                 KEY GRADE  SCORE INSPECTION DATE     CAMIS  \\\n",
              "0  30112340-20230721     A    9.0      2023-07-21  30112340   \n",
              "1  30191841-20230423     A   10.0      2023-04-23  30191841   \n",
              "2  40359705-20230426     A   13.0      2023-04-26  40359705   \n",
              "\n",
              "                              DBA   Latitude  Longitude  02A  02B  ...  Tapas  \\\n",
              "0                         WENDY'S  40.662652 -73.962081    0    0  ...      0   \n",
              "1  DJ REYNOLDS PUB AND RESTAURANT  40.767326 -73.984310    0    0  ...      0   \n",
              "2                 NATHAN'S FAMOUS  40.575537 -73.981652    0    0  ...      0   \n",
              "\n",
              "   Tex-Mex  Thai  Turkish  Vegan  Vegetarian  Year  Cluster  Data Source  \\\n",
              "0        0     0        0      0           0  2023        2         Test   \n",
              "1        0     0        0      0           0  2023        2         Test   \n",
              "2        0     0        0      0           0  2023        2         Test   \n",
              "\n",
              "   PREDICTED_SCORE  \n",
              "0         7.766087  \n",
              "1        10.745189  \n",
              "2         9.963883  \n",
              "\n",
              "[3 rows x 180 columns]"
            ],
            "text/html": [
              "\n",
              "  <div id=\"df-a3baceed-8afd-4b7a-8ac3-2d0e01849154\" class=\"colab-df-container\">\n",
              "    <div>\n",
              "<style scoped>\n",
              "    .dataframe tbody tr th:only-of-type {\n",
              "        vertical-align: middle;\n",
              "    }\n",
              "\n",
              "    .dataframe tbody tr th {\n",
              "        vertical-align: top;\n",
              "    }\n",
              "\n",
              "    .dataframe thead th {\n",
              "        text-align: right;\n",
              "    }\n",
              "</style>\n",
              "<table border=\"1\" class=\"dataframe\">\n",
              "  <thead>\n",
              "    <tr style=\"text-align: right;\">\n",
              "      <th></th>\n",
              "      <th>KEY</th>\n",
              "      <th>GRADE</th>\n",
              "      <th>SCORE</th>\n",
              "      <th>INSPECTION DATE</th>\n",
              "      <th>CAMIS</th>\n",
              "      <th>DBA</th>\n",
              "      <th>Latitude</th>\n",
              "      <th>Longitude</th>\n",
              "      <th>02A</th>\n",
              "      <th>02B</th>\n",
              "      <th>...</th>\n",
              "      <th>Tapas</th>\n",
              "      <th>Tex-Mex</th>\n",
              "      <th>Thai</th>\n",
              "      <th>Turkish</th>\n",
              "      <th>Vegan</th>\n",
              "      <th>Vegetarian</th>\n",
              "      <th>Year</th>\n",
              "      <th>Cluster</th>\n",
              "      <th>Data Source</th>\n",
              "      <th>PREDICTED_SCORE</th>\n",
              "    </tr>\n",
              "  </thead>\n",
              "  <tbody>\n",
              "    <tr>\n",
              "      <th>0</th>\n",
              "      <td>30112340-20230721</td>\n",
              "      <td>A</td>\n",
              "      <td>9.0</td>\n",
              "      <td>2023-07-21</td>\n",
              "      <td>30112340</td>\n",
              "      <td>WENDY'S</td>\n",
              "      <td>40.662652</td>\n",
              "      <td>-73.962081</td>\n",
              "      <td>0</td>\n",
              "      <td>0</td>\n",
              "      <td>...</td>\n",
              "      <td>0</td>\n",
              "      <td>0</td>\n",
              "      <td>0</td>\n",
              "      <td>0</td>\n",
              "      <td>0</td>\n",
              "      <td>0</td>\n",
              "      <td>2023</td>\n",
              "      <td>2</td>\n",
              "      <td>Test</td>\n",
              "      <td>7.766087</td>\n",
              "    </tr>\n",
              "    <tr>\n",
              "      <th>1</th>\n",
              "      <td>30191841-20230423</td>\n",
              "      <td>A</td>\n",
              "      <td>10.0</td>\n",
              "      <td>2023-04-23</td>\n",
              "      <td>30191841</td>\n",
              "      <td>DJ REYNOLDS PUB AND RESTAURANT</td>\n",
              "      <td>40.767326</td>\n",
              "      <td>-73.984310</td>\n",
              "      <td>0</td>\n",
              "      <td>0</td>\n",
              "      <td>...</td>\n",
              "      <td>0</td>\n",
              "      <td>0</td>\n",
              "      <td>0</td>\n",
              "      <td>0</td>\n",
              "      <td>0</td>\n",
              "      <td>0</td>\n",
              "      <td>2023</td>\n",
              "      <td>2</td>\n",
              "      <td>Test</td>\n",
              "      <td>10.745189</td>\n",
              "    </tr>\n",
              "    <tr>\n",
              "      <th>2</th>\n",
              "      <td>40359705-20230426</td>\n",
              "      <td>A</td>\n",
              "      <td>13.0</td>\n",
              "      <td>2023-04-26</td>\n",
              "      <td>40359705</td>\n",
              "      <td>NATHAN'S FAMOUS</td>\n",
              "      <td>40.575537</td>\n",
              "      <td>-73.981652</td>\n",
              "      <td>0</td>\n",
              "      <td>0</td>\n",
              "      <td>...</td>\n",
              "      <td>0</td>\n",
              "      <td>0</td>\n",
              "      <td>0</td>\n",
              "      <td>0</td>\n",
              "      <td>0</td>\n",
              "      <td>0</td>\n",
              "      <td>2023</td>\n",
              "      <td>2</td>\n",
              "      <td>Test</td>\n",
              "      <td>9.963883</td>\n",
              "    </tr>\n",
              "  </tbody>\n",
              "</table>\n",
              "<p>3 rows × 180 columns</p>\n",
              "</div>\n",
              "    <div class=\"colab-df-buttons\">\n",
              "\n",
              "  <div class=\"colab-df-container\">\n",
              "    <button class=\"colab-df-convert\" onclick=\"convertToInteractive('df-a3baceed-8afd-4b7a-8ac3-2d0e01849154')\"\n",
              "            title=\"Convert this dataframe to an interactive table.\"\n",
              "            style=\"display:none;\">\n",
              "\n",
              "  <svg xmlns=\"http://www.w3.org/2000/svg\" height=\"24px\" viewBox=\"0 -960 960 960\">\n",
              "    <path d=\"M120-120v-720h720v720H120Zm60-500h600v-160H180v160Zm220 220h160v-160H400v160Zm0 220h160v-160H400v160ZM180-400h160v-160H180v160Zm440 0h160v-160H620v160ZM180-180h160v-160H180v160Zm440 0h160v-160H620v160Z\"/>\n",
              "  </svg>\n",
              "    </button>\n",
              "\n",
              "  <style>\n",
              "    .colab-df-container {\n",
              "      display:flex;\n",
              "      gap: 12px;\n",
              "    }\n",
              "\n",
              "    .colab-df-convert {\n",
              "      background-color: #E8F0FE;\n",
              "      border: none;\n",
              "      border-radius: 50%;\n",
              "      cursor: pointer;\n",
              "      display: none;\n",
              "      fill: #1967D2;\n",
              "      height: 32px;\n",
              "      padding: 0 0 0 0;\n",
              "      width: 32px;\n",
              "    }\n",
              "\n",
              "    .colab-df-convert:hover {\n",
              "      background-color: #E2EBFA;\n",
              "      box-shadow: 0px 1px 2px rgba(60, 64, 67, 0.3), 0px 1px 3px 1px rgba(60, 64, 67, 0.15);\n",
              "      fill: #174EA6;\n",
              "    }\n",
              "\n",
              "    .colab-df-buttons div {\n",
              "      margin-bottom: 4px;\n",
              "    }\n",
              "\n",
              "    [theme=dark] .colab-df-convert {\n",
              "      background-color: #3B4455;\n",
              "      fill: #D2E3FC;\n",
              "    }\n",
              "\n",
              "    [theme=dark] .colab-df-convert:hover {\n",
              "      background-color: #434B5C;\n",
              "      box-shadow: 0px 1px 3px 1px rgba(0, 0, 0, 0.15);\n",
              "      filter: drop-shadow(0px 1px 2px rgba(0, 0, 0, 0.3));\n",
              "      fill: #FFFFFF;\n",
              "    }\n",
              "  </style>\n",
              "\n",
              "    <script>\n",
              "      const buttonEl =\n",
              "        document.querySelector('#df-a3baceed-8afd-4b7a-8ac3-2d0e01849154 button.colab-df-convert');\n",
              "      buttonEl.style.display =\n",
              "        google.colab.kernel.accessAllowed ? 'block' : 'none';\n",
              "\n",
              "      async function convertToInteractive(key) {\n",
              "        const element = document.querySelector('#df-a3baceed-8afd-4b7a-8ac3-2d0e01849154');\n",
              "        const dataTable =\n",
              "          await google.colab.kernel.invokeFunction('convertToInteractive',\n",
              "                                                    [key], {});\n",
              "        if (!dataTable) return;\n",
              "\n",
              "        const docLinkHtml = 'Like what you see? Visit the ' +\n",
              "          '<a target=\"_blank\" href=https://colab.research.google.com/notebooks/data_table.ipynb>data table notebook</a>'\n",
              "          + ' to learn more about interactive tables.';\n",
              "        element.innerHTML = '';\n",
              "        dataTable['output_type'] = 'display_data';\n",
              "        await google.colab.output.renderOutput(dataTable, element);\n",
              "        const docLink = document.createElement('div');\n",
              "        docLink.innerHTML = docLinkHtml;\n",
              "        element.appendChild(docLink);\n",
              "      }\n",
              "    </script>\n",
              "  </div>\n",
              "\n",
              "\n",
              "<div id=\"df-4058a49b-aa43-4382-909f-1068f76c8716\">\n",
              "  <button class=\"colab-df-quickchart\" onclick=\"quickchart('df-4058a49b-aa43-4382-909f-1068f76c8716')\"\n",
              "            title=\"Suggest charts\"\n",
              "            style=\"display:none;\">\n",
              "\n",
              "<svg xmlns=\"http://www.w3.org/2000/svg\" height=\"24px\"viewBox=\"0 0 24 24\"\n",
              "     width=\"24px\">\n",
              "    <g>\n",
              "        <path d=\"M19 3H5c-1.1 0-2 .9-2 2v14c0 1.1.9 2 2 2h14c1.1 0 2-.9 2-2V5c0-1.1-.9-2-2-2zM9 17H7v-7h2v7zm4 0h-2V7h2v10zm4 0h-2v-4h2v4z\"/>\n",
              "    </g>\n",
              "</svg>\n",
              "  </button>\n",
              "\n",
              "<style>\n",
              "  .colab-df-quickchart {\n",
              "      --bg-color: #E8F0FE;\n",
              "      --fill-color: #1967D2;\n",
              "      --hover-bg-color: #E2EBFA;\n",
              "      --hover-fill-color: #174EA6;\n",
              "      --disabled-fill-color: #AAA;\n",
              "      --disabled-bg-color: #DDD;\n",
              "  }\n",
              "\n",
              "  [theme=dark] .colab-df-quickchart {\n",
              "      --bg-color: #3B4455;\n",
              "      --fill-color: #D2E3FC;\n",
              "      --hover-bg-color: #434B5C;\n",
              "      --hover-fill-color: #FFFFFF;\n",
              "      --disabled-bg-color: #3B4455;\n",
              "      --disabled-fill-color: #666;\n",
              "  }\n",
              "\n",
              "  .colab-df-quickchart {\n",
              "    background-color: var(--bg-color);\n",
              "    border: none;\n",
              "    border-radius: 50%;\n",
              "    cursor: pointer;\n",
              "    display: none;\n",
              "    fill: var(--fill-color);\n",
              "    height: 32px;\n",
              "    padding: 0;\n",
              "    width: 32px;\n",
              "  }\n",
              "\n",
              "  .colab-df-quickchart:hover {\n",
              "    background-color: var(--hover-bg-color);\n",
              "    box-shadow: 0 1px 2px rgba(60, 64, 67, 0.3), 0 1px 3px 1px rgba(60, 64, 67, 0.15);\n",
              "    fill: var(--button-hover-fill-color);\n",
              "  }\n",
              "\n",
              "  .colab-df-quickchart-complete:disabled,\n",
              "  .colab-df-quickchart-complete:disabled:hover {\n",
              "    background-color: var(--disabled-bg-color);\n",
              "    fill: var(--disabled-fill-color);\n",
              "    box-shadow: none;\n",
              "  }\n",
              "\n",
              "  .colab-df-spinner {\n",
              "    border: 2px solid var(--fill-color);\n",
              "    border-color: transparent;\n",
              "    border-bottom-color: var(--fill-color);\n",
              "    animation:\n",
              "      spin 1s steps(1) infinite;\n",
              "  }\n",
              "\n",
              "  @keyframes spin {\n",
              "    0% {\n",
              "      border-color: transparent;\n",
              "      border-bottom-color: var(--fill-color);\n",
              "      border-left-color: var(--fill-color);\n",
              "    }\n",
              "    20% {\n",
              "      border-color: transparent;\n",
              "      border-left-color: var(--fill-color);\n",
              "      border-top-color: var(--fill-color);\n",
              "    }\n",
              "    30% {\n",
              "      border-color: transparent;\n",
              "      border-left-color: var(--fill-color);\n",
              "      border-top-color: var(--fill-color);\n",
              "      border-right-color: var(--fill-color);\n",
              "    }\n",
              "    40% {\n",
              "      border-color: transparent;\n",
              "      border-right-color: var(--fill-color);\n",
              "      border-top-color: var(--fill-color);\n",
              "    }\n",
              "    60% {\n",
              "      border-color: transparent;\n",
              "      border-right-color: var(--fill-color);\n",
              "    }\n",
              "    80% {\n",
              "      border-color: transparent;\n",
              "      border-right-color: var(--fill-color);\n",
              "      border-bottom-color: var(--fill-color);\n",
              "    }\n",
              "    90% {\n",
              "      border-color: transparent;\n",
              "      border-bottom-color: var(--fill-color);\n",
              "    }\n",
              "  }\n",
              "</style>\n",
              "\n",
              "  <script>\n",
              "    async function quickchart(key) {\n",
              "      const quickchartButtonEl =\n",
              "        document.querySelector('#' + key + ' button');\n",
              "      quickchartButtonEl.disabled = true;  // To prevent multiple clicks.\n",
              "      quickchartButtonEl.classList.add('colab-df-spinner');\n",
              "      try {\n",
              "        const charts = await google.colab.kernel.invokeFunction(\n",
              "            'suggestCharts', [key], {});\n",
              "      } catch (error) {\n",
              "        console.error('Error during call to suggestCharts:', error);\n",
              "      }\n",
              "      quickchartButtonEl.classList.remove('colab-df-spinner');\n",
              "      quickchartButtonEl.classList.add('colab-df-quickchart-complete');\n",
              "    }\n",
              "    (() => {\n",
              "      let quickchartButtonEl =\n",
              "        document.querySelector('#df-4058a49b-aa43-4382-909f-1068f76c8716 button');\n",
              "      quickchartButtonEl.style.display =\n",
              "        google.colab.kernel.accessAllowed ? 'block' : 'none';\n",
              "    })();\n",
              "  </script>\n",
              "</div>\n",
              "    </div>\n",
              "  </div>\n"
            ],
            "application/vnd.google.colaboratory.intrinsic+json": {
              "type": "dataframe",
              "variable_name": "merged_df_2"
            }
          },
          "metadata": {},
          "execution_count": 240
        }
      ],
      "source": [
        "filter_test_2['PREDICTED_SCORE'] = ridge.predict(X_test_scaled)\n",
        "X_train_scaled = scaler.transform(X_train)\n",
        "filter_train_2['PREDICTED_SCORE'] = ridge.predict(X_train_scaled)\n",
        "merged_df_2 = pd.concat([filter_test_2, filter_train_2], ignore_index=True)\n",
        "merged_df_2.head(3)"
      ]
    },
    {
      "cell_type": "markdown",
      "id": "fff60ba5-0185-4e75-84be-c95910ebf97e",
      "metadata": {
        "id": "fff60ba5-0185-4e75-84be-c95910ebf97e"
      },
      "source": [
        "## CLUSTER 3"
      ]
    },
    {
      "cell_type": "code",
      "execution_count": 241,
      "id": "b848b592-8f05-4b04-b53b-db52a23207b9",
      "metadata": {
        "id": "b848b592-8f05-4b04-b53b-db52a23207b9"
      },
      "outputs": [],
      "source": [
        "cluster_3 = combined_data[combined_data['Cluster'] == 3]\n"
      ]
    },
    {
      "cell_type": "code",
      "execution_count": 242,
      "id": "ba79916c-7622-436b-ad3c-188b7c5c020f",
      "metadata": {
        "colab": {
          "base_uri": "https://localhost:8080/"
        },
        "id": "ba79916c-7622-436b-ad3c-188b7c5c020f",
        "outputId": "3323bd61-3eab-4327-e389-a0336abb9db3"
      },
      "outputs": [
        {
          "output_type": "stream",
          "name": "stdout",
          "text": [
            "      Sum\n",
            "02B  1426\n",
            "09C   927\n",
            "04A   645\n",
            "06F   540\n",
            "09B   402\n",
            "04M   156\n",
            "09E   143\n",
            "10J    77\n",
            "10C    44\n",
            "02I    23\n"
          ]
        }
      ],
      "source": [
        "sum_of_unique_violations_3 = cluster_3[unique_violations].sum().head(10)\n",
        "sum_table3 = pd.DataFrame(sum_of_unique_violations_3, columns=['Sum'])\n",
        "sum_table_sorted3 = sum_table3.sort_values(by='Sum', ascending=False)\n",
        "print(sum_table_sorted3)"
      ]
    },
    {
      "cell_type": "code",
      "execution_count": 243,
      "metadata": {
        "colab": {
          "base_uri": "https://localhost:8080/",
          "height": 601
        },
        "outputId": "32e246fc-07a3-4925-fe3c-8a6f1636f656",
        "id": "d1gbCCmsdPbr"
      },
      "outputs": [
        {
          "output_type": "display_data",
          "data": {
            "text/plain": [
              "<Figure size 1000x600 with 1 Axes>"
            ],
            "image/png": "[encoded data removed]"
          },
          "metadata": {}
        }
      ],
      "source": [
        "sum_table_sorted3 = sum_table3.sort_values(by='Sum', ascending=False).head(10)\n",
        "plt.figure(figsize=(10, 6))\n",
        "plt.bar(sum_table_sorted3.index, sum_table_sorted3['Sum'], color='skyblue')\n",
        "plt.xlabel('Unique Violation Column')\n",
        "plt.ylabel('Sum of Values')\n",
        "plt.title('Sum of Values for Each Unique Violation Column')\n",
        "plt.xticks(rotation=45, ha='right')\n",
        "plt.tight_layout()\n",
        "plt.show()\n",
        "\n",
        "# 02B: Hot potentially hazardous food not held at 140°F or above\n",
        "# 09C: Food contact surface improperly constructed and maintained; not easily cleanable\n",
        "# 04A: Food Protection Certificate not held by supervisor or manager of food operations\n",
        "# 06F: Wiping cloth improperly stored and/or sanitized"
      ],
      "id": "d1gbCCmsdPbr"
    },
    {
      "cell_type": "code",
      "execution_count": 244,
      "id": "c09ebc45-5161-47e2-b428-7141ae7fa0d5",
      "metadata": {
        "id": "c09ebc45-5161-47e2-b428-7141ae7fa0d5"
      },
      "outputs": [],
      "source": [
        "cluster_3 = cluster_3[cluster_3['SCORE'] != 0]"
      ]
    },
    {
      "cell_type": "code",
      "execution_count": 245,
      "id": "402a1472-7a49-496b-943a-6fb01f3a4233",
      "metadata": {
        "id": "402a1472-7a49-496b-943a-6fb01f3a4233"
      },
      "outputs": [],
      "source": [
        "filter_test_3 = cluster_3[cluster_3['Year'].isin([2023, 2024])]\n",
        "filter_train_3 = cluster_3[cluster_3['Year'].isin([2015, 2016,2017,2018,2019,2020,2021,2022])]\n",
        "X_train=filter_train_3[unique_violations]\n",
        "X_test=filter_test_3[unique_violations]\n",
        "y_train=filter_train_3['SCORE']\n",
        "y_test=filter_test_3['SCORE']"
      ]
    },
    {
      "cell_type": "markdown",
      "id": "66b65094-d147-4d7e-842a-952d81f6828a",
      "metadata": {
        "id": "66b65094-d147-4d7e-842a-952d81f6828a"
      },
      "source": [
        "### Linear Model"
      ]
    },
    {
      "cell_type": "code",
      "execution_count": 246,
      "id": "f2bf8401-ff20-4415-bf73-1e59012b26c0",
      "metadata": {
        "colab": {
          "base_uri": "https://localhost:8080/"
        },
        "id": "f2bf8401-ff20-4415-bf73-1e59012b26c0",
        "outputId": "a79fb472-6d7c-4eb1-845d-163ffb930053"
      },
      "outputs": [
        {
          "output_type": "stream",
          "name": "stdout",
          "text": [
            "                            OLS Regression Results                            \n",
            "==============================================================================\n",
            "Dep. Variable:                  SCORE   R-squared:                       0.928\n",
            "Model:                            OLS   Adj. R-squared:                  0.928\n",
            "Method:                 Least Squares   F-statistic:                     1923.\n",
            "Date:                Fri, 03 May 2024   Prob (F-statistic):               0.00\n",
            "Time:                        04:11:29   Log-Likelihood:                -15095.\n",
            "No. Observations:                9000   AIC:                         3.031e+04\n",
            "Df Residuals:                    8939   BIC:                         3.075e+04\n",
            "Df Model:                          60                                         \n",
            "Covariance Type:            nonrobust                                         \n",
            "==============================================================================\n",
            "                 coef    std err          t      P>|t|      [0.025      0.975]\n",
            "------------------------------------------------------------------------------\n",
            "10J            2.0072      0.150     13.371      0.000       1.713       2.301\n",
            "09B            1.8750      0.085     22.065      0.000       1.708       2.042\n",
            "02B            7.4624      0.052    144.689      0.000       7.361       7.563\n",
            "06F            5.1119      0.082     62.232      0.000       4.951       5.273\n",
            "04M            4.2498      0.306     13.892      0.000       3.650       4.849\n",
            "09C            2.2815      0.059     38.944      0.000       2.167       2.396\n",
            "09E            1.7678      0.292      6.062      0.000       1.196       2.339\n",
            "02I            5.0792      0.307     16.524      0.000       4.477       5.682\n",
            "10C            1.9061      0.234      8.140      0.000       1.447       2.365\n",
            "04A            9.7200      0.074    130.977      0.000       9.575       9.865\n",
            "10E            2.0391      0.100     20.388      0.000       1.843       2.235\n",
            "04L            4.5023      0.273     16.474      0.000       3.967       5.038\n",
            "04K            3.9336      0.371     10.602      0.000       3.206       4.661\n",
            "10H            2.2352      0.072     31.015      0.000       2.094       2.377\n",
            "06D            5.1420      0.035    147.959      0.000       5.074       5.210\n",
            "10B            2.1951      0.039     56.156      0.000       2.118       2.272\n",
            "06C            5.4468      0.042    128.461      0.000       5.364       5.530\n",
            "10F            2.8165      0.024    117.088      0.000       2.769       2.864\n",
            "09A            1.9332      0.175     11.076      0.000       1.591       2.275\n",
            "08A            5.4980      0.312     17.626      0.000       4.887       6.109\n",
            "02G            7.5680      0.045    167.022      0.000       7.479       7.657\n",
            "10D            1.8470      0.107     17.237      0.000       1.637       2.057\n",
            "08B            2.4310      0.164     14.824      0.000       2.110       2.752\n",
            "08C            2.1494      0.066     32.436      0.000       2.020       2.279\n",
            "06A            5.0617      0.071     71.016      0.000       4.922       5.201\n",
            "04N            4.5509      0.233     19.527      0.000       4.094       5.008\n",
            "04J            6.9282      0.148     46.969      0.000       6.639       7.217\n",
            "10G            4.7482      0.143     33.134      0.000       4.467       5.029\n",
            "04C            7.1096      0.174     40.960      0.000       6.769       7.450\n",
            "04H            7.0253      0.077     91.515      0.000       6.875       7.176\n",
            "05D            9.6863      0.114     85.013      0.000       9.463       9.910\n",
            "10A            1.9833      0.149     13.338      0.000       1.692       2.275\n",
            "10I            2.1750      0.080     27.046      0.000       2.017       2.333\n",
            "06B            5.2189      0.151     34.530      0.000       4.923       5.515\n",
            "02H            7.1397      0.104     68.907      0.000       6.937       7.343\n",
            "06E            4.9659      0.074     67.477      0.000       4.822       5.110\n",
            "03A           10.3662      0.253     40.973      0.000       9.870      10.862\n",
            "02C            5.3184      0.348     15.276      0.000       4.636       6.001\n",
            "28-06          2.8259      0.927      3.049      0.002       1.009       4.643\n",
            "28-05          0.8731      0.492      1.775      0.076      -0.091       1.837\n",
            "02A            9.8748      0.392     25.175      0.000       9.106      10.644\n",
            "22G            0.1769      0.588      0.301      0.763      -0.975       1.329\n",
            "05F           18.3762      0.462     39.737      0.000      17.470      19.283\n",
            "05H           19.3746      0.492     39.385      0.000      18.410      20.339\n",
            "03C         1.003e-14   1.36e-15      7.377      0.000    7.37e-15    1.27e-14\n",
            "04E            6.9372      0.350     19.825      0.000       6.251       7.623\n",
            "03I            9.1835      1.299      7.068      0.000       6.636      11.730\n",
            "04O            4.8588      0.266     18.236      0.000       4.336       5.381\n",
            "05C           27.7251      1.339     20.699      0.000      25.099      30.351\n",
            "03B            9.9285      0.398     24.972      0.000       9.149      10.708\n",
            "04B         7.279e-15    4.4e-16     16.548      0.000    6.42e-15    8.14e-15\n",
            "06G           30.4320      0.925     32.912      0.000      28.620      32.245\n",
            "05B            9.5859      0.919     10.431      0.000       7.784      11.387\n",
            "04D           10.1978      0.492     20.723      0.000       9.233      11.162\n",
            "02D        -5.214e-16   5.01e-16     -1.041      0.298    -1.5e-15     4.6e-16\n",
            "04F            8.4887      0.760     11.173      0.000       6.999       9.978\n",
            "04P         9.926e-17   2.39e-16      0.415      0.678    -3.7e-16    5.68e-16\n",
            "05A           10.1835      1.299      7.837      0.000       7.636      12.730\n",
            "02F            4.9304      0.751      6.565      0.000       3.458       6.403\n",
            "22F           -1.4052      1.300     -1.081      0.280      -3.954       1.143\n",
            "03F        -4.984e-17   9.16e-17     -0.544      0.586   -2.29e-16     1.3e-16\n",
            "03E           11.6722      1.308      8.924      0.000       9.108      14.236\n",
            "05E            9.6835      0.919     10.538      0.000       7.882      11.485\n",
            "03D            6.0549      1.305      4.641      0.000       3.497       8.613\n",
            "03G                 0          0        nan        nan           0           0\n",
            "18-11          1.7211      1.300      1.324      0.186      -0.827       4.270\n",
            "28-07               0          0        nan        nan           0           0\n",
            "09D                 0          0        nan        nan           0           0\n",
            "04I            4.9482      1.301      3.803      0.000       2.398       7.499\n",
            "==============================================================================\n",
            "Omnibus:                     4795.211   Durbin-Watson:                   1.978\n",
            "Prob(Omnibus):                  0.000   Jarque-Bera (JB):           194447.075\n",
            "Skew:                           1.889   Prob(JB):                         0.00\n",
            "Kurtosis:                      25.456   Cond. No.                     2.46e+17\n",
            "==============================================================================\n",
            "\n",
            "Notes:\n",
            "[1] Standard Errors assume that the covariance matrix of the errors is correctly specified.\n",
            "[2] The smallest eigenvalue is 1.68e-31. This might indicate that there are\n",
            "strong multicollinearity problems or that the design matrix is singular.\n"
          ]
        }
      ],
      "source": [
        "c3_X_train = sm.add_constant(X_train)\n",
        "c3_X_test = sm.add_constant(X_test)\n",
        "c3_lin_model = sm.OLS(y_train, c3_X_train)\n",
        "results = c3_lin_model.fit()\n",
        "c1_lin_pred_3 = results.predict(c3_X_test)\n",
        "print(results.summary())"
      ]
    },
    {
      "cell_type": "code",
      "execution_count": 247,
      "id": "3e3790ad-8fed-412d-9584-437972ea3c80",
      "metadata": {
        "colab": {
          "base_uri": "https://localhost:8080/"
        },
        "id": "3e3790ad-8fed-412d-9584-437972ea3c80",
        "outputId": "15f85241-c710-4b9b-a75f-40156e5de164"
      },
      "outputs": [
        {
          "output_type": "stream",
          "name": "stdout",
          "text": [
            "Mean Absolute Percentage Error (MAPE) 14.263867576661097\n"
          ]
        }
      ],
      "source": [
        "from sklearn.metrics import mean_absolute_error\n",
        "\n",
        "y_true = y_test\n",
        "y_pred = c1_lin_pred_3\n",
        "\n",
        "def mean_absolute_percentage_error(y_true, y_pred):\n",
        "    y_true, y_pred = np.array(y_true), np.array(y_pred)\n",
        "    return np.mean(np.abs((y_true - y_pred) / y_true)) * 100\n",
        "\n",
        "mape_3 = mean_absolute_percentage_error(y_true, y_pred)\n",
        "print(\"Mean Absolute Percentage Error (MAPE)\", mape_3)"
      ]
    },
    {
      "cell_type": "markdown",
      "id": "508309d8-faf6-4b9a-9b7c-778a86b5bd34",
      "metadata": {
        "id": "508309d8-faf6-4b9a-9b7c-778a86b5bd34"
      },
      "source": [
        "### Ridge"
      ]
    },
    {
      "cell_type": "code",
      "execution_count": 248,
      "id": "2309e8de-6afb-480b-b234-f2c8c065b98c",
      "metadata": {
        "colab": {
          "base_uri": "https://localhost:8080/"
        },
        "id": "2309e8de-6afb-480b-b234-f2c8c065b98c",
        "outputId": "628aa587-326c-4b61-e358-6428d5288863"
      },
      "outputs": [
        {
          "output_type": "execute_result",
          "data": {
            "text/plain": [
              "3.243"
            ]
          },
          "metadata": {},
          "execution_count": 248
        }
      ],
      "source": [
        "from sklearn.linear_model import Ridge\n",
        "from sklearn.preprocessing import StandardScaler\n",
        "\n",
        "scaler = StandardScaler().fit(X_train)\n",
        "\n",
        "\n",
        "X_test_scaled = scaler.transform(X_test)\n",
        "\n",
        "\n",
        "ridge = Ridge(alpha=1.0)\n",
        "ridge.fit(scaler.transform(X_train), y_train)\n",
        "\n",
        "\n",
        "pu_ridge_prediction3 = ridge.predict(X_test_scaled)\n",
        "\n",
        "pu_ridge_mse_3 = round(mean_squared_error(y_test, pu_ridge_prediction3), 3)\n",
        "pu_ridge_mse_3"
      ]
    },
    {
      "cell_type": "code",
      "execution_count": 249,
      "metadata": {
        "colab": {
          "base_uri": "https://localhost:8080/"
        },
        "id": "Oq1AoMI8A1zw",
        "outputId": "f1b4bd22-ae14-4ca9-850a-20015443d11d"
      },
      "outputs": [
        {
          "output_type": "stream",
          "name": "stdout",
          "text": [
            "Mean Absolute Percentage Error (MAPE) 14.266585525856051\n"
          ]
        }
      ],
      "source": [
        "# MAPE VALUE OF RIDGE REGRESSION\n",
        "y3_true = y_test\n",
        "y3_pred = pu_ridge_prediction3\n",
        "\n",
        "def mean_absolute_percentage_error(y3_true, y3_pred):\n",
        "    y3_true, y3_pred = np.array(y3_true), np.array(y3_pred)\n",
        "    return np.mean(np.abs((y3_true - y3_pred) / y3_true)) * 100\n",
        "\n",
        "mape3 = mean_absolute_percentage_error(y3_true, y3_pred)\n",
        "print(\"Mean Absolute Percentage Error (MAPE)\", mape3)"
      ],
      "id": "Oq1AoMI8A1zw"
    },
    {
      "cell_type": "markdown",
      "source": [
        "### Lasso"
      ],
      "metadata": {
        "id": "zIotcBdkgV9p"
      },
      "id": "zIotcBdkgV9p"
    },
    {
      "cell_type": "code",
      "execution_count": 250,
      "metadata": {
        "id": "ABEsY8LlgV9p"
      },
      "outputs": [],
      "source": [
        "lasso_reg = Lasso(alpha=1.0)\n",
        "lasso_reg.fit(X_train, y_train)\n",
        "c2_las_pred = lasso_reg.predict(c3_X_test)"
      ],
      "id": "ABEsY8LlgV9p"
    },
    {
      "cell_type": "code",
      "execution_count": 251,
      "metadata": {
        "colab": {
          "base_uri": "https://localhost:8080/"
        },
        "outputId": "5dee57e4-7d36-4218-c021-43c07bef70ed",
        "id": "7aPMWdPrgV9q"
      },
      "outputs": [
        {
          "output_type": "stream",
          "name": "stdout",
          "text": [
            "Mean Absolute Percentage Error (MAPE) 69.86651602634905\n"
          ]
        }
      ],
      "source": [
        "y2_true = y_test\n",
        "y2_pred = c2_las_pred\n",
        "\n",
        "def mean_absolute_percentage_error(y2_true, y2_pred):\n",
        "    y2_true, y2_pred = np.array(y2_true), np.array(y2_pred)\n",
        "    return np.mean(np.abs((y2_true - y2_pred) / y2_true)) * 100\n",
        "\n",
        "mape2 = mean_absolute_percentage_error(y2_true, y2_pred)\n",
        "print(\"Mean Absolute Percentage Error (MAPE)\", mape2)\n",
        "# MAPE: 49.908"
      ],
      "id": "7aPMWdPrgV9q"
    },
    {
      "cell_type": "markdown",
      "id": "27ab741e-4f1b-4274-89d9-469600de126c",
      "metadata": {
        "id": "27ab741e-4f1b-4274-89d9-469600de126c"
      },
      "source": [
        "### Predicting the values"
      ]
    },
    {
      "cell_type": "code",
      "execution_count": 252,
      "id": "004a964b-80fe-4352-8436-5fc376824c3e",
      "metadata": {
        "colab": {
          "base_uri": "https://localhost:8080/"
        },
        "id": "004a964b-80fe-4352-8436-5fc376824c3e",
        "outputId": "0f0dbc14-5fb3-4369-89b1-6ca32613c413"
      },
      "outputs": [
        {
          "output_type": "stream",
          "name": "stderr",
          "text": [
            "<ipython-input-252-41e5119c3247>:4: SettingWithCopyWarning: \n",
            "A value is trying to be set on a copy of a slice from a DataFrame.\n",
            "Try using .loc[row_indexer,col_indexer] = value instead\n",
            "\n",
            "See the caveats in the documentation: https://pandas.pydata.org/pandas-docs/stable/user_guide/indexing.html#returning-a-view-versus-a-copy\n",
            "  filter_test_3['PREDICTED_SCORE'] = linear_model.predict(X_test_scaled)\n",
            "<ipython-input-252-41e5119c3247>:5: SettingWithCopyWarning: \n",
            "A value is trying to be set on a copy of a slice from a DataFrame.\n",
            "Try using .loc[row_indexer,col_indexer] = value instead\n",
            "\n",
            "See the caveats in the documentation: https://pandas.pydata.org/pandas-docs/stable/user_guide/indexing.html#returning-a-view-versus-a-copy\n",
            "  filter_train_3['PREDICTED_SCORE'] = linear_model.predict(X_train_scaled)\n"
          ]
        }
      ],
      "source": [
        "linear_model = LinearRegression()\n",
        "X_train_scaled = scaler.transform(X_train)\n",
        "linear_model.fit(X_train_scaled, y_train)\n",
        "filter_test_3['PREDICTED_SCORE'] = linear_model.predict(X_test_scaled)\n",
        "filter_train_3['PREDICTED_SCORE'] = linear_model.predict(X_train_scaled)\n",
        "merged_df_3 = pd.concat([filter_test_3, filter_train_3], ignore_index=True)"
      ]
    },
    {
      "cell_type": "markdown",
      "id": "0b728bf6-a316-46c1-978d-7da1e47040ed",
      "metadata": {
        "id": "0b728bf6-a316-46c1-978d-7da1e47040ed"
      },
      "source": [
        "## Merging the Cluster Datasets"
      ]
    },
    {
      "cell_type": "code",
      "execution_count": 253,
      "id": "a18e318c-f628-401a-873a-a198d51e141f",
      "metadata": {
        "colab": {
          "base_uri": "https://localhost:8080/",
          "height": 686
        },
        "id": "a18e318c-f628-401a-873a-a198d51e141f",
        "outputId": "6d6e27f1-0df1-4a6e-d721-ee55fdb87848"
      },
      "outputs": [
        {
          "output_type": "execute_result",
          "data": {
            "text/plain": [
              "                     KEY GRADE  SCORE INSPECTION DATE     CAMIS  \\\n",
              "0      40356731-20230117     A    9.0      2023-01-17  40356731   \n",
              "1      40367241-20231027     A   10.0      2023-10-27  40367241   \n",
              "2      40369418-20230829     A   13.0      2023-08-29  40369418   \n",
              "3      40369667-20231108     A   10.0      2023-11-08  40369667   \n",
              "4      40369782-20230809     A   12.0      2023-08-09  40369782   \n",
              "...                  ...   ...    ...             ...       ...   \n",
              "36879  50130435-20221220     A   13.0      2022-12-20  50130435   \n",
              "36880  50130476-20221227     A    4.0      2022-12-27  50130476   \n",
              "36881  50130520-20221229     A    7.0      2022-12-29  50130520   \n",
              "36882  50130539-20221229     A    2.0      2022-12-29  50130539   \n",
              "36883  50130769-20221221     A   10.0      2022-12-21  50130769   \n",
              "\n",
              "                               DBA   Latitude  Longitude  02A  02B  ...  \\\n",
              "0      TASTE THE TROPICS ICE CREAM  40.640795 -73.948488    0    0  ...   \n",
              "1              JG MELON RESTAURANT  40.771192 -73.959532    0    0  ...   \n",
              "2                     CAFFE REGGIO  40.730207 -74.000318    0    0  ...   \n",
              "3                     WHITE CASTLE  40.663491 -73.932265    0    0  ...   \n",
              "4                       MCDONALD'S  40.656181 -73.930845    0    0  ...   \n",
              "...                            ...        ...        ...  ...  ...  ...   \n",
              "36879              SKY COFFEE SHOP  40.708099 -73.911158    0    0  ...   \n",
              "36880                   QUEUE.BEER  40.674016 -73.998133    0    0  ...   \n",
              "36881         SHAKE SHACK NEW YORK  40.609929 -73.922282    0    0  ...   \n",
              "36882     STARBUCKS COFFEE COMPANY  40.639998 -73.918272    0    0  ...   \n",
              "36883                    COMPTON'S  40.775455 -73.914444    0    1  ...   \n",
              "\n",
              "       Tapas  Tex-Mex  Thai  Turkish  Vegan  Vegetarian  Year  Cluster  \\\n",
              "0          0        0     0        0      0           0  2023        0   \n",
              "1          0        0     0        0      0           0  2023        0   \n",
              "2          0        0     0        0      0           0  2023        0   \n",
              "3          0        0     0        0      0           0  2023        0   \n",
              "4          0        0     0        0      0           0  2023        0   \n",
              "...      ...      ...   ...      ...    ...         ...   ...      ...   \n",
              "36879      0        0     0        0      0           0  2022        3   \n",
              "36880      0        0     0        0      0           0  2022        3   \n",
              "36881      0        0     0        0      0           0  2022        3   \n",
              "36882      0        0     0        0      0           0  2022        3   \n",
              "36883      0        0     0        0      0           0  2022        3   \n",
              "\n",
              "       Data Source  PREDICTED_SCORE  \n",
              "0             Test        10.985034  \n",
              "1             Test        10.487235  \n",
              "2             Test        13.018596  \n",
              "3             Test        10.836167  \n",
              "4             Test        12.593113  \n",
              "...            ...              ...  \n",
              "36879     Training        13.009723  \n",
              "36880     Training         2.816700  \n",
              "36881     Training         7.876093  \n",
              "36882     Training         2.816700  \n",
              "36883     Training        10.277666  \n",
              "\n",
              "[36884 rows x 180 columns]"
            ],
            "text/html": [
              "\n",
              "  <div id=\"df-4b36c620-92da-42cc-84cc-daccb2c65900\" class=\"colab-df-container\">\n",
              "    <div>\n",
              "<style scoped>\n",
              "    .dataframe tbody tr th:only-of-type {\n",
              "        vertical-align: middle;\n",
              "    }\n",
              "\n",
              "    .dataframe tbody tr th {\n",
              "        vertical-align: top;\n",
              "    }\n",
              "\n",
              "    .dataframe thead th {\n",
              "        text-align: right;\n",
              "    }\n",
              "</style>\n",
              "<table border=\"1\" class=\"dataframe\">\n",
              "  <thead>\n",
              "    <tr style=\"text-align: right;\">\n",
              "      <th></th>\n",
              "      <th>KEY</th>\n",
              "      <th>GRADE</th>\n",
              "      <th>SCORE</th>\n",
              "      <th>INSPECTION DATE</th>\n",
              "      <th>CAMIS</th>\n",
              "      <th>DBA</th>\n",
              "      <th>Latitude</th>\n",
              "      <th>Longitude</th>\n",
              "      <th>02A</th>\n",
              "      <th>02B</th>\n",
              "      <th>...</th>\n",
              "      <th>Tapas</th>\n",
              "      <th>Tex-Mex</th>\n",
              "      <th>Thai</th>\n",
              "      <th>Turkish</th>\n",
              "      <th>Vegan</th>\n",
              "      <th>Vegetarian</th>\n",
              "      <th>Year</th>\n",
              "      <th>Cluster</th>\n",
              "      <th>Data Source</th>\n",
              "      <th>PREDICTED_SCORE</th>\n",
              "    </tr>\n",
              "  </thead>\n",
              "  <tbody>\n",
              "    <tr>\n",
              "      <th>0</th>\n",
              "      <td>40356731-20230117</td>\n",
              "      <td>A</td>\n",
              "      <td>9.0</td>\n",
              "      <td>2023-01-17</td>\n",
              "      <td>40356731</td>\n",
              "      <td>TASTE THE TROPICS ICE CREAM</td>\n",
              "      <td>40.640795</td>\n",
              "      <td>-73.948488</td>\n",
              "      <td>0</td>\n",
              "      <td>0</td>\n",
              "      <td>...</td>\n",
              "      <td>0</td>\n",
              "      <td>0</td>\n",
              "      <td>0</td>\n",
              "      <td>0</td>\n",
              "      <td>0</td>\n",
              "      <td>0</td>\n",
              "      <td>2023</td>\n",
              "      <td>0</td>\n",
              "      <td>Test</td>\n",
              "      <td>10.985034</td>\n",
              "    </tr>\n",
              "    <tr>\n",
              "      <th>1</th>\n",
              "      <td>40367241-20231027</td>\n",
              "      <td>A</td>\n",
              "      <td>10.0</td>\n",
              "      <td>2023-10-27</td>\n",
              "      <td>40367241</td>\n",
              "      <td>JG MELON RESTAURANT</td>\n",
              "      <td>40.771192</td>\n",
              "      <td>-73.959532</td>\n",
              "      <td>0</td>\n",
              "      <td>0</td>\n",
              "      <td>...</td>\n",
              "      <td>0</td>\n",
              "      <td>0</td>\n",
              "      <td>0</td>\n",
              "      <td>0</td>\n",
              "      <td>0</td>\n",
              "      <td>0</td>\n",
              "      <td>2023</td>\n",
              "      <td>0</td>\n",
              "      <td>Test</td>\n",
              "      <td>10.487235</td>\n",
              "    </tr>\n",
              "    <tr>\n",
              "      <th>2</th>\n",
              "      <td>40369418-20230829</td>\n",
              "      <td>A</td>\n",
              "      <td>13.0</td>\n",
              "      <td>2023-08-29</td>\n",
              "      <td>40369418</td>\n",
              "      <td>CAFFE REGGIO</td>\n",
              "      <td>40.730207</td>\n",
              "      <td>-74.000318</td>\n",
              "      <td>0</td>\n",
              "      <td>0</td>\n",
              "      <td>...</td>\n",
              "      <td>0</td>\n",
              "      <td>0</td>\n",
              "      <td>0</td>\n",
              "      <td>0</td>\n",
              "      <td>0</td>\n",
              "      <td>0</td>\n",
              "      <td>2023</td>\n",
              "      <td>0</td>\n",
              "      <td>Test</td>\n",
              "      <td>13.018596</td>\n",
              "    </tr>\n",
              "    <tr>\n",
              "      <th>3</th>\n",
              "      <td>40369667-20231108</td>\n",
              "      <td>A</td>\n",
              "      <td>10.0</td>\n",
              "      <td>2023-11-08</td>\n",
              "      <td>40369667</td>\n",
              "      <td>WHITE CASTLE</td>\n",
              "      <td>40.663491</td>\n",
              "      <td>-73.932265</td>\n",
              "      <td>0</td>\n",
              "      <td>0</td>\n",
              "      <td>...</td>\n",
              "      <td>0</td>\n",
              "      <td>0</td>\n",
              "      <td>0</td>\n",
              "      <td>0</td>\n",
              "      <td>0</td>\n",
              "      <td>0</td>\n",
              "      <td>2023</td>\n",
              "      <td>0</td>\n",
              "      <td>Test</td>\n",
              "      <td>10.836167</td>\n",
              "    </tr>\n",
              "    <tr>\n",
              "      <th>4</th>\n",
              "      <td>40369782-20230809</td>\n",
              "      <td>A</td>\n",
              "      <td>12.0</td>\n",
              "      <td>2023-08-09</td>\n",
              "      <td>40369782</td>\n",
              "      <td>MCDONALD'S</td>\n",
              "      <td>40.656181</td>\n",
              "      <td>-73.930845</td>\n",
              "      <td>0</td>\n",
              "      <td>0</td>\n",
              "      <td>...</td>\n",
              "      <td>0</td>\n",
              "      <td>0</td>\n",
              "      <td>0</td>\n",
              "      <td>0</td>\n",
              "      <td>0</td>\n",
              "      <td>0</td>\n",
              "      <td>2023</td>\n",
              "      <td>0</td>\n",
              "      <td>Test</td>\n",
              "      <td>12.593113</td>\n",
              "    </tr>\n",
              "    <tr>\n",
              "      <th>...</th>\n",
              "      <td>...</td>\n",
              "      <td>...</td>\n",
              "      <td>...</td>\n",
              "      <td>...</td>\n",
              "      <td>...</td>\n",
              "      <td>...</td>\n",
              "      <td>...</td>\n",
              "      <td>...</td>\n",
              "      <td>...</td>\n",
              "      <td>...</td>\n",
              "      <td>...</td>\n",
              "      <td>...</td>\n",
              "      <td>...</td>\n",
              "      <td>...</td>\n",
              "      <td>...</td>\n",
              "      <td>...</td>\n",
              "      <td>...</td>\n",
              "      <td>...</td>\n",
              "      <td>...</td>\n",
              "      <td>...</td>\n",
              "      <td>...</td>\n",
              "    </tr>\n",
              "    <tr>\n",
              "      <th>36879</th>\n",
              "      <td>50130435-20221220</td>\n",
              "      <td>A</td>\n",
              "      <td>13.0</td>\n",
              "      <td>2022-12-20</td>\n",
              "      <td>50130435</td>\n",
              "      <td>SKY COFFEE SHOP</td>\n",
              "      <td>40.708099</td>\n",
              "      <td>-73.911158</td>\n",
              "      <td>0</td>\n",
              "      <td>0</td>\n",
              "      <td>...</td>\n",
              "      <td>0</td>\n",
              "      <td>0</td>\n",
              "      <td>0</td>\n",
              "      <td>0</td>\n",
              "      <td>0</td>\n",
              "      <td>0</td>\n",
              "      <td>2022</td>\n",
              "      <td>3</td>\n",
              "      <td>Training</td>\n",
              "      <td>13.009723</td>\n",
              "    </tr>\n",
              "    <tr>\n",
              "      <th>36880</th>\n",
              "      <td>50130476-20221227</td>\n",
              "      <td>A</td>\n",
              "      <td>4.0</td>\n",
              "      <td>2022-12-27</td>\n",
              "      <td>50130476</td>\n",
              "      <td>QUEUE.BEER</td>\n",
              "      <td>40.674016</td>\n",
              "      <td>-73.998133</td>\n",
              "      <td>0</td>\n",
              "      <td>0</td>\n",
              "      <td>...</td>\n",
              "      <td>0</td>\n",
              "      <td>0</td>\n",
              "      <td>0</td>\n",
              "      <td>0</td>\n",
              "      <td>0</td>\n",
              "      <td>0</td>\n",
              "      <td>2022</td>\n",
              "      <td>3</td>\n",
              "      <td>Training</td>\n",
              "      <td>2.816700</td>\n",
              "    </tr>\n",
              "    <tr>\n",
              "      <th>36881</th>\n",
              "      <td>50130520-20221229</td>\n",
              "      <td>A</td>\n",
              "      <td>7.0</td>\n",
              "      <td>2022-12-29</td>\n",
              "      <td>50130520</td>\n",
              "      <td>SHAKE SHACK NEW YORK</td>\n",
              "      <td>40.609929</td>\n",
              "      <td>-73.922282</td>\n",
              "      <td>0</td>\n",
              "      <td>0</td>\n",
              "      <td>...</td>\n",
              "      <td>0</td>\n",
              "      <td>0</td>\n",
              "      <td>0</td>\n",
              "      <td>0</td>\n",
              "      <td>0</td>\n",
              "      <td>0</td>\n",
              "      <td>2022</td>\n",
              "      <td>3</td>\n",
              "      <td>Training</td>\n",
              "      <td>7.876093</td>\n",
              "    </tr>\n",
              "    <tr>\n",
              "      <th>36882</th>\n",
              "      <td>50130539-20221229</td>\n",
              "      <td>A</td>\n",
              "      <td>2.0</td>\n",
              "      <td>2022-12-29</td>\n",
              "      <td>50130539</td>\n",
              "      <td>STARBUCKS COFFEE COMPANY</td>\n",
              "      <td>40.639998</td>\n",
              "      <td>-73.918272</td>\n",
              "      <td>0</td>\n",
              "      <td>0</td>\n",
              "      <td>...</td>\n",
              "      <td>0</td>\n",
              "      <td>0</td>\n",
              "      <td>0</td>\n",
              "      <td>0</td>\n",
              "      <td>0</td>\n",
              "      <td>0</td>\n",
              "      <td>2022</td>\n",
              "      <td>3</td>\n",
              "      <td>Training</td>\n",
              "      <td>2.816700</td>\n",
              "    </tr>\n",
              "    <tr>\n",
              "      <th>36883</th>\n",
              "      <td>50130769-20221221</td>\n",
              "      <td>A</td>\n",
              "      <td>10.0</td>\n",
              "      <td>2022-12-21</td>\n",
              "      <td>50130769</td>\n",
              "      <td>COMPTON'S</td>\n",
              "      <td>40.775455</td>\n",
              "      <td>-73.914444</td>\n",
              "      <td>0</td>\n",
              "      <td>1</td>\n",
              "      <td>...</td>\n",
              "      <td>0</td>\n",
              "      <td>0</td>\n",
              "      <td>0</td>\n",
              "      <td>0</td>\n",
              "      <td>0</td>\n",
              "      <td>0</td>\n",
              "      <td>2022</td>\n",
              "      <td>3</td>\n",
              "      <td>Training</td>\n",
              "      <td>10.277666</td>\n",
              "    </tr>\n",
              "  </tbody>\n",
              "</table>\n",
              "<p>36884 rows × 180 columns</p>\n",
              "</div>\n",
              "    <div class=\"colab-df-buttons\">\n",
              "\n",
              "  <div class=\"colab-df-container\">\n",
              "    <button class=\"colab-df-convert\" onclick=\"convertToInteractive('df-4b36c620-92da-42cc-84cc-daccb2c65900')\"\n",
              "            title=\"Convert this dataframe to an interactive table.\"\n",
              "            style=\"display:none;\">\n",
              "\n",
              "  <svg xmlns=\"http://www.w3.org/2000/svg\" height=\"24px\" viewBox=\"0 -960 960 960\">\n",
              "    <path d=\"M120-120v-720h720v720H120Zm60-500h600v-160H180v160Zm220 220h160v-160H400v160Zm0 220h160v-160H400v160ZM180-400h160v-160H180v160Zm440 0h160v-160H620v160ZM180-180h160v-160H180v160Zm440 0h160v-160H620v160Z\"/>\n",
              "  </svg>\n",
              "    </button>\n",
              "\n",
              "  <style>\n",
              "    .colab-df-container {\n",
              "      display:flex;\n",
              "      gap: 12px;\n",
              "    }\n",
              "\n",
              "    .colab-df-convert {\n",
              "      background-color: #E8F0FE;\n",
              "      border: none;\n",
              "      border-radius: 50%;\n",
              "      cursor: pointer;\n",
              "      display: none;\n",
              "      fill: #1967D2;\n",
              "      height: 32px;\n",
              "      padding: 0 0 0 0;\n",
              "      width: 32px;\n",
              "    }\n",
              "\n",
              "    .colab-df-convert:hover {\n",
              "      background-color: #E2EBFA;\n",
              "      box-shadow: 0px 1px 2px rgba(60, 64, 67, 0.3), 0px 1px 3px 1px rgba(60, 64, 67, 0.15);\n",
              "      fill: #174EA6;\n",
              "    }\n",
              "\n",
              "    .colab-df-buttons div {\n",
              "      margin-bottom: 4px;\n",
              "    }\n",
              "\n",
              "    [theme=dark] .colab-df-convert {\n",
              "      background-color: #3B4455;\n",
              "      fill: #D2E3FC;\n",
              "    }\n",
              "\n",
              "    [theme=dark] .colab-df-convert:hover {\n",
              "      background-color: #434B5C;\n",
              "      box-shadow: 0px 1px 3px 1px rgba(0, 0, 0, 0.15);\n",
              "      filter: drop-shadow(0px 1px 2px rgba(0, 0, 0, 0.3));\n",
              "      fill: #FFFFFF;\n",
              "    }\n",
              "  </style>\n",
              "\n",
              "    <script>\n",
              "      const buttonEl =\n",
              "        document.querySelector('#df-4b36c620-92da-42cc-84cc-daccb2c65900 button.colab-df-convert');\n",
              "      buttonEl.style.display =\n",
              "        google.colab.kernel.accessAllowed ? 'block' : 'none';\n",
              "\n",
              "      async function convertToInteractive(key) {\n",
              "        const element = document.querySelector('#df-4b36c620-92da-42cc-84cc-daccb2c65900');\n",
              "        const dataTable =\n",
              "          await google.colab.kernel.invokeFunction('convertToInteractive',\n",
              "                                                    [key], {});\n",
              "        if (!dataTable) return;\n",
              "\n",
              "        const docLinkHtml = 'Like what you see? Visit the ' +\n",
              "          '<a target=\"_blank\" href=https://colab.research.google.com/notebooks/data_table.ipynb>data table notebook</a>'\n",
              "          + ' to learn more about interactive tables.';\n",
              "        element.innerHTML = '';\n",
              "        dataTable['output_type'] = 'display_data';\n",
              "        await google.colab.output.renderOutput(dataTable, element);\n",
              "        const docLink = document.createElement('div');\n",
              "        docLink.innerHTML = docLinkHtml;\n",
              "        element.appendChild(docLink);\n",
              "      }\n",
              "    </script>\n",
              "  </div>\n",
              "\n",
              "\n",
              "<div id=\"df-c8fc90ed-e29a-4ae4-bdf4-de22e9017452\">\n",
              "  <button class=\"colab-df-quickchart\" onclick=\"quickchart('df-c8fc90ed-e29a-4ae4-bdf4-de22e9017452')\"\n",
              "            title=\"Suggest charts\"\n",
              "            style=\"display:none;\">\n",
              "\n",
              "<svg xmlns=\"http://www.w3.org/2000/svg\" height=\"24px\"viewBox=\"0 0 24 24\"\n",
              "     width=\"24px\">\n",
              "    <g>\n",
              "        <path d=\"M19 3H5c-1.1 0-2 .9-2 2v14c0 1.1.9 2 2 2h14c1.1 0 2-.9 2-2V5c0-1.1-.9-2-2-2zM9 17H7v-7h2v7zm4 0h-2V7h2v10zm4 0h-2v-4h2v4z\"/>\n",
              "    </g>\n",
              "</svg>\n",
              "  </button>\n",
              "\n",
              "<style>\n",
              "  .colab-df-quickchart {\n",
              "      --bg-color: #E8F0FE;\n",
              "      --fill-color: #1967D2;\n",
              "      --hover-bg-color: #E2EBFA;\n",
              "      --hover-fill-color: #174EA6;\n",
              "      --disabled-fill-color: #AAA;\n",
              "      --disabled-bg-color: #DDD;\n",
              "  }\n",
              "\n",
              "  [theme=dark] .colab-df-quickchart {\n",
              "      --bg-color: #3B4455;\n",
              "      --fill-color: #D2E3FC;\n",
              "      --hover-bg-color: #434B5C;\n",
              "      --hover-fill-color: #FFFFFF;\n",
              "      --disabled-bg-color: #3B4455;\n",
              "      --disabled-fill-color: #666;\n",
              "  }\n",
              "\n",
              "  .colab-df-quickchart {\n",
              "    background-color: var(--bg-color);\n",
              "    border: none;\n",
              "    border-radius: 50%;\n",
              "    cursor: pointer;\n",
              "    display: none;\n",
              "    fill: var(--fill-color);\n",
              "    height: 32px;\n",
              "    padding: 0;\n",
              "    width: 32px;\n",
              "  }\n",
              "\n",
              "  .colab-df-quickchart:hover {\n",
              "    background-color: var(--hover-bg-color);\n",
              "    box-shadow: 0 1px 2px rgba(60, 64, 67, 0.3), 0 1px 3px 1px rgba(60, 64, 67, 0.15);\n",
              "    fill: var(--button-hover-fill-color);\n",
              "  }\n",
              "\n",
              "  .colab-df-quickchart-complete:disabled,\n",
              "  .colab-df-quickchart-complete:disabled:hover {\n",
              "    background-color: var(--disabled-bg-color);\n",
              "    fill: var(--disabled-fill-color);\n",
              "    box-shadow: none;\n",
              "  }\n",
              "\n",
              "  .colab-df-spinner {\n",
              "    border: 2px solid var(--fill-color);\n",
              "    border-color: transparent;\n",
              "    border-bottom-color: var(--fill-color);\n",
              "    animation:\n",
              "      spin 1s steps(1) infinite;\n",
              "  }\n",
              "\n",
              "  @keyframes spin {\n",
              "    0% {\n",
              "      border-color: transparent;\n",
              "      border-bottom-color: var(--fill-color);\n",
              "      border-left-color: var(--fill-color);\n",
              "    }\n",
              "    20% {\n",
              "      border-color: transparent;\n",
              "      border-left-color: var(--fill-color);\n",
              "      border-top-color: var(--fill-color);\n",
              "    }\n",
              "    30% {\n",
              "      border-color: transparent;\n",
              "      border-left-color: var(--fill-color);\n",
              "      border-top-color: var(--fill-color);\n",
              "      border-right-color: var(--fill-color);\n",
              "    }\n",
              "    40% {\n",
              "      border-color: transparent;\n",
              "      border-right-color: var(--fill-color);\n",
              "      border-top-color: var(--fill-color);\n",
              "    }\n",
              "    60% {\n",
              "      border-color: transparent;\n",
              "      border-right-color: var(--fill-color);\n",
              "    }\n",
              "    80% {\n",
              "      border-color: transparent;\n",
              "      border-right-color: var(--fill-color);\n",
              "      border-bottom-color: var(--fill-color);\n",
              "    }\n",
              "    90% {\n",
              "      border-color: transparent;\n",
              "      border-bottom-color: var(--fill-color);\n",
              "    }\n",
              "  }\n",
              "</style>\n",
              "\n",
              "  <script>\n",
              "    async function quickchart(key) {\n",
              "      const quickchartButtonEl =\n",
              "        document.querySelector('#' + key + ' button');\n",
              "      quickchartButtonEl.disabled = true;  // To prevent multiple clicks.\n",
              "      quickchartButtonEl.classList.add('colab-df-spinner');\n",
              "      try {\n",
              "        const charts = await google.colab.kernel.invokeFunction(\n",
              "            'suggestCharts', [key], {});\n",
              "      } catch (error) {\n",
              "        console.error('Error during call to suggestCharts:', error);\n",
              "      }\n",
              "      quickchartButtonEl.classList.remove('colab-df-spinner');\n",
              "      quickchartButtonEl.classList.add('colab-df-quickchart-complete');\n",
              "    }\n",
              "    (() => {\n",
              "      let quickchartButtonEl =\n",
              "        document.querySelector('#df-c8fc90ed-e29a-4ae4-bdf4-de22e9017452 button');\n",
              "      quickchartButtonEl.style.display =\n",
              "        google.colab.kernel.accessAllowed ? 'block' : 'none';\n",
              "    })();\n",
              "  </script>\n",
              "</div>\n",
              "    </div>\n",
              "  </div>\n"
            ],
            "application/vnd.google.colaboratory.intrinsic+json": {
              "type": "dataframe",
              "variable_name": "merged_df_final"
            }
          },
          "metadata": {},
          "execution_count": 253
        }
      ],
      "source": [
        "merged_df_final = pd.concat([merged_df_0,merged_df_1, merged_df_2,merged_df_3], ignore_index=True)\n",
        "merged_df_final"
      ]
    },
    {
      "cell_type": "markdown",
      "id": "911d396b-e038-4f8e-a65d-34070dfec821",
      "metadata": {
        "id": "911d396b-e038-4f8e-a65d-34070dfec821"
      },
      "source": [
        "merged_df_final.to_csv('merged_final_1.csv')"
      ]
    },
    {
      "cell_type": "code",
      "execution_count": 254,
      "id": "d7f7d715-4f95-45f8-962f-91e69bb9590f",
      "metadata": {
        "colab": {
          "base_uri": "https://localhost:8080/"
        },
        "id": "d7f7d715-4f95-45f8-962f-91e69bb9590f",
        "outputId": "4c20dfb9-c4ed-428e-ecf2-f55f15c8c37e"
      },
      "outputs": [
        {
          "output_type": "stream",
          "name": "stdout",
          "text": [
            "<class 'pandas.core.frame.DataFrame'>\n",
            "RangeIndex: 36884 entries, 0 to 36883\n",
            "Columns: 180 entries, KEY to PREDICTED_SCORE\n",
            "dtypes: datetime64[ns](1), float64(4), int32(1), int64(170), object(4)\n",
            "memory usage: 50.5+ MB\n"
          ]
        }
      ],
      "source": [
        "merged_df_final.info()"
      ]
    },
    {
      "cell_type": "markdown",
      "id": "753d38a0-3196-4a1b-85ab-cb8bcef62d14",
      "metadata": {
        "id": "753d38a0-3196-4a1b-85ab-cb8bcef62d14"
      },
      "source": [
        "### Data Aggregation"
      ]
    },
    {
      "cell_type": "code",
      "execution_count": 255,
      "id": "322a8c60-471f-4742-a9b8-89d85199593f",
      "metadata": {
        "id": "322a8c60-471f-4742-a9b8-89d85199593f"
      },
      "outputs": [],
      "source": [
        "merged_df_final['ID RESTAURANT'] = merged_df_final['KEY'].apply(lambda x: x.split('-')[0])\n",
        "\n",
        "key_index = merged_df_final.columns.get_loc('KEY')\n",
        "merged_df_final.insert(key_index + 1, 'ID RESTAURANT', merged_df_final.pop('ID RESTAURANT'))\n",
        "\n"
      ]
    },
    {
      "cell_type": "code",
      "execution_count": 256,
      "id": "9e53b956-5d12-4545-befa-c3c5f227c0a7",
      "metadata": {
        "colab": {
          "base_uri": "https://localhost:8080/"
        },
        "id": "9e53b956-5d12-4545-befa-c3c5f227c0a7",
        "outputId": "be535b72-de12-44c8-8544-01d6005d100e"
      },
      "outputs": [
        {
          "output_type": "stream",
          "name": "stdout",
          "text": [
            "                     KEY ID RESTAURANT GRADE  SCORE     CAMIS  \\\n",
            "0      30075445-20230822      30075445     A   12.0  30075445   \n",
            "1      30112340-20210805      30112340     B   16.0  30112340   \n",
            "2      30191841-20230423      30191841     A   10.0  30191841   \n",
            "3      40356018-20220201      40356018     A    7.0  40356018   \n",
            "4      40356483-20220124      40356483     A    9.0  40356483   \n",
            "...                  ...           ...   ...    ...       ...   \n",
            "23241  50145229-20240122      50145229     A    5.0  50145229   \n",
            "23242  50145309-20240118      50145309     A    5.0  50145309   \n",
            "23243  50145781-20240123      50145781     A   11.0  50145781   \n",
            "23244  50145823-20240105      50145823     A   11.0  50145823   \n",
            "23245  50145855-20240122      50145855     A   10.0  50145855   \n",
            "\n",
            "                                  DBA   Latitude  Longitude  02A  02B  ...  \\\n",
            "0               MORRIS PARK BAKE SHOP  40.848231 -73.855972    0    0  ...   \n",
            "1                             WENDY'S  40.662652 -73.962081    0    0  ...   \n",
            "2      DJ REYNOLDS PUB AND RESTAURANT  40.767326 -73.984310    0    0  ...   \n",
            "3                    RIVIERA CATERERS  40.579896 -73.982087    0    0  ...   \n",
            "4                  WILKEN'S FINE FOOD  40.620112 -73.906989    0    0  ...   \n",
            "...                               ...        ...        ...  ...  ...  ...   \n",
            "23241                     KUNG FU TEA  40.726835 -73.713513    0    0  ...   \n",
            "23242                STARBUCKS COFFEE  40.604237 -73.971791    0    0  ...   \n",
            "23243                         CANTEEN  40.745602 -73.989516    0    0  ...   \n",
            "23244                      BEAN HOUSE  40.771182 -73.803360    0    0  ...   \n",
            "23245               CHINA RED EXPRESS  40.715181 -74.008531    0    0  ...   \n",
            "\n",
            "       Tapas  Tex-Mex  Thai  Turkish  Vegan  Vegetarian  Cluster  Data Source  \\\n",
            "0          0        0     0        0      0           0        1         Test   \n",
            "1          0        0     0        0      0           0        0     Training   \n",
            "2          0        0     0        0      0           0        2         Test   \n",
            "3          0        0     0        0      0           0        2     Training   \n",
            "4          0        0     0        0      0           0        1     Training   \n",
            "...      ...      ...   ...      ...    ...         ...      ...          ...   \n",
            "23241      0        0     0        0      0           0        3         Test   \n",
            "23242      0        0     0        0      0           0        3         Test   \n",
            "23243      0        0     0        0      0           0        0         Test   \n",
            "23244      0        0     0        0      0           0        1         Test   \n",
            "23245      0        0     0        0      0           0        3         Test   \n",
            "\n",
            "       PREDICTED_SCORE  Exponential Smoothed Score  \n",
            "0            12.176476                   10.802323  \n",
            "1            19.721585                   10.221990  \n",
            "2            10.745189                   10.548231  \n",
            "3             7.628368                    7.873473  \n",
            "4             9.994760                    6.405730  \n",
            "...                ...                         ...  \n",
            "23241         5.011092                    5.011092  \n",
            "23242         4.798732                    4.798732  \n",
            "23243        12.953611                   12.953611  \n",
            "23244         9.994760                    9.994760  \n",
            "23245         8.264200                    8.264200  \n",
            "\n",
            "[23246 rows x 180 columns]\n"
          ]
        }
      ],
      "source": [
        "import pandas as pd\n",
        "\n",
        "# Calculate year weights\n",
        "weights = {\n",
        "    2024: 2,\n",
        "    2023: 1,\n",
        "    2022: 0.5,\n",
        "    2021: 0.25,\n",
        "    2020: 0.125,\n",
        "    2019: 0.0625,\n",
        "    2018: 0.03125,\n",
        "    2017: 0.015625,\n",
        "    2016: 0.0078125,\n",
        "    2015: 0.00390625\n",
        "}\n",
        "\n",
        "# Convert 'INSPECTION DATE' to datetime if not already\n",
        "merged_df_final['INSPECTION DATE'] = pd.to_datetime(merged_df_final['INSPECTION DATE'])\n",
        "\n",
        "# Calculate year from 'INSPECTION DATE'\n",
        "merged_df_final['Year'] = merged_df_final['INSPECTION DATE'].dt.year\n",
        "\n",
        "# Group by 'ID RESTAURANT'\n",
        "grouped = merged_df_final.groupby('ID RESTAURANT')\n",
        "\n",
        "# Define function to calculate weighted exponential smoothing average\n",
        "def weighted_ema(group):\n",
        "    group['Weighted Score'] = group['PREDICTED_SCORE'] * group['Year'].map(weights)\n",
        "    weighted_sum = group['Weighted Score'].sum()\n",
        "    weights_sum = group['Year'].map(weights).sum()\n",
        "    group['Exponential Smoothed Score'] = weighted_sum / weights_sum\n",
        "    return group.iloc[0]  # return the first row of the group\n",
        "\n",
        "# Apply exponential smoothing average\n",
        "aggregated_df = grouped.apply(weighted_ema)\n",
        "\n",
        "# Drop the redundant 'Year' and 'Weighted Score' columns\n",
        "aggregated_df.drop(columns=['Year', 'Weighted Score','INSPECTION DATE'], inplace=True)\n",
        "\n",
        "# Reset index to flatten the DataFrame\n",
        "aggregated_df.reset_index(drop=True, inplace=True)\n",
        "\n",
        "# Display the aggregated DataFrame\n",
        "print(aggregated_df)\n"
      ]
    },
    {
      "cell_type": "code",
      "execution_count": 257,
      "id": "97218df0-00d2-4997-b8b3-366842e8d683",
      "metadata": {
        "colab": {
          "base_uri": "https://localhost:8080/"
        },
        "id": "97218df0-00d2-4997-b8b3-366842e8d683",
        "outputId": "64c16a80-e076-4dbf-9f12-26ede0a07d46"
      },
      "outputs": [
        {
          "output_type": "stream",
          "name": "stdout",
          "text": [
            "                     KEY ID RESTAURANT GRADE  SCORE     CAMIS  \\\n",
            "0      30075445-20230822      30075445     A   12.0  30075445   \n",
            "1      30112340-20210805      30112340     B   16.0  30112340   \n",
            "2      30191841-20230423      30191841     A   10.0  30191841   \n",
            "3      40356018-20220201      40356018     A    7.0  40356018   \n",
            "4      40356483-20220124      40356483     A    9.0  40356483   \n",
            "...                  ...           ...   ...    ...       ...   \n",
            "23241  50145229-20240122      50145229     A    5.0  50145229   \n",
            "23242  50145309-20240118      50145309     A    5.0  50145309   \n",
            "23243  50145781-20240123      50145781     A   11.0  50145781   \n",
            "23244  50145823-20240105      50145823     A   11.0  50145823   \n",
            "23245  50145855-20240122      50145855     A   10.0  50145855   \n",
            "\n",
            "                                  DBA   Latitude  Longitude  02A  02B  ...  \\\n",
            "0               MORRIS PARK BAKE SHOP  40.848231 -73.855972    0    0  ...   \n",
            "1                             WENDY'S  40.662652 -73.962081    0    0  ...   \n",
            "2      DJ REYNOLDS PUB AND RESTAURANT  40.767326 -73.984310    0    0  ...   \n",
            "3                    RIVIERA CATERERS  40.579896 -73.982087    0    0  ...   \n",
            "4                  WILKEN'S FINE FOOD  40.620112 -73.906989    0    0  ...   \n",
            "...                               ...        ...        ...  ...  ...  ...   \n",
            "23241                     KUNG FU TEA  40.726835 -73.713513    0    0  ...   \n",
            "23242                STARBUCKS COFFEE  40.604237 -73.971791    0    0  ...   \n",
            "23243                         CANTEEN  40.745602 -73.989516    0    0  ...   \n",
            "23244                      BEAN HOUSE  40.771182 -73.803360    0    0  ...   \n",
            "23245               CHINA RED EXPRESS  40.715181 -74.008531    0    0  ...   \n",
            "\n",
            "       Tex-Mex  Thai  Turkish  Vegan  Vegetarian  Cluster  Data Source  \\\n",
            "0            0     0        0      0           0        1         Test   \n",
            "1            0     0        0      0           0        0     Training   \n",
            "2            0     0        0      0           0        2         Test   \n",
            "3            0     0        0      0           0        2     Training   \n",
            "4            0     0        0      0           0        1     Training   \n",
            "...        ...   ...      ...    ...         ...      ...          ...   \n",
            "23241        0     0        0      0           0        3         Test   \n",
            "23242        0     0        0      0           0        3         Test   \n",
            "23243        0     0        0      0           0        0         Test   \n",
            "23244        0     0        0      0           0        1         Test   \n",
            "23245        0     0        0      0           0        3         Test   \n",
            "\n",
            "       PREDICTED_SCORE  Exponential Smoothed Score  Probabilistic risk Score  \n",
            "0            12.176476                   10.802323                 12.361325  \n",
            "1            19.721585                   10.221990                 11.697238  \n",
            "2            10.745189                   10.548231                 12.070562  \n",
            "3             7.628368                    7.873473                  9.009780  \n",
            "4             9.994760                    6.405730                  7.330211  \n",
            "...                ...                         ...                       ...  \n",
            "23241         5.011092                    5.011092                  5.734297  \n",
            "23242         4.798732                    4.798732                  5.491290  \n",
            "23243        12.953611                   12.953611                 14.823090  \n",
            "23244         9.994760                    9.994760                 11.437214  \n",
            "23245         8.264200                    8.264200                  9.456898  \n",
            "\n",
            "[23246 rows x 181 columns]\n"
          ]
        }
      ],
      "source": [
        "max_score = aggregated_df['Exponential Smoothed Score'].max()\n",
        "\n",
        "aggregated_df['Probabilistic risk Score'] = (aggregated_df['Exponential Smoothed Score'] / max_score) * 100\n",
        "\n",
        "print(aggregated_df)\n"
      ]
    },
    {
      "cell_type": "code",
      "execution_count": 258,
      "id": "0d86f673-c98d-40f9-aef3-7333ead30241",
      "metadata": {
        "id": "0d86f673-c98d-40f9-aef3-7333ead30241"
      },
      "outputs": [],
      "source": [
        "aggregated_df.to_csv('Dataset_aggregated_rev01.csv')"
      ]
    },
    {
      "cell_type": "code",
      "execution_count": 259,
      "id": "721e4608-0842-4f0e-b296-6497d64a1160",
      "metadata": {
        "id": "721e4608-0842-4f0e-b296-6497d64a1160"
      },
      "outputs": [],
      "source": [
        "selected_columns = ['ID RESTAURANT', 'GRADE', 'DBA','Latitude','Longitude','Exponential Smoothed Score','Probabilistic risk Score']"
      ]
    },
    {
      "cell_type": "code",
      "execution_count": 260,
      "id": "d3306751-855e-4b17-8046-8a7083886a7c",
      "metadata": {
        "colab": {
          "base_uri": "https://localhost:8080/",
          "height": 112
        },
        "id": "d3306751-855e-4b17-8046-8a7083886a7c",
        "outputId": "c3a4d130-19c1-4d59-a2cc-900b01fce84f"
      },
      "outputs": [
        {
          "output_type": "execute_result",
          "data": {
            "text/plain": [
              "  ID RESTAURANT GRADE                    DBA   Latitude  Longitude  \\\n",
              "0      30075445     A  MORRIS PARK BAKE SHOP  40.848231 -73.855972   \n",
              "1      30112340     B                WENDY'S  40.662652 -73.962081   \n",
              "\n",
              "   Exponential Smoothed Score  Probabilistic risk Score  \n",
              "0                   10.802323                 12.361325  \n",
              "1                   10.221990                 11.697238  "
            ],
            "text/html": [
              "\n",
              "  <div id=\"df-f73b4c6a-f50c-4d13-94c2-af8920fad9a0\" class=\"colab-df-container\">\n",
              "    <div>\n",
              "<style scoped>\n",
              "    .dataframe tbody tr th:only-of-type {\n",
              "        vertical-align: middle;\n",
              "    }\n",
              "\n",
              "    .dataframe tbody tr th {\n",
              "        vertical-align: top;\n",
              "    }\n",
              "\n",
              "    .dataframe thead th {\n",
              "        text-align: right;\n",
              "    }\n",
              "</style>\n",
              "<table border=\"1\" class=\"dataframe\">\n",
              "  <thead>\n",
              "    <tr style=\"text-align: right;\">\n",
              "      <th></th>\n",
              "      <th>ID RESTAURANT</th>\n",
              "      <th>GRADE</th>\n",
              "      <th>DBA</th>\n",
              "      <th>Latitude</th>\n",
              "      <th>Longitude</th>\n",
              "      <th>Exponential Smoothed Score</th>\n",
              "      <th>Probabilistic risk Score</th>\n",
              "    </tr>\n",
              "  </thead>\n",
              "  <tbody>\n",
              "    <tr>\n",
              "      <th>0</th>\n",
              "      <td>30075445</td>\n",
              "      <td>A</td>\n",
              "      <td>MORRIS PARK BAKE SHOP</td>\n",
              "      <td>40.848231</td>\n",
              "      <td>-73.855972</td>\n",
              "      <td>10.802323</td>\n",
              "      <td>12.361325</td>\n",
              "    </tr>\n",
              "    <tr>\n",
              "      <th>1</th>\n",
              "      <td>30112340</td>\n",
              "      <td>B</td>\n",
              "      <td>WENDY'S</td>\n",
              "      <td>40.662652</td>\n",
              "      <td>-73.962081</td>\n",
              "      <td>10.221990</td>\n",
              "      <td>11.697238</td>\n",
              "    </tr>\n",
              "  </tbody>\n",
              "</table>\n",
              "</div>\n",
              "    <div class=\"colab-df-buttons\">\n",
              "\n",
              "  <div class=\"colab-df-container\">\n",
              "    <button class=\"colab-df-convert\" onclick=\"convertToInteractive('df-f73b4c6a-f50c-4d13-94c2-af8920fad9a0')\"\n",
              "            title=\"Convert this dataframe to an interactive table.\"\n",
              "            style=\"display:none;\">\n",
              "\n",
              "  <svg xmlns=\"http://www.w3.org/2000/svg\" height=\"24px\" viewBox=\"0 -960 960 960\">\n",
              "    <path d=\"M120-120v-720h720v720H120Zm60-500h600v-160H180v160Zm220 220h160v-160H400v160Zm0 220h160v-160H400v160ZM180-400h160v-160H180v160Zm440 0h160v-160H620v160ZM180-180h160v-160H180v160Zm440 0h160v-160H620v160Z\"/>\n",
              "  </svg>\n",
              "    </button>\n",
              "\n",
              "  <style>\n",
              "    .colab-df-container {\n",
              "      display:flex;\n",
              "      gap: 12px;\n",
              "    }\n",
              "\n",
              "    .colab-df-convert {\n",
              "      background-color: #E8F0FE;\n",
              "      border: none;\n",
              "      border-radius: 50%;\n",
              "      cursor: pointer;\n",
              "      display: none;\n",
              "      fill: #1967D2;\n",
              "      height: 32px;\n",
              "      padding: 0 0 0 0;\n",
              "      width: 32px;\n",
              "    }\n",
              "\n",
              "    .colab-df-convert:hover {\n",
              "      background-color: #E2EBFA;\n",
              "      box-shadow: 0px 1px 2px rgba(60, 64, 67, 0.3), 0px 1px 3px 1px rgba(60, 64, 67, 0.15);\n",
              "      fill: #174EA6;\n",
              "    }\n",
              "\n",
              "    .colab-df-buttons div {\n",
              "      margin-bottom: 4px;\n",
              "    }\n",
              "\n",
              "    [theme=dark] .colab-df-convert {\n",
              "      background-color: #3B4455;\n",
              "      fill: #D2E3FC;\n",
              "    }\n",
              "\n",
              "    [theme=dark] .colab-df-convert:hover {\n",
              "      background-color: #434B5C;\n",
              "      box-shadow: 0px 1px 3px 1px rgba(0, 0, 0, 0.15);\n",
              "      filter: drop-shadow(0px 1px 2px rgba(0, 0, 0, 0.3));\n",
              "      fill: #FFFFFF;\n",
              "    }\n",
              "  </style>\n",
              "\n",
              "    <script>\n",
              "      const buttonEl =\n",
              "        document.querySelector('#df-f73b4c6a-f50c-4d13-94c2-af8920fad9a0 button.colab-df-convert');\n",
              "      buttonEl.style.display =\n",
              "        google.colab.kernel.accessAllowed ? 'block' : 'none';\n",
              "\n",
              "      async function convertToInteractive(key) {\n",
              "        const element = document.querySelector('#df-f73b4c6a-f50c-4d13-94c2-af8920fad9a0');\n",
              "        const dataTable =\n",
              "          await google.colab.kernel.invokeFunction('convertToInteractive',\n",
              "                                                    [key], {});\n",
              "        if (!dataTable) return;\n",
              "\n",
              "        const docLinkHtml = 'Like what you see? Visit the ' +\n",
              "          '<a target=\"_blank\" href=https://colab.research.google.com/notebooks/data_table.ipynb>data table notebook</a>'\n",
              "          + ' to learn more about interactive tables.';\n",
              "        element.innerHTML = '';\n",
              "        dataTable['output_type'] = 'display_data';\n",
              "        await google.colab.output.renderOutput(dataTable, element);\n",
              "        const docLink = document.createElement('div');\n",
              "        docLink.innerHTML = docLinkHtml;\n",
              "        element.appendChild(docLink);\n",
              "      }\n",
              "    </script>\n",
              "  </div>\n",
              "\n",
              "\n",
              "<div id=\"df-62fa98de-25bd-4773-bba6-191ad6da4a4c\">\n",
              "  <button class=\"colab-df-quickchart\" onclick=\"quickchart('df-62fa98de-25bd-4773-bba6-191ad6da4a4c')\"\n",
              "            title=\"Suggest charts\"\n",
              "            style=\"display:none;\">\n",
              "\n",
              "<svg xmlns=\"http://www.w3.org/2000/svg\" height=\"24px\"viewBox=\"0 0 24 24\"\n",
              "     width=\"24px\">\n",
              "    <g>\n",
              "        <path d=\"M19 3H5c-1.1 0-2 .9-2 2v14c0 1.1.9 2 2 2h14c1.1 0 2-.9 2-2V5c0-1.1-.9-2-2-2zM9 17H7v-7h2v7zm4 0h-2V7h2v10zm4 0h-2v-4h2v4z\"/>\n",
              "    </g>\n",
              "</svg>\n",
              "  </button>\n",
              "\n",
              "<style>\n",
              "  .colab-df-quickchart {\n",
              "      --bg-color: #E8F0FE;\n",
              "      --fill-color: #1967D2;\n",
              "      --hover-bg-color: #E2EBFA;\n",
              "      --hover-fill-color: #174EA6;\n",
              "      --disabled-fill-color: #AAA;\n",
              "      --disabled-bg-color: #DDD;\n",
              "  }\n",
              "\n",
              "  [theme=dark] .colab-df-quickchart {\n",
              "      --bg-color: #3B4455;\n",
              "      --fill-color: #D2E3FC;\n",
              "      --hover-bg-color: #434B5C;\n",
              "      --hover-fill-color: #FFFFFF;\n",
              "      --disabled-bg-color: #3B4455;\n",
              "      --disabled-fill-color: #666;\n",
              "  }\n",
              "\n",
              "  .colab-df-quickchart {\n",
              "    background-color: var(--bg-color);\n",
              "    border: none;\n",
              "    border-radius: 50%;\n",
              "    cursor: pointer;\n",
              "    display: none;\n",
              "    fill: var(--fill-color);\n",
              "    height: 32px;\n",
              "    padding: 0;\n",
              "    width: 32px;\n",
              "  }\n",
              "\n",
              "  .colab-df-quickchart:hover {\n",
              "    background-color: var(--hover-bg-color);\n",
              "    box-shadow: 0 1px 2px rgba(60, 64, 67, 0.3), 0 1px 3px 1px rgba(60, 64, 67, 0.15);\n",
              "    fill: var(--button-hover-fill-color);\n",
              "  }\n",
              "\n",
              "  .colab-df-quickchart-complete:disabled,\n",
              "  .colab-df-quickchart-complete:disabled:hover {\n",
              "    background-color: var(--disabled-bg-color);\n",
              "    fill: var(--disabled-fill-color);\n",
              "    box-shadow: none;\n",
              "  }\n",
              "\n",
              "  .colab-df-spinner {\n",
              "    border: 2px solid var(--fill-color);\n",
              "    border-color: transparent;\n",
              "    border-bottom-color: var(--fill-color);\n",
              "    animation:\n",
              "      spin 1s steps(1) infinite;\n",
              "  }\n",
              "\n",
              "  @keyframes spin {\n",
              "    0% {\n",
              "      border-color: transparent;\n",
              "      border-bottom-color: var(--fill-color);\n",
              "      border-left-color: var(--fill-color);\n",
              "    }\n",
              "    20% {\n",
              "      border-color: transparent;\n",
              "      border-left-color: var(--fill-color);\n",
              "      border-top-color: var(--fill-color);\n",
              "    }\n",
              "    30% {\n",
              "      border-color: transparent;\n",
              "      border-left-color: var(--fill-color);\n",
              "      border-top-color: var(--fill-color);\n",
              "      border-right-color: var(--fill-color);\n",
              "    }\n",
              "    40% {\n",
              "      border-color: transparent;\n",
              "      border-right-color: var(--fill-color);\n",
              "      border-top-color: var(--fill-color);\n",
              "    }\n",
              "    60% {\n",
              "      border-color: transparent;\n",
              "      border-right-color: var(--fill-color);\n",
              "    }\n",
              "    80% {\n",
              "      border-color: transparent;\n",
              "      border-right-color: var(--fill-color);\n",
              "      border-bottom-color: var(--fill-color);\n",
              "    }\n",
              "    90% {\n",
              "      border-color: transparent;\n",
              "      border-bottom-color: var(--fill-color);\n",
              "    }\n",
              "  }\n",
              "</style>\n",
              "\n",
              "  <script>\n",
              "    async function quickchart(key) {\n",
              "      const quickchartButtonEl =\n",
              "        document.querySelector('#' + key + ' button');\n",
              "      quickchartButtonEl.disabled = true;  // To prevent multiple clicks.\n",
              "      quickchartButtonEl.classList.add('colab-df-spinner');\n",
              "      try {\n",
              "        const charts = await google.colab.kernel.invokeFunction(\n",
              "            'suggestCharts', [key], {});\n",
              "      } catch (error) {\n",
              "        console.error('Error during call to suggestCharts:', error);\n",
              "      }\n",
              "      quickchartButtonEl.classList.remove('colab-df-spinner');\n",
              "      quickchartButtonEl.classList.add('colab-df-quickchart-complete');\n",
              "    }\n",
              "    (() => {\n",
              "      let quickchartButtonEl =\n",
              "        document.querySelector('#df-62fa98de-25bd-4773-bba6-191ad6da4a4c button');\n",
              "      quickchartButtonEl.style.display =\n",
              "        google.colab.kernel.accessAllowed ? 'block' : 'none';\n",
              "    })();\n",
              "  </script>\n",
              "</div>\n",
              "    </div>\n",
              "  </div>\n"
            ],
            "application/vnd.google.colaboratory.intrinsic+json": {
              "type": "dataframe",
              "variable_name": "output_1",
              "summary": "{\n  \"name\": \"output_1\",\n  \"rows\": 23246,\n  \"fields\": [\n    {\n      \"column\": \"ID RESTAURANT\",\n      \"properties\": {\n        \"dtype\": \"string\",\n        \"num_unique_values\": 23246,\n        \"samples\": [\n          \"40843676\",\n          \"50014605\",\n          \"50125815\"\n        ],\n        \"semantic_type\": \"\",\n        \"description\": \"\"\n      }\n    },\n    {\n      \"column\": \"GRADE\",\n      \"properties\": {\n        \"dtype\": \"category\",\n        \"num_unique_values\": 3,\n        \"samples\": [\n          \"A\",\n          \"B\",\n          \"C\"\n        ],\n        \"semantic_type\": \"\",\n        \"description\": \"\"\n      }\n    },\n    {\n      \"column\": \"DBA\",\n      \"properties\": {\n        \"dtype\": \"string\",\n        \"num_unique_values\": 18433,\n        \"samples\": [\n          \"CHEZ ALEX\",\n          \"KESTE WALL STREET\",\n          \"MERITTA'S JAMAICAN AND AMERICAN RESTAURANT\"\n        ],\n        \"semantic_type\": \"\",\n        \"description\": \"\"\n      }\n    },\n    {\n      \"column\": \"Latitude\",\n      \"properties\": {\n        \"dtype\": \"number\",\n        \"std\": 4.9586197757195265,\n        \"min\": 0.0,\n        \"max\": 40.91282233,\n        \"num_unique_values\": 19720,\n        \"samples\": [\n          40.6147749,\n          40.7051799,\n          40.78958459\n        ],\n        \"semantic_type\": \"\",\n        \"description\": \"\"\n      }\n    },\n    {\n      \"column\": \"Longitude\",\n      \"properties\": {\n        \"dtype\": \"number\",\n        \"std\": 9.002469043860577,\n        \"min\": -74.24870792,\n        \"max\": 0.0,\n        \"num_unique_values\": 19729,\n        \"samples\": [\n          -73.90431527,\n          -73.95755473,\n          -73.97633991\n        ],\n        \"semantic_type\": \"\",\n        \"description\": \"\"\n      }\n    },\n    {\n      \"column\": \"Exponential Smoothed Score\",\n      \"properties\": {\n        \"dtype\": \"number\",\n        \"std\": 6.851796637220215,\n        \"min\": -0.30053949020963344,\n        \"max\": 87.38806685496914,\n        \"num_unique_values\": 12453,\n        \"samples\": [\n          11.875954371263214,\n          7.4547960609803,\n          19.961485794884887\n        ],\n        \"semantic_type\": \"\",\n        \"description\": \"\"\n      }\n    },\n    {\n      \"column\": \"Probabilistic risk Score\",\n      \"properties\": {\n        \"dtype\": \"number\",\n        \"std\": 7.840654775658997,\n        \"min\": -0.34391364979890715,\n        \"max\": 100.0,\n        \"num_unique_values\": 12447,\n        \"samples\": [\n          5.840568130133719,\n          8.530679678899887,\n          10.623055565187016\n        ],\n        \"semantic_type\": \"\",\n        \"description\": \"\"\n      }\n    }\n  ]\n}"
            }
          },
          "metadata": {},
          "execution_count": 260
        }
      ],
      "source": [
        "output_1 = aggregated_df[selected_columns].copy()\n",
        "output_1.head(2)"
      ]
    },
    {
      "cell_type": "code",
      "execution_count": 261,
      "id": "169a8173-b4a0-4643-90f6-5a3138f45aa6",
      "metadata": {
        "id": "169a8173-b4a0-4643-90f6-5a3138f45aa6"
      },
      "outputs": [],
      "source": [
        "output_1['ID RESTAURANT'] = output_1['ID RESTAURANT'].astype(int)"
      ]
    },
    {
      "cell_type": "code",
      "execution_count": 262,
      "id": "696b6088-4df0-4747-a98a-1b205beaef20",
      "metadata": {
        "colab": {
          "base_uri": "https://localhost:8080/"
        },
        "id": "696b6088-4df0-4747-a98a-1b205beaef20",
        "outputId": "1896ee82-3347-4188-e93d-a15f88025c5e"
      },
      "outputs": [
        {
          "output_type": "stream",
          "name": "stdout",
          "text": [
            "<class 'pandas.core.frame.DataFrame'>\n",
            "RangeIndex: 23246 entries, 0 to 23245\n",
            "Data columns (total 7 columns):\n",
            " #   Column                      Non-Null Count  Dtype  \n",
            "---  ------                      --------------  -----  \n",
            " 0   ID RESTAURANT               23246 non-null  int64  \n",
            " 1   GRADE                       23246 non-null  object \n",
            " 2   DBA                         23246 non-null  object \n",
            " 3   Latitude                    23194 non-null  float64\n",
            " 4   Longitude                   23194 non-null  float64\n",
            " 5   Exponential Smoothed Score  23246 non-null  float64\n",
            " 6   Probabilistic risk Score    23246 non-null  float64\n",
            "dtypes: float64(4), int64(1), object(2)\n",
            "memory usage: 1.2+ MB\n"
          ]
        }
      ],
      "source": [
        "output_1.info()"
      ]
    },
    {
      "cell_type": "code",
      "execution_count": 263,
      "id": "6e16b19b-ba3e-4d66-905f-2a4f4459a24d",
      "metadata": {
        "colab": {
          "base_uri": "https://localhost:8080/",
          "height": 283
        },
        "id": "6e16b19b-ba3e-4d66-905f-2a4f4459a24d",
        "outputId": "2ac3ec70-cae9-48c8-e1c9-31c7fca0485b"
      },
      "outputs": [
        {
          "output_type": "execute_result",
          "data": {
            "text/plain": [
              "                 KEY GRADE  SCORE INSPECTION DATE     CAMIS  \\\n",
              "0  30075445-20210810     A    5.0      2021-08-10  30075445   \n",
              "1  30075445-20230822     A   12.0      2023-08-22  30075445   \n",
              "\n",
              "                     DBA   Latitude  Longitude  02A  02B  ...  Southwestern  \\\n",
              "0  MORRIS PARK BAKE SHOP  40.848231 -73.855972    0    0  ...             0   \n",
              "1  MORRIS PARK BAKE SHOP  40.848231 -73.855972    0    0  ...             0   \n",
              "\n",
              "   Spanish  Steakhouse  Tapas  Tex-Mex  Thai  Turkish  Vegan  Vegetarian  Year  \n",
              "0        0           0      0        0     0        0      0           0  2021  \n",
              "1        0           0      0        0     0        0      0           0  2023  \n",
              "\n",
              "[2 rows x 177 columns]"
            ],
            "text/html": [
              "\n",
              "  <div id=\"df-5e3a91de-8763-45c1-9fdd-5df80eb7a4ae\" class=\"colab-df-container\">\n",
              "    <div>\n",
              "<style scoped>\n",
              "    .dataframe tbody tr th:only-of-type {\n",
              "        vertical-align: middle;\n",
              "    }\n",
              "\n",
              "    .dataframe tbody tr th {\n",
              "        vertical-align: top;\n",
              "    }\n",
              "\n",
              "    .dataframe thead th {\n",
              "        text-align: right;\n",
              "    }\n",
              "</style>\n",
              "<table border=\"1\" class=\"dataframe\">\n",
              "  <thead>\n",
              "    <tr style=\"text-align: right;\">\n",
              "      <th></th>\n",
              "      <th>KEY</th>\n",
              "      <th>GRADE</th>\n",
              "      <th>SCORE</th>\n",
              "      <th>INSPECTION DATE</th>\n",
              "      <th>CAMIS</th>\n",
              "      <th>DBA</th>\n",
              "      <th>Latitude</th>\n",
              "      <th>Longitude</th>\n",
              "      <th>02A</th>\n",
              "      <th>02B</th>\n",
              "      <th>...</th>\n",
              "      <th>Southwestern</th>\n",
              "      <th>Spanish</th>\n",
              "      <th>Steakhouse</th>\n",
              "      <th>Tapas</th>\n",
              "      <th>Tex-Mex</th>\n",
              "      <th>Thai</th>\n",
              "      <th>Turkish</th>\n",
              "      <th>Vegan</th>\n",
              "      <th>Vegetarian</th>\n",
              "      <th>Year</th>\n",
              "    </tr>\n",
              "  </thead>\n",
              "  <tbody>\n",
              "    <tr>\n",
              "      <th>0</th>\n",
              "      <td>30075445-20210810</td>\n",
              "      <td>A</td>\n",
              "      <td>5.0</td>\n",
              "      <td>2021-08-10</td>\n",
              "      <td>30075445</td>\n",
              "      <td>MORRIS PARK BAKE SHOP</td>\n",
              "      <td>40.848231</td>\n",
              "      <td>-73.855972</td>\n",
              "      <td>0</td>\n",
              "      <td>0</td>\n",
              "      <td>...</td>\n",
              "      <td>0</td>\n",
              "      <td>0</td>\n",
              "      <td>0</td>\n",
              "      <td>0</td>\n",
              "      <td>0</td>\n",
              "      <td>0</td>\n",
              "      <td>0</td>\n",
              "      <td>0</td>\n",
              "      <td>0</td>\n",
              "      <td>2021</td>\n",
              "    </tr>\n",
              "    <tr>\n",
              "      <th>1</th>\n",
              "      <td>30075445-20230822</td>\n",
              "      <td>A</td>\n",
              "      <td>12.0</td>\n",
              "      <td>2023-08-22</td>\n",
              "      <td>30075445</td>\n",
              "      <td>MORRIS PARK BAKE SHOP</td>\n",
              "      <td>40.848231</td>\n",
              "      <td>-73.855972</td>\n",
              "      <td>0</td>\n",
              "      <td>0</td>\n",
              "      <td>...</td>\n",
              "      <td>0</td>\n",
              "      <td>0</td>\n",
              "      <td>0</td>\n",
              "      <td>0</td>\n",
              "      <td>0</td>\n",
              "      <td>0</td>\n",
              "      <td>0</td>\n",
              "      <td>0</td>\n",
              "      <td>0</td>\n",
              "      <td>2023</td>\n",
              "    </tr>\n",
              "  </tbody>\n",
              "</table>\n",
              "<p>2 rows × 177 columns</p>\n",
              "</div>\n",
              "    <div class=\"colab-df-buttons\">\n",
              "\n",
              "  <div class=\"colab-df-container\">\n",
              "    <button class=\"colab-df-convert\" onclick=\"convertToInteractive('df-5e3a91de-8763-45c1-9fdd-5df80eb7a4ae')\"\n",
              "            title=\"Convert this dataframe to an interactive table.\"\n",
              "            style=\"display:none;\">\n",
              "\n",
              "  <svg xmlns=\"http://www.w3.org/2000/svg\" height=\"24px\" viewBox=\"0 -960 960 960\">\n",
              "    <path d=\"M120-120v-720h720v720H120Zm60-500h600v-160H180v160Zm220 220h160v-160H400v160Zm0 220h160v-160H400v160ZM180-400h160v-160H180v160Zm440 0h160v-160H620v160ZM180-180h160v-160H180v160Zm440 0h160v-160H620v160Z\"/>\n",
              "  </svg>\n",
              "    </button>\n",
              "\n",
              "  <style>\n",
              "    .colab-df-container {\n",
              "      display:flex;\n",
              "      gap: 12px;\n",
              "    }\n",
              "\n",
              "    .colab-df-convert {\n",
              "      background-color: #E8F0FE;\n",
              "      border: none;\n",
              "      border-radius: 50%;\n",
              "      cursor: pointer;\n",
              "      display: none;\n",
              "      fill: #1967D2;\n",
              "      height: 32px;\n",
              "      padding: 0 0 0 0;\n",
              "      width: 32px;\n",
              "    }\n",
              "\n",
              "    .colab-df-convert:hover {\n",
              "      background-color: #E2EBFA;\n",
              "      box-shadow: 0px 1px 2px rgba(60, 64, 67, 0.3), 0px 1px 3px 1px rgba(60, 64, 67, 0.15);\n",
              "      fill: #174EA6;\n",
              "    }\n",
              "\n",
              "    .colab-df-buttons div {\n",
              "      margin-bottom: 4px;\n",
              "    }\n",
              "\n",
              "    [theme=dark] .colab-df-convert {\n",
              "      background-color: #3B4455;\n",
              "      fill: #D2E3FC;\n",
              "    }\n",
              "\n",
              "    [theme=dark] .colab-df-convert:hover {\n",
              "      background-color: #434B5C;\n",
              "      box-shadow: 0px 1px 3px 1px rgba(0, 0, 0, 0.15);\n",
              "      filter: drop-shadow(0px 1px 2px rgba(0, 0, 0, 0.3));\n",
              "      fill: #FFFFFF;\n",
              "    }\n",
              "  </style>\n",
              "\n",
              "    <script>\n",
              "      const buttonEl =\n",
              "        document.querySelector('#df-5e3a91de-8763-45c1-9fdd-5df80eb7a4ae button.colab-df-convert');\n",
              "      buttonEl.style.display =\n",
              "        google.colab.kernel.accessAllowed ? 'block' : 'none';\n",
              "\n",
              "      async function convertToInteractive(key) {\n",
              "        const element = document.querySelector('#df-5e3a91de-8763-45c1-9fdd-5df80eb7a4ae');\n",
              "        const dataTable =\n",
              "          await google.colab.kernel.invokeFunction('convertToInteractive',\n",
              "                                                    [key], {});\n",
              "        if (!dataTable) return;\n",
              "\n",
              "        const docLinkHtml = 'Like what you see? Visit the ' +\n",
              "          '<a target=\"_blank\" href=https://colab.research.google.com/notebooks/data_table.ipynb>data table notebook</a>'\n",
              "          + ' to learn more about interactive tables.';\n",
              "        element.innerHTML = '';\n",
              "        dataTable['output_type'] = 'display_data';\n",
              "        await google.colab.output.renderOutput(dataTable, element);\n",
              "        const docLink = document.createElement('div');\n",
              "        docLink.innerHTML = docLinkHtml;\n",
              "        element.appendChild(docLink);\n",
              "      }\n",
              "    </script>\n",
              "  </div>\n",
              "\n",
              "\n",
              "<div id=\"df-2d36e7f5-996a-4880-88c6-ca45746566ae\">\n",
              "  <button class=\"colab-df-quickchart\" onclick=\"quickchart('df-2d36e7f5-996a-4880-88c6-ca45746566ae')\"\n",
              "            title=\"Suggest charts\"\n",
              "            style=\"display:none;\">\n",
              "\n",
              "<svg xmlns=\"http://www.w3.org/2000/svg\" height=\"24px\"viewBox=\"0 0 24 24\"\n",
              "     width=\"24px\">\n",
              "    <g>\n",
              "        <path d=\"M19 3H5c-1.1 0-2 .9-2 2v14c0 1.1.9 2 2 2h14c1.1 0 2-.9 2-2V5c0-1.1-.9-2-2-2zM9 17H7v-7h2v7zm4 0h-2V7h2v10zm4 0h-2v-4h2v4z\"/>\n",
              "    </g>\n",
              "</svg>\n",
              "  </button>\n",
              "\n",
              "<style>\n",
              "  .colab-df-quickchart {\n",
              "      --bg-color: #E8F0FE;\n",
              "      --fill-color: #1967D2;\n",
              "      --hover-bg-color: #E2EBFA;\n",
              "      --hover-fill-color: #174EA6;\n",
              "      --disabled-fill-color: #AAA;\n",
              "      --disabled-bg-color: #DDD;\n",
              "  }\n",
              "\n",
              "  [theme=dark] .colab-df-quickchart {\n",
              "      --bg-color: #3B4455;\n",
              "      --fill-color: #D2E3FC;\n",
              "      --hover-bg-color: #434B5C;\n",
              "      --hover-fill-color: #FFFFFF;\n",
              "      --disabled-bg-color: #3B4455;\n",
              "      --disabled-fill-color: #666;\n",
              "  }\n",
              "\n",
              "  .colab-df-quickchart {\n",
              "    background-color: var(--bg-color);\n",
              "    border: none;\n",
              "    border-radius: 50%;\n",
              "    cursor: pointer;\n",
              "    display: none;\n",
              "    fill: var(--fill-color);\n",
              "    height: 32px;\n",
              "    padding: 0;\n",
              "    width: 32px;\n",
              "  }\n",
              "\n",
              "  .colab-df-quickchart:hover {\n",
              "    background-color: var(--hover-bg-color);\n",
              "    box-shadow: 0 1px 2px rgba(60, 64, 67, 0.3), 0 1px 3px 1px rgba(60, 64, 67, 0.15);\n",
              "    fill: var(--button-hover-fill-color);\n",
              "  }\n",
              "\n",
              "  .colab-df-quickchart-complete:disabled,\n",
              "  .colab-df-quickchart-complete:disabled:hover {\n",
              "    background-color: var(--disabled-bg-color);\n",
              "    fill: var(--disabled-fill-color);\n",
              "    box-shadow: none;\n",
              "  }\n",
              "\n",
              "  .colab-df-spinner {\n",
              "    border: 2px solid var(--fill-color);\n",
              "    border-color: transparent;\n",
              "    border-bottom-color: var(--fill-color);\n",
              "    animation:\n",
              "      spin 1s steps(1) infinite;\n",
              "  }\n",
              "\n",
              "  @keyframes spin {\n",
              "    0% {\n",
              "      border-color: transparent;\n",
              "      border-bottom-color: var(--fill-color);\n",
              "      border-left-color: var(--fill-color);\n",
              "    }\n",
              "    20% {\n",
              "      border-color: transparent;\n",
              "      border-left-color: var(--fill-color);\n",
              "      border-top-color: var(--fill-color);\n",
              "    }\n",
              "    30% {\n",
              "      border-color: transparent;\n",
              "      border-left-color: var(--fill-color);\n",
              "      border-top-color: var(--fill-color);\n",
              "      border-right-color: var(--fill-color);\n",
              "    }\n",
              "    40% {\n",
              "      border-color: transparent;\n",
              "      border-right-color: var(--fill-color);\n",
              "      border-top-color: var(--fill-color);\n",
              "    }\n",
              "    60% {\n",
              "      border-color: transparent;\n",
              "      border-right-color: var(--fill-color);\n",
              "    }\n",
              "    80% {\n",
              "      border-color: transparent;\n",
              "      border-right-color: var(--fill-color);\n",
              "      border-bottom-color: var(--fill-color);\n",
              "    }\n",
              "    90% {\n",
              "      border-color: transparent;\n",
              "      border-bottom-color: var(--fill-color);\n",
              "    }\n",
              "  }\n",
              "</style>\n",
              "\n",
              "  <script>\n",
              "    async function quickchart(key) {\n",
              "      const quickchartButtonEl =\n",
              "        document.querySelector('#' + key + ' button');\n",
              "      quickchartButtonEl.disabled = true;  // To prevent multiple clicks.\n",
              "      quickchartButtonEl.classList.add('colab-df-spinner');\n",
              "      try {\n",
              "        const charts = await google.colab.kernel.invokeFunction(\n",
              "            'suggestCharts', [key], {});\n",
              "      } catch (error) {\n",
              "        console.error('Error during call to suggestCharts:', error);\n",
              "      }\n",
              "      quickchartButtonEl.classList.remove('colab-df-spinner');\n",
              "      quickchartButtonEl.classList.add('colab-df-quickchart-complete');\n",
              "    }\n",
              "    (() => {\n",
              "      let quickchartButtonEl =\n",
              "        document.querySelector('#df-2d36e7f5-996a-4880-88c6-ca45746566ae button');\n",
              "      quickchartButtonEl.style.display =\n",
              "        google.colab.kernel.accessAllowed ? 'block' : 'none';\n",
              "    })();\n",
              "  </script>\n",
              "</div>\n",
              "    </div>\n",
              "  </div>\n"
            ],
            "application/vnd.google.colaboratory.intrinsic+json": {
              "type": "dataframe",
              "variable_name": "final_df"
            }
          },
          "metadata": {},
          "execution_count": 263
        }
      ],
      "source": [
        "final_df.head(2)"
      ]
    },
    {
      "cell_type": "code",
      "execution_count": 264,
      "id": "7ac5794a-3544-4bbf-b4c3-2d01589c976e",
      "metadata": {
        "colab": {
          "base_uri": "https://localhost:8080/"
        },
        "id": "7ac5794a-3544-4bbf-b4c3-2d01589c976e",
        "outputId": "d014cae1-39b8-47e2-b1ae-47851282fa67"
      },
      "outputs": [
        {
          "output_type": "stream",
          "name": "stdout",
          "text": [
            "datetime64[ns]\n"
          ]
        }
      ],
      "source": [
        "print(final_df['INSPECTION DATE'].dtype)\n"
      ]
    },
    {
      "cell_type": "code",
      "execution_count": 265,
      "id": "9e763a65-b4dd-4ea6-b363-02dd13cc11e2",
      "metadata": {
        "colab": {
          "base_uri": "https://localhost:8080/"
        },
        "id": "9e763a65-b4dd-4ea6-b363-02dd13cc11e2",
        "outputId": "abd8257d-8d52-4aa1-9a1c-51458d193b42"
      },
      "outputs": [
        {
          "output_type": "stream",
          "name": "stdout",
          "text": [
            "                     KEY GRADE  SCORE INSPECTION DATE     CAMIS  \\\n",
            "1      30075445-20230822     A   12.0      2023-08-22  30075445   \n",
            "4      30112340-20230721     A    9.0      2023-07-21  30112340   \n",
            "6      30191841-20230423     A   10.0      2023-04-23  30191841   \n",
            "8      40356018-20220201     A    7.0      2022-02-01  40356018   \n",
            "10     40356483-20220819     A    2.0      2022-08-19  40356483   \n",
            "...                  ...   ...    ...             ...       ...   \n",
            "37429  50145229-20240122     A    5.0      2024-01-22  50145229   \n",
            "37430  50145309-20240118     A    5.0      2024-01-18  50145309   \n",
            "37431  50145781-20240123     A   11.0      2024-01-23  50145781   \n",
            "37432  50145823-20240105     A   11.0      2024-01-05  50145823   \n",
            "37433  50145855-20240122     A   10.0      2024-01-22  50145855   \n",
            "\n",
            "                                  DBA   Latitude  Longitude  02A  02B  ...  \\\n",
            "1               MORRIS PARK BAKE SHOP  40.848231 -73.855972    0    0  ...   \n",
            "4                             WENDY'S  40.662652 -73.962081    0    0  ...   \n",
            "6      DJ REYNOLDS PUB AND RESTAURANT  40.767326 -73.984310    0    0  ...   \n",
            "8                    RIVIERA CATERERS  40.579896 -73.982087    0    0  ...   \n",
            "10                 WILKEN'S FINE FOOD  40.620112 -73.906989    0    0  ...   \n",
            "...                               ...        ...        ...  ...  ...  ...   \n",
            "37429                     KUNG FU TEA  40.726835 -73.713513    0    0  ...   \n",
            "37430                STARBUCKS COFFEE  40.604237 -73.971791    0    0  ...   \n",
            "37431                         CANTEEN  40.745602 -73.989516    0    0  ...   \n",
            "37432                      BEAN HOUSE  40.771182 -73.803360    0    0  ...   \n",
            "37433               CHINA RED EXPRESS  40.715181 -74.008531    0    0  ...   \n",
            "\n",
            "       Southwestern  Spanish  Steakhouse  Tapas  Tex-Mex  Thai  Turkish  \\\n",
            "1                 0        0           0      0        0     0        0   \n",
            "4                 0        0           0      0        0     0        0   \n",
            "6                 0        0           0      0        0     0        0   \n",
            "8                 0        0           0      0        0     0        0   \n",
            "10                0        0           0      0        0     0        0   \n",
            "...             ...      ...         ...    ...      ...   ...      ...   \n",
            "37429             0        0           0      0        0     0        0   \n",
            "37430             0        0           0      0        0     0        0   \n",
            "37431             0        0           0      0        0     0        0   \n",
            "37432             0        0           0      0        0     0        0   \n",
            "37433             0        0           0      0        0     0        0   \n",
            "\n",
            "       Vegan  Vegetarian  Year  \n",
            "1          0           0  2023  \n",
            "4          0           0  2023  \n",
            "6          0           0  2023  \n",
            "8          0           0  2022  \n",
            "10         0           0  2022  \n",
            "...      ...         ...   ...  \n",
            "37429      0           0  2024  \n",
            "37430      0           0  2024  \n",
            "37431      0           0  2024  \n",
            "37432      0           0  2024  \n",
            "37433      0           0  2024  \n",
            "\n",
            "[23354 rows x 177 columns]\n"
          ]
        }
      ],
      "source": [
        "recent_data = final_df.groupby('CAMIS')['INSPECTION DATE'].idxmax()\n",
        "\n",
        "filtered_final_df = final_df.loc[recent_data]\n",
        "\n",
        "print(filtered_final_df)"
      ]
    },
    {
      "cell_type": "code",
      "execution_count": 266,
      "id": "d1bb6852-ee62-4644-a73f-35b484e2a7f4",
      "metadata": {
        "id": "d1bb6852-ee62-4644-a73f-35b484e2a7f4"
      },
      "outputs": [],
      "source": [
        "X=filtered_final_df[unique_violations]"
      ]
    },
    {
      "cell_type": "markdown",
      "source": [
        "# Second Round of Clustering"
      ],
      "metadata": {
        "id": "L7gwFXBfmxCC"
      },
      "id": "L7gwFXBfmxCC"
    },
    {
      "cell_type": "markdown",
      "source": [
        "This second round of clusteting is necessary to obtain the final cluster value for each restaurant. The first set of clusters were created to help predict the values of each INSPECTION for every restaurant. Now, for the purpose of our dashboard, we will cluster each restaurant based on their most recent inspection, and the cluster value assigned will be reflected in the dashboard."
      ],
      "metadata": {
        "id": "i2PM2s1_mzZ3"
      },
      "id": "i2PM2s1_mzZ3"
    },
    {
      "cell_type": "code",
      "execution_count": 267,
      "id": "c6fc529e-5e22-4ad8-9823-0cca79d1838c",
      "metadata": {
        "colab": {
          "base_uri": "https://localhost:8080/"
        },
        "id": "c6fc529e-5e22-4ad8-9823-0cca79d1838c",
        "outputId": "bbc1195b-9d0e-4cf6-cd7c-ba8f05144b44"
      },
      "outputs": [
        {
          "output_type": "stream",
          "name": "stderr",
          "text": [
            "/usr/local/lib/python3.10/dist-packages/sklearn/cluster/_kmeans.py:870: FutureWarning: The default value of `n_init` will change from 10 to 'auto' in 1.4. Set the value of `n_init` explicitly to suppress the warning\n",
            "  warnings.warn(\n"
          ]
        }
      ],
      "source": [
        "def calculate_median(X):\n",
        "    return np.median(X, axis=0)\n",
        "\n",
        "def median_distance(X, medians):\n",
        "    return np.linalg.norm(X - medians, ord=1, axis=1)\n",
        "\n",
        "def kmedians_fit(X, n_clusters, random_state=0, max_iter=300):\n",
        "    kmeans = KMeans(n_clusters=n_clusters, init='random', random_state=random_state, max_iter=max_iter)\n",
        "    kmeans.fit(X)\n",
        "\n",
        "    # Calculate the median for each cluster\n",
        "    cluster_medians = []\n",
        "    for i in range(n_clusters):\n",
        "        cluster_data = X[kmeans.labels_ == i]\n",
        "        median = calculate_median(cluster_data)\n",
        "        cluster_medians.append(median)\n",
        "\n",
        "    # Assign cluster labels to each data point\n",
        "    final_cluster = kmeans.labels_\n",
        "\n",
        "    # Return the cluster labels and medians\n",
        "    return final_cluster, np.array(cluster_medians)\n",
        "\n",
        "# Assuming 'filtered_final_df' is your DataFrame and 'X' is your data\n",
        "\n",
        "# Call kmedians_fit to obtain cluster labels and medians\n",
        "final_cluster, _ = kmedians_fit(X, n_clusters=4)  # Adjust n_clusters as needed\n",
        "\n",
        "# Assign the cluster labels to the DataFrame\n",
        "filtered_final_df['Final Cluster'] = final_cluster"
      ]
    },
    {
      "cell_type": "code",
      "execution_count": 268,
      "id": "1e722565-65b5-4424-be0b-ed9e35fdded9",
      "metadata": {
        "colab": {
          "base_uri": "https://localhost:8080/",
          "height": 248
        },
        "id": "1e722565-65b5-4424-be0b-ed9e35fdded9",
        "outputId": "03c19c9d-67ec-4627-d7e2-6557636f7bb1"
      },
      "outputs": [
        {
          "output_type": "execute_result",
          "data": {
            "text/plain": [
              "                 KEY GRADE  SCORE INSPECTION DATE     CAMIS  \\\n",
              "1  30075445-20230822     A   12.0      2023-08-22  30075445   \n",
              "4  30112340-20230721     A    9.0      2023-07-21  30112340   \n",
              "\n",
              "                     DBA   Latitude  Longitude  02A  02B  ...  Spanish  \\\n",
              "1  MORRIS PARK BAKE SHOP  40.848231 -73.855972    0    0  ...        0   \n",
              "4                WENDY'S  40.662652 -73.962081    0    0  ...        0   \n",
              "\n",
              "   Steakhouse  Tapas  Tex-Mex  Thai  Turkish  Vegan  Vegetarian  Year  \\\n",
              "1           0      0        0     0        0      0           0  2023   \n",
              "4           0      0        0     0        0      0           0  2023   \n",
              "\n",
              "   Final Cluster  \n",
              "1              0  \n",
              "4              2  \n",
              "\n",
              "[2 rows x 178 columns]"
            ],
            "text/html": [
              "\n",
              "  <div id=\"df-76161504-a60f-498a-866e-33dd7e8c6923\" class=\"colab-df-container\">\n",
              "    <div>\n",
              "<style scoped>\n",
              "    .dataframe tbody tr th:only-of-type {\n",
              "        vertical-align: middle;\n",
              "    }\n",
              "\n",
              "    .dataframe tbody tr th {\n",
              "        vertical-align: top;\n",
              "    }\n",
              "\n",
              "    .dataframe thead th {\n",
              "        text-align: right;\n",
              "    }\n",
              "</style>\n",
              "<table border=\"1\" class=\"dataframe\">\n",
              "  <thead>\n",
              "    <tr style=\"text-align: right;\">\n",
              "      <th></th>\n",
              "      <th>KEY</th>\n",
              "      <th>GRADE</th>\n",
              "      <th>SCORE</th>\n",
              "      <th>INSPECTION DATE</th>\n",
              "      <th>CAMIS</th>\n",
              "      <th>DBA</th>\n",
              "      <th>Latitude</th>\n",
              "      <th>Longitude</th>\n",
              "      <th>02A</th>\n",
              "      <th>02B</th>\n",
              "      <th>...</th>\n",
              "      <th>Spanish</th>\n",
              "      <th>Steakhouse</th>\n",
              "      <th>Tapas</th>\n",
              "      <th>Tex-Mex</th>\n",
              "      <th>Thai</th>\n",
              "      <th>Turkish</th>\n",
              "      <th>Vegan</th>\n",
              "      <th>Vegetarian</th>\n",
              "      <th>Year</th>\n",
              "      <th>Final Cluster</th>\n",
              "    </tr>\n",
              "  </thead>\n",
              "  <tbody>\n",
              "    <tr>\n",
              "      <th>1</th>\n",
              "      <td>30075445-20230822</td>\n",
              "      <td>A</td>\n",
              "      <td>12.0</td>\n",
              "      <td>2023-08-22</td>\n",
              "      <td>30075445</td>\n",
              "      <td>MORRIS PARK BAKE SHOP</td>\n",
              "      <td>40.848231</td>\n",
              "      <td>-73.855972</td>\n",
              "      <td>0</td>\n",
              "      <td>0</td>\n",
              "      <td>...</td>\n",
              "      <td>0</td>\n",
              "      <td>0</td>\n",
              "      <td>0</td>\n",
              "      <td>0</td>\n",
              "      <td>0</td>\n",
              "      <td>0</td>\n",
              "      <td>0</td>\n",
              "      <td>0</td>\n",
              "      <td>2023</td>\n",
              "      <td>0</td>\n",
              "    </tr>\n",
              "    <tr>\n",
              "      <th>4</th>\n",
              "      <td>30112340-20230721</td>\n",
              "      <td>A</td>\n",
              "      <td>9.0</td>\n",
              "      <td>2023-07-21</td>\n",
              "      <td>30112340</td>\n",
              "      <td>WENDY'S</td>\n",
              "      <td>40.662652</td>\n",
              "      <td>-73.962081</td>\n",
              "      <td>0</td>\n",
              "      <td>0</td>\n",
              "      <td>...</td>\n",
              "      <td>0</td>\n",
              "      <td>0</td>\n",
              "      <td>0</td>\n",
              "      <td>0</td>\n",
              "      <td>0</td>\n",
              "      <td>0</td>\n",
              "      <td>0</td>\n",
              "      <td>0</td>\n",
              "      <td>2023</td>\n",
              "      <td>2</td>\n",
              "    </tr>\n",
              "  </tbody>\n",
              "</table>\n",
              "<p>2 rows × 178 columns</p>\n",
              "</div>\n",
              "    <div class=\"colab-df-buttons\">\n",
              "\n",
              "  <div class=\"colab-df-container\">\n",
              "    <button class=\"colab-df-convert\" onclick=\"convertToInteractive('df-76161504-a60f-498a-866e-33dd7e8c6923')\"\n",
              "            title=\"Convert this dataframe to an interactive table.\"\n",
              "            style=\"display:none;\">\n",
              "\n",
              "  <svg xmlns=\"http://www.w3.org/2000/svg\" height=\"24px\" viewBox=\"0 -960 960 960\">\n",
              "    <path d=\"M120-120v-720h720v720H120Zm60-500h600v-160H180v160Zm220 220h160v-160H400v160Zm0 220h160v-160H400v160ZM180-400h160v-160H180v160Zm440 0h160v-160H620v160ZM180-180h160v-160H180v160Zm440 0h160v-160H620v160Z\"/>\n",
              "  </svg>\n",
              "    </button>\n",
              "\n",
              "  <style>\n",
              "    .colab-df-container {\n",
              "      display:flex;\n",
              "      gap: 12px;\n",
              "    }\n",
              "\n",
              "    .colab-df-convert {\n",
              "      background-color: #E8F0FE;\n",
              "      border: none;\n",
              "      border-radius: 50%;\n",
              "      cursor: pointer;\n",
              "      display: none;\n",
              "      fill: #1967D2;\n",
              "      height: 32px;\n",
              "      padding: 0 0 0 0;\n",
              "      width: 32px;\n",
              "    }\n",
              "\n",
              "    .colab-df-convert:hover {\n",
              "      background-color: #E2EBFA;\n",
              "      box-shadow: 0px 1px 2px rgba(60, 64, 67, 0.3), 0px 1px 3px 1px rgba(60, 64, 67, 0.15);\n",
              "      fill: #174EA6;\n",
              "    }\n",
              "\n",
              "    .colab-df-buttons div {\n",
              "      margin-bottom: 4px;\n",
              "    }\n",
              "\n",
              "    [theme=dark] .colab-df-convert {\n",
              "      background-color: #3B4455;\n",
              "      fill: #D2E3FC;\n",
              "    }\n",
              "\n",
              "    [theme=dark] .colab-df-convert:hover {\n",
              "      background-color: #434B5C;\n",
              "      box-shadow: 0px 1px 3px 1px rgba(0, 0, 0, 0.15);\n",
              "      filter: drop-shadow(0px 1px 2px rgba(0, 0, 0, 0.3));\n",
              "      fill: #FFFFFF;\n",
              "    }\n",
              "  </style>\n",
              "\n",
              "    <script>\n",
              "      const buttonEl =\n",
              "        document.querySelector('#df-76161504-a60f-498a-866e-33dd7e8c6923 button.colab-df-convert');\n",
              "      buttonEl.style.display =\n",
              "        google.colab.kernel.accessAllowed ? 'block' : 'none';\n",
              "\n",
              "      async function convertToInteractive(key) {\n",
              "        const element = document.querySelector('#df-76161504-a60f-498a-866e-33dd7e8c6923');\n",
              "        const dataTable =\n",
              "          await google.colab.kernel.invokeFunction('convertToInteractive',\n",
              "                                                    [key], {});\n",
              "        if (!dataTable) return;\n",
              "\n",
              "        const docLinkHtml = 'Like what you see? Visit the ' +\n",
              "          '<a target=\"_blank\" href=https://colab.research.google.com/notebooks/data_table.ipynb>data table notebook</a>'\n",
              "          + ' to learn more about interactive tables.';\n",
              "        element.innerHTML = '';\n",
              "        dataTable['output_type'] = 'display_data';\n",
              "        await google.colab.output.renderOutput(dataTable, element);\n",
              "        const docLink = document.createElement('div');\n",
              "        docLink.innerHTML = docLinkHtml;\n",
              "        element.appendChild(docLink);\n",
              "      }\n",
              "    </script>\n",
              "  </div>\n",
              "\n",
              "\n",
              "<div id=\"df-b69d7b3d-6c73-4253-a4a3-eade109df28e\">\n",
              "  <button class=\"colab-df-quickchart\" onclick=\"quickchart('df-b69d7b3d-6c73-4253-a4a3-eade109df28e')\"\n",
              "            title=\"Suggest charts\"\n",
              "            style=\"display:none;\">\n",
              "\n",
              "<svg xmlns=\"http://www.w3.org/2000/svg\" height=\"24px\"viewBox=\"0 0 24 24\"\n",
              "     width=\"24px\">\n",
              "    <g>\n",
              "        <path d=\"M19 3H5c-1.1 0-2 .9-2 2v14c0 1.1.9 2 2 2h14c1.1 0 2-.9 2-2V5c0-1.1-.9-2-2-2zM9 17H7v-7h2v7zm4 0h-2V7h2v10zm4 0h-2v-4h2v4z\"/>\n",
              "    </g>\n",
              "</svg>\n",
              "  </button>\n",
              "\n",
              "<style>\n",
              "  .colab-df-quickchart {\n",
              "      --bg-color: #E8F0FE;\n",
              "      --fill-color: #1967D2;\n",
              "      --hover-bg-color: #E2EBFA;\n",
              "      --hover-fill-color: #174EA6;\n",
              "      --disabled-fill-color: #AAA;\n",
              "      --disabled-bg-color: #DDD;\n",
              "  }\n",
              "\n",
              "  [theme=dark] .colab-df-quickchart {\n",
              "      --bg-color: #3B4455;\n",
              "      --fill-color: #D2E3FC;\n",
              "      --hover-bg-color: #434B5C;\n",
              "      --hover-fill-color: #FFFFFF;\n",
              "      --disabled-bg-color: #3B4455;\n",
              "      --disabled-fill-color: #666;\n",
              "  }\n",
              "\n",
              "  .colab-df-quickchart {\n",
              "    background-color: var(--bg-color);\n",
              "    border: none;\n",
              "    border-radius: 50%;\n",
              "    cursor: pointer;\n",
              "    display: none;\n",
              "    fill: var(--fill-color);\n",
              "    height: 32px;\n",
              "    padding: 0;\n",
              "    width: 32px;\n",
              "  }\n",
              "\n",
              "  .colab-df-quickchart:hover {\n",
              "    background-color: var(--hover-bg-color);\n",
              "    box-shadow: 0 1px 2px rgba(60, 64, 67, 0.3), 0 1px 3px 1px rgba(60, 64, 67, 0.15);\n",
              "    fill: var(--button-hover-fill-color);\n",
              "  }\n",
              "\n",
              "  .colab-df-quickchart-complete:disabled,\n",
              "  .colab-df-quickchart-complete:disabled:hover {\n",
              "    background-color: var(--disabled-bg-color);\n",
              "    fill: var(--disabled-fill-color);\n",
              "    box-shadow: none;\n",
              "  }\n",
              "\n",
              "  .colab-df-spinner {\n",
              "    border: 2px solid var(--fill-color);\n",
              "    border-color: transparent;\n",
              "    border-bottom-color: var(--fill-color);\n",
              "    animation:\n",
              "      spin 1s steps(1) infinite;\n",
              "  }\n",
              "\n",
              "  @keyframes spin {\n",
              "    0% {\n",
              "      border-color: transparent;\n",
              "      border-bottom-color: var(--fill-color);\n",
              "      border-left-color: var(--fill-color);\n",
              "    }\n",
              "    20% {\n",
              "      border-color: transparent;\n",
              "      border-left-color: var(--fill-color);\n",
              "      border-top-color: var(--fill-color);\n",
              "    }\n",
              "    30% {\n",
              "      border-color: transparent;\n",
              "      border-left-color: var(--fill-color);\n",
              "      border-top-color: var(--fill-color);\n",
              "      border-right-color: var(--fill-color);\n",
              "    }\n",
              "    40% {\n",
              "      border-color: transparent;\n",
              "      border-right-color: var(--fill-color);\n",
              "      border-top-color: var(--fill-color);\n",
              "    }\n",
              "    60% {\n",
              "      border-color: transparent;\n",
              "      border-right-color: var(--fill-color);\n",
              "    }\n",
              "    80% {\n",
              "      border-color: transparent;\n",
              "      border-right-color: var(--fill-color);\n",
              "      border-bottom-color: var(--fill-color);\n",
              "    }\n",
              "    90% {\n",
              "      border-color: transparent;\n",
              "      border-bottom-color: var(--fill-color);\n",
              "    }\n",
              "  }\n",
              "</style>\n",
              "\n",
              "  <script>\n",
              "    async function quickchart(key) {\n",
              "      const quickchartButtonEl =\n",
              "        document.querySelector('#' + key + ' button');\n",
              "      quickchartButtonEl.disabled = true;  // To prevent multiple clicks.\n",
              "      quickchartButtonEl.classList.add('colab-df-spinner');\n",
              "      try {\n",
              "        const charts = await google.colab.kernel.invokeFunction(\n",
              "            'suggestCharts', [key], {});\n",
              "      } catch (error) {\n",
              "        console.error('Error during call to suggestCharts:', error);\n",
              "      }\n",
              "      quickchartButtonEl.classList.remove('colab-df-spinner');\n",
              "      quickchartButtonEl.classList.add('colab-df-quickchart-complete');\n",
              "    }\n",
              "    (() => {\n",
              "      let quickchartButtonEl =\n",
              "        document.querySelector('#df-b69d7b3d-6c73-4253-a4a3-eade109df28e button');\n",
              "      quickchartButtonEl.style.display =\n",
              "        google.colab.kernel.accessAllowed ? 'block' : 'none';\n",
              "    })();\n",
              "  </script>\n",
              "</div>\n",
              "    </div>\n",
              "  </div>\n"
            ],
            "application/vnd.google.colaboratory.intrinsic+json": {
              "type": "dataframe",
              "variable_name": "filtered_final_df"
            }
          },
          "metadata": {},
          "execution_count": 268
        }
      ],
      "source": [
        "filtered_final_df.head(2)"
      ]
    },
    {
      "cell_type": "code",
      "execution_count": 269,
      "id": "9759e7c1-a583-4b11-8dde-25081a3ae64c",
      "metadata": {
        "id": "9759e7c1-a583-4b11-8dde-25081a3ae64c"
      },
      "outputs": [],
      "source": [
        "filtered_final_df.rename(columns={'CAMIS': 'ID RESTAURANT'}, inplace=True)"
      ]
    },
    {
      "cell_type": "code",
      "execution_count": 270,
      "id": "b035b168-f067-42e0-b651-a878a5c06683",
      "metadata": {
        "id": "b035b168-f067-42e0-b651-a878a5c06683"
      },
      "outputs": [],
      "source": [
        "### Now we will add the columns'CLUSTER' from the filtered_final_df to the datafram output_1"
      ]
    },
    {
      "cell_type": "code",
      "execution_count": 271,
      "id": "3bf7a792-0c16-4ea0-a92a-989e8ecd854e",
      "metadata": {
        "colab": {
          "base_uri": "https://localhost:8080/",
          "height": 146
        },
        "id": "3bf7a792-0c16-4ea0-a92a-989e8ecd854e",
        "outputId": "dd9943af-52e3-4eab-fc24-748e0c6edf29"
      },
      "outputs": [
        {
          "output_type": "execute_result",
          "data": {
            "text/plain": [
              "   ID RESTAURANT GRADE                    DBA   Latitude  Longitude  \\\n",
              "0       30075445     A  MORRIS PARK BAKE SHOP  40.848231 -73.855972   \n",
              "1       30112340     B                WENDY'S  40.662652 -73.962081   \n",
              "\n",
              "   Exponential Smoothed Score  Probabilistic risk Score  Final Cluster  \n",
              "0                   10.802323                 12.361325              0  \n",
              "1                   10.221990                 11.697238              2  "
            ],
            "text/html": [
              "\n",
              "  <div id=\"df-6e3426f8-3d85-4de6-bdb4-b1ae94abf9d3\" class=\"colab-df-container\">\n",
              "    <div>\n",
              "<style scoped>\n",
              "    .dataframe tbody tr th:only-of-type {\n",
              "        vertical-align: middle;\n",
              "    }\n",
              "\n",
              "    .dataframe tbody tr th {\n",
              "        vertical-align: top;\n",
              "    }\n",
              "\n",
              "    .dataframe thead th {\n",
              "        text-align: right;\n",
              "    }\n",
              "</style>\n",
              "<table border=\"1\" class=\"dataframe\">\n",
              "  <thead>\n",
              "    <tr style=\"text-align: right;\">\n",
              "      <th></th>\n",
              "      <th>ID RESTAURANT</th>\n",
              "      <th>GRADE</th>\n",
              "      <th>DBA</th>\n",
              "      <th>Latitude</th>\n",
              "      <th>Longitude</th>\n",
              "      <th>Exponential Smoothed Score</th>\n",
              "      <th>Probabilistic risk Score</th>\n",
              "      <th>Final Cluster</th>\n",
              "    </tr>\n",
              "  </thead>\n",
              "  <tbody>\n",
              "    <tr>\n",
              "      <th>0</th>\n",
              "      <td>30075445</td>\n",
              "      <td>A</td>\n",
              "      <td>MORRIS PARK BAKE SHOP</td>\n",
              "      <td>40.848231</td>\n",
              "      <td>-73.855972</td>\n",
              "      <td>10.802323</td>\n",
              "      <td>12.361325</td>\n",
              "      <td>0</td>\n",
              "    </tr>\n",
              "    <tr>\n",
              "      <th>1</th>\n",
              "      <td>30112340</td>\n",
              "      <td>B</td>\n",
              "      <td>WENDY'S</td>\n",
              "      <td>40.662652</td>\n",
              "      <td>-73.962081</td>\n",
              "      <td>10.221990</td>\n",
              "      <td>11.697238</td>\n",
              "      <td>2</td>\n",
              "    </tr>\n",
              "  </tbody>\n",
              "</table>\n",
              "</div>\n",
              "    <div class=\"colab-df-buttons\">\n",
              "\n",
              "  <div class=\"colab-df-container\">\n",
              "    <button class=\"colab-df-convert\" onclick=\"convertToInteractive('df-6e3426f8-3d85-4de6-bdb4-b1ae94abf9d3')\"\n",
              "            title=\"Convert this dataframe to an interactive table.\"\n",
              "            style=\"display:none;\">\n",
              "\n",
              "  <svg xmlns=\"http://www.w3.org/2000/svg\" height=\"24px\" viewBox=\"0 -960 960 960\">\n",
              "    <path d=\"M120-120v-720h720v720H120Zm60-500h600v-160H180v160Zm220 220h160v-160H400v160Zm0 220h160v-160H400v160ZM180-400h160v-160H180v160Zm440 0h160v-160H620v160ZM180-180h160v-160H180v160Zm440 0h160v-160H620v160Z\"/>\n",
              "  </svg>\n",
              "    </button>\n",
              "\n",
              "  <style>\n",
              "    .colab-df-container {\n",
              "      display:flex;\n",
              "      gap: 12px;\n",
              "    }\n",
              "\n",
              "    .colab-df-convert {\n",
              "      background-color: #E8F0FE;\n",
              "      border: none;\n",
              "      border-radius: 50%;\n",
              "      cursor: pointer;\n",
              "      display: none;\n",
              "      fill: #1967D2;\n",
              "      height: 32px;\n",
              "      padding: 0 0 0 0;\n",
              "      width: 32px;\n",
              "    }\n",
              "\n",
              "    .colab-df-convert:hover {\n",
              "      background-color: #E2EBFA;\n",
              "      box-shadow: 0px 1px 2px rgba(60, 64, 67, 0.3), 0px 1px 3px 1px rgba(60, 64, 67, 0.15);\n",
              "      fill: #174EA6;\n",
              "    }\n",
              "\n",
              "    .colab-df-buttons div {\n",
              "      margin-bottom: 4px;\n",
              "    }\n",
              "\n",
              "    [theme=dark] .colab-df-convert {\n",
              "      background-color: #3B4455;\n",
              "      fill: #D2E3FC;\n",
              "    }\n",
              "\n",
              "    [theme=dark] .colab-df-convert:hover {\n",
              "      background-color: #434B5C;\n",
              "      box-shadow: 0px 1px 3px 1px rgba(0, 0, 0, 0.15);\n",
              "      filter: drop-shadow(0px 1px 2px rgba(0, 0, 0, 0.3));\n",
              "      fill: #FFFFFF;\n",
              "    }\n",
              "  </style>\n",
              "\n",
              "    <script>\n",
              "      const buttonEl =\n",
              "        document.querySelector('#df-6e3426f8-3d85-4de6-bdb4-b1ae94abf9d3 button.colab-df-convert');\n",
              "      buttonEl.style.display =\n",
              "        google.colab.kernel.accessAllowed ? 'block' : 'none';\n",
              "\n",
              "      async function convertToInteractive(key) {\n",
              "        const element = document.querySelector('#df-6e3426f8-3d85-4de6-bdb4-b1ae94abf9d3');\n",
              "        const dataTable =\n",
              "          await google.colab.kernel.invokeFunction('convertToInteractive',\n",
              "                                                    [key], {});\n",
              "        if (!dataTable) return;\n",
              "\n",
              "        const docLinkHtml = 'Like what you see? Visit the ' +\n",
              "          '<a target=\"_blank\" href=https://colab.research.google.com/notebooks/data_table.ipynb>data table notebook</a>'\n",
              "          + ' to learn more about interactive tables.';\n",
              "        element.innerHTML = '';\n",
              "        dataTable['output_type'] = 'display_data';\n",
              "        await google.colab.output.renderOutput(dataTable, element);\n",
              "        const docLink = document.createElement('div');\n",
              "        docLink.innerHTML = docLinkHtml;\n",
              "        element.appendChild(docLink);\n",
              "      }\n",
              "    </script>\n",
              "  </div>\n",
              "\n",
              "\n",
              "<div id=\"df-3fbd1749-737a-4da9-b5e5-fc4dad4034c3\">\n",
              "  <button class=\"colab-df-quickchart\" onclick=\"quickchart('df-3fbd1749-737a-4da9-b5e5-fc4dad4034c3')\"\n",
              "            title=\"Suggest charts\"\n",
              "            style=\"display:none;\">\n",
              "\n",
              "<svg xmlns=\"http://www.w3.org/2000/svg\" height=\"24px\"viewBox=\"0 0 24 24\"\n",
              "     width=\"24px\">\n",
              "    <g>\n",
              "        <path d=\"M19 3H5c-1.1 0-2 .9-2 2v14c0 1.1.9 2 2 2h14c1.1 0 2-.9 2-2V5c0-1.1-.9-2-2-2zM9 17H7v-7h2v7zm4 0h-2V7h2v10zm4 0h-2v-4h2v4z\"/>\n",
              "    </g>\n",
              "</svg>\n",
              "  </button>\n",
              "\n",
              "<style>\n",
              "  .colab-df-quickchart {\n",
              "      --bg-color: #E8F0FE;\n",
              "      --fill-color: #1967D2;\n",
              "      --hover-bg-color: #E2EBFA;\n",
              "      --hover-fill-color: #174EA6;\n",
              "      --disabled-fill-color: #AAA;\n",
              "      --disabled-bg-color: #DDD;\n",
              "  }\n",
              "\n",
              "  [theme=dark] .colab-df-quickchart {\n",
              "      --bg-color: #3B4455;\n",
              "      --fill-color: #D2E3FC;\n",
              "      --hover-bg-color: #434B5C;\n",
              "      --hover-fill-color: #FFFFFF;\n",
              "      --disabled-bg-color: #3B4455;\n",
              "      --disabled-fill-color: #666;\n",
              "  }\n",
              "\n",
              "  .colab-df-quickchart {\n",
              "    background-color: var(--bg-color);\n",
              "    border: none;\n",
              "    border-radius: 50%;\n",
              "    cursor: pointer;\n",
              "    display: none;\n",
              "    fill: var(--fill-color);\n",
              "    height: 32px;\n",
              "    padding: 0;\n",
              "    width: 32px;\n",
              "  }\n",
              "\n",
              "  .colab-df-quickchart:hover {\n",
              "    background-color: var(--hover-bg-color);\n",
              "    box-shadow: 0 1px 2px rgba(60, 64, 67, 0.3), 0 1px 3px 1px rgba(60, 64, 67, 0.15);\n",
              "    fill: var(--button-hover-fill-color);\n",
              "  }\n",
              "\n",
              "  .colab-df-quickchart-complete:disabled,\n",
              "  .colab-df-quickchart-complete:disabled:hover {\n",
              "    background-color: var(--disabled-bg-color);\n",
              "    fill: var(--disabled-fill-color);\n",
              "    box-shadow: none;\n",
              "  }\n",
              "\n",
              "  .colab-df-spinner {\n",
              "    border: 2px solid var(--fill-color);\n",
              "    border-color: transparent;\n",
              "    border-bottom-color: var(--fill-color);\n",
              "    animation:\n",
              "      spin 1s steps(1) infinite;\n",
              "  }\n",
              "\n",
              "  @keyframes spin {\n",
              "    0% {\n",
              "      border-color: transparent;\n",
              "      border-bottom-color: var(--fill-color);\n",
              "      border-left-color: var(--fill-color);\n",
              "    }\n",
              "    20% {\n",
              "      border-color: transparent;\n",
              "      border-left-color: var(--fill-color);\n",
              "      border-top-color: var(--fill-color);\n",
              "    }\n",
              "    30% {\n",
              "      border-color: transparent;\n",
              "      border-left-color: var(--fill-color);\n",
              "      border-top-color: var(--fill-color);\n",
              "      border-right-color: var(--fill-color);\n",
              "    }\n",
              "    40% {\n",
              "      border-color: transparent;\n",
              "      border-right-color: var(--fill-color);\n",
              "      border-top-color: var(--fill-color);\n",
              "    }\n",
              "    60% {\n",
              "      border-color: transparent;\n",
              "      border-right-color: var(--fill-color);\n",
              "    }\n",
              "    80% {\n",
              "      border-color: transparent;\n",
              "      border-right-color: var(--fill-color);\n",
              "      border-bottom-color: var(--fill-color);\n",
              "    }\n",
              "    90% {\n",
              "      border-color: transparent;\n",
              "      border-bottom-color: var(--fill-color);\n",
              "    }\n",
              "  }\n",
              "</style>\n",
              "\n",
              "  <script>\n",
              "    async function quickchart(key) {\n",
              "      const quickchartButtonEl =\n",
              "        document.querySelector('#' + key + ' button');\n",
              "      quickchartButtonEl.disabled = true;  // To prevent multiple clicks.\n",
              "      quickchartButtonEl.classList.add('colab-df-spinner');\n",
              "      try {\n",
              "        const charts = await google.colab.kernel.invokeFunction(\n",
              "            'suggestCharts', [key], {});\n",
              "      } catch (error) {\n",
              "        console.error('Error during call to suggestCharts:', error);\n",
              "      }\n",
              "      quickchartButtonEl.classList.remove('colab-df-spinner');\n",
              "      quickchartButtonEl.classList.add('colab-df-quickchart-complete');\n",
              "    }\n",
              "    (() => {\n",
              "      let quickchartButtonEl =\n",
              "        document.querySelector('#df-3fbd1749-737a-4da9-b5e5-fc4dad4034c3 button');\n",
              "      quickchartButtonEl.style.display =\n",
              "        google.colab.kernel.accessAllowed ? 'block' : 'none';\n",
              "    })();\n",
              "  </script>\n",
              "</div>\n",
              "    </div>\n",
              "  </div>\n"
            ],
            "application/vnd.google.colaboratory.intrinsic+json": {
              "type": "dataframe",
              "variable_name": "output_merged",
              "summary": "{\n  \"name\": \"output_merged\",\n  \"rows\": 23246,\n  \"fields\": [\n    {\n      \"column\": \"ID RESTAURANT\",\n      \"properties\": {\n        \"dtype\": \"number\",\n        \"std\": 4046995,\n        \"min\": 30075445,\n        \"max\": 50145855,\n        \"num_unique_values\": 23246,\n        \"samples\": [\n          40843676,\n          50014605,\n          50125815\n        ],\n        \"semantic_type\": \"\",\n        \"description\": \"\"\n      }\n    },\n    {\n      \"column\": \"GRADE\",\n      \"properties\": {\n        \"dtype\": \"category\",\n        \"num_unique_values\": 3,\n        \"samples\": [\n          \"A\",\n          \"B\",\n          \"C\"\n        ],\n        \"semantic_type\": \"\",\n        \"description\": \"\"\n      }\n    },\n    {\n      \"column\": \"DBA\",\n      \"properties\": {\n        \"dtype\": \"string\",\n        \"num_unique_values\": 18433,\n        \"samples\": [\n          \"CHEZ ALEX\",\n          \"KESTE WALL STREET\",\n          \"MERITTA'S JAMAICAN AND AMERICAN RESTAURANT\"\n        ],\n        \"semantic_type\": \"\",\n        \"description\": \"\"\n      }\n    },\n    {\n      \"column\": \"Latitude\",\n      \"properties\": {\n        \"dtype\": \"number\",\n        \"std\": 4.9586197757195265,\n        \"min\": 0.0,\n        \"max\": 40.91282233,\n        \"num_unique_values\": 19720,\n        \"samples\": [\n          40.6147749,\n          40.7051799,\n          40.78958459\n        ],\n        \"semantic_type\": \"\",\n        \"description\": \"\"\n      }\n    },\n    {\n      \"column\": \"Longitude\",\n      \"properties\": {\n        \"dtype\": \"number\",\n        \"std\": 9.002469043860577,\n        \"min\": -74.24870792,\n        \"max\": 0.0,\n        \"num_unique_values\": 19729,\n        \"samples\": [\n          -73.90431527,\n          -73.95755473,\n          -73.97633991\n        ],\n        \"semantic_type\": \"\",\n        \"description\": \"\"\n      }\n    },\n    {\n      \"column\": \"Exponential Smoothed Score\",\n      \"properties\": {\n        \"dtype\": \"number\",\n        \"std\": 6.851796637220215,\n        \"min\": -0.30053949020963344,\n        \"max\": 87.38806685496914,\n        \"num_unique_values\": 12453,\n        \"samples\": [\n          11.875954371263214,\n          7.4547960609803,\n          19.961485794884887\n        ],\n        \"semantic_type\": \"\",\n        \"description\": \"\"\n      }\n    },\n    {\n      \"column\": \"Probabilistic risk Score\",\n      \"properties\": {\n        \"dtype\": \"number\",\n        \"std\": 7.840654775658997,\n        \"min\": -0.34391364979890715,\n        \"max\": 100.0,\n        \"num_unique_values\": 12447,\n        \"samples\": [\n          5.840568130133719,\n          8.530679678899887,\n          10.623055565187016\n        ],\n        \"semantic_type\": \"\",\n        \"description\": \"\"\n      }\n    },\n    {\n      \"column\": \"Final Cluster\",\n      \"properties\": {\n        \"dtype\": \"int32\",\n        \"num_unique_values\": 4,\n        \"samples\": [\n          2,\n          3,\n          0\n        ],\n        \"semantic_type\": \"\",\n        \"description\": \"\"\n      }\n    }\n  ]\n}"
            }
          },
          "metadata": {},
          "execution_count": 271
        }
      ],
      "source": [
        "output_merged = output_1.merge(filtered_final_df[['ID RESTAURANT', 'Final Cluster']], on='ID RESTAURANT', how='left')\n",
        "output_merged.head(2)"
      ]
    },
    {
      "cell_type": "code",
      "execution_count": 272,
      "id": "871eff77-b27d-4af0-a7fe-1a521b37cb9c",
      "metadata": {
        "colab": {
          "base_uri": "https://localhost:8080/"
        },
        "id": "871eff77-b27d-4af0-a7fe-1a521b37cb9c",
        "outputId": "97b29ea9-72b9-4623-f3e2-fca9428f83d4"
      },
      "outputs": [
        {
          "output_type": "stream",
          "name": "stdout",
          "text": [
            "<class 'pandas.core.frame.DataFrame'>\n",
            "RangeIndex: 23246 entries, 0 to 23245\n",
            "Data columns (total 8 columns):\n",
            " #   Column                      Non-Null Count  Dtype  \n",
            "---  ------                      --------------  -----  \n",
            " 0   ID RESTAURANT               23246 non-null  int64  \n",
            " 1   GRADE                       23246 non-null  object \n",
            " 2   DBA                         23246 non-null  object \n",
            " 3   Latitude                    23194 non-null  float64\n",
            " 4   Longitude                   23194 non-null  float64\n",
            " 5   Exponential Smoothed Score  23246 non-null  float64\n",
            " 6   Probabilistic risk Score    23246 non-null  float64\n",
            " 7   Final Cluster               23246 non-null  int32  \n",
            "dtypes: float64(4), int32(1), int64(1), object(2)\n",
            "memory usage: 1.3+ MB\n"
          ]
        }
      ],
      "source": [
        "output_merged.info()"
      ]
    },
    {
      "cell_type": "code",
      "execution_count": 273,
      "id": "86799bcb-0ea5-4e01-9100-8e4f7a5858b2",
      "metadata": {
        "id": "86799bcb-0ea5-4e01-9100-8e4f7a5858b2"
      },
      "outputs": [],
      "source": [
        "# Now we include additional feature such as Cuisine type ,"
      ]
    },
    {
      "cell_type": "code",
      "execution_count": 274,
      "id": "60777391-eebc-484c-88b4-76217a0c70d6",
      "metadata": {
        "colab": {
          "base_uri": "https://localhost:8080/",
          "height": 112
        },
        "id": "60777391-eebc-484c-88b4-76217a0c70d6",
        "outputId": "b928522c-d7ca-4361-f0a5-55e8adfeed9b"
      },
      "outputs": [
        {
          "output_type": "execute_result",
          "data": {
            "text/plain": [
              "   ID RESTAURANT       CUISINE DESCRIPTION\n",
              "0       30075445  Bakery Products/Desserts\n",
              "1       30112340                Hamburgers"
            ],
            "text/html": [
              "\n",
              "  <div id=\"df-bb68f507-02bd-4320-9a66-afc928fa4ba5\" class=\"colab-df-container\">\n",
              "    <div>\n",
              "<style scoped>\n",
              "    .dataframe tbody tr th:only-of-type {\n",
              "        vertical-align: middle;\n",
              "    }\n",
              "\n",
              "    .dataframe tbody tr th {\n",
              "        vertical-align: top;\n",
              "    }\n",
              "\n",
              "    .dataframe thead th {\n",
              "        text-align: right;\n",
              "    }\n",
              "</style>\n",
              "<table border=\"1\" class=\"dataframe\">\n",
              "  <thead>\n",
              "    <tr style=\"text-align: right;\">\n",
              "      <th></th>\n",
              "      <th>ID RESTAURANT</th>\n",
              "      <th>CUISINE DESCRIPTION</th>\n",
              "    </tr>\n",
              "  </thead>\n",
              "  <tbody>\n",
              "    <tr>\n",
              "      <th>0</th>\n",
              "      <td>30075445</td>\n",
              "      <td>Bakery Products/Desserts</td>\n",
              "    </tr>\n",
              "    <tr>\n",
              "      <th>1</th>\n",
              "      <td>30112340</td>\n",
              "      <td>Hamburgers</td>\n",
              "    </tr>\n",
              "  </tbody>\n",
              "</table>\n",
              "</div>\n",
              "    <div class=\"colab-df-buttons\">\n",
              "\n",
              "  <div class=\"colab-df-container\">\n",
              "    <button class=\"colab-df-convert\" onclick=\"convertToInteractive('df-bb68f507-02bd-4320-9a66-afc928fa4ba5')\"\n",
              "            title=\"Convert this dataframe to an interactive table.\"\n",
              "            style=\"display:none;\">\n",
              "\n",
              "  <svg xmlns=\"http://www.w3.org/2000/svg\" height=\"24px\" viewBox=\"0 -960 960 960\">\n",
              "    <path d=\"M120-120v-720h720v720H120Zm60-500h600v-160H180v160Zm220 220h160v-160H400v160Zm0 220h160v-160H400v160ZM180-400h160v-160H180v160Zm440 0h160v-160H620v160ZM180-180h160v-160H180v160Zm440 0h160v-160H620v160Z\"/>\n",
              "  </svg>\n",
              "    </button>\n",
              "\n",
              "  <style>\n",
              "    .colab-df-container {\n",
              "      display:flex;\n",
              "      gap: 12px;\n",
              "    }\n",
              "\n",
              "    .colab-df-convert {\n",
              "      background-color: #E8F0FE;\n",
              "      border: none;\n",
              "      border-radius: 50%;\n",
              "      cursor: pointer;\n",
              "      display: none;\n",
              "      fill: #1967D2;\n",
              "      height: 32px;\n",
              "      padding: 0 0 0 0;\n",
              "      width: 32px;\n",
              "    }\n",
              "\n",
              "    .colab-df-convert:hover {\n",
              "      background-color: #E2EBFA;\n",
              "      box-shadow: 0px 1px 2px rgba(60, 64, 67, 0.3), 0px 1px 3px 1px rgba(60, 64, 67, 0.15);\n",
              "      fill: #174EA6;\n",
              "    }\n",
              "\n",
              "    .colab-df-buttons div {\n",
              "      margin-bottom: 4px;\n",
              "    }\n",
              "\n",
              "    [theme=dark] .colab-df-convert {\n",
              "      background-color: #3B4455;\n",
              "      fill: #D2E3FC;\n",
              "    }\n",
              "\n",
              "    [theme=dark] .colab-df-convert:hover {\n",
              "      background-color: #434B5C;\n",
              "      box-shadow: 0px 1px 3px 1px rgba(0, 0, 0, 0.15);\n",
              "      filter: drop-shadow(0px 1px 2px rgba(0, 0, 0, 0.3));\n",
              "      fill: #FFFFFF;\n",
              "    }\n",
              "  </style>\n",
              "\n",
              "    <script>\n",
              "      const buttonEl =\n",
              "        document.querySelector('#df-bb68f507-02bd-4320-9a66-afc928fa4ba5 button.colab-df-convert');\n",
              "      buttonEl.style.display =\n",
              "        google.colab.kernel.accessAllowed ? 'block' : 'none';\n",
              "\n",
              "      async function convertToInteractive(key) {\n",
              "        const element = document.querySelector('#df-bb68f507-02bd-4320-9a66-afc928fa4ba5');\n",
              "        const dataTable =\n",
              "          await google.colab.kernel.invokeFunction('convertToInteractive',\n",
              "                                                    [key], {});\n",
              "        if (!dataTable) return;\n",
              "\n",
              "        const docLinkHtml = 'Like what you see? Visit the ' +\n",
              "          '<a target=\"_blank\" href=https://colab.research.google.com/notebooks/data_table.ipynb>data table notebook</a>'\n",
              "          + ' to learn more about interactive tables.';\n",
              "        element.innerHTML = '';\n",
              "        dataTable['output_type'] = 'display_data';\n",
              "        await google.colab.output.renderOutput(dataTable, element);\n",
              "        const docLink = document.createElement('div');\n",
              "        docLink.innerHTML = docLinkHtml;\n",
              "        element.appendChild(docLink);\n",
              "      }\n",
              "    </script>\n",
              "  </div>\n",
              "\n",
              "\n",
              "<div id=\"df-9816b5f5-4d82-4a91-a112-5efb141b9adc\">\n",
              "  <button class=\"colab-df-quickchart\" onclick=\"quickchart('df-9816b5f5-4d82-4a91-a112-5efb141b9adc')\"\n",
              "            title=\"Suggest charts\"\n",
              "            style=\"display:none;\">\n",
              "\n",
              "<svg xmlns=\"http://www.w3.org/2000/svg\" height=\"24px\"viewBox=\"0 0 24 24\"\n",
              "     width=\"24px\">\n",
              "    <g>\n",
              "        <path d=\"M19 3H5c-1.1 0-2 .9-2 2v14c0 1.1.9 2 2 2h14c1.1 0 2-.9 2-2V5c0-1.1-.9-2-2-2zM9 17H7v-7h2v7zm4 0h-2V7h2v10zm4 0h-2v-4h2v4z\"/>\n",
              "    </g>\n",
              "</svg>\n",
              "  </button>\n",
              "\n",
              "<style>\n",
              "  .colab-df-quickchart {\n",
              "      --bg-color: #E8F0FE;\n",
              "      --fill-color: #1967D2;\n",
              "      --hover-bg-color: #E2EBFA;\n",
              "      --hover-fill-color: #174EA6;\n",
              "      --disabled-fill-color: #AAA;\n",
              "      --disabled-bg-color: #DDD;\n",
              "  }\n",
              "\n",
              "  [theme=dark] .colab-df-quickchart {\n",
              "      --bg-color: #3B4455;\n",
              "      --fill-color: #D2E3FC;\n",
              "      --hover-bg-color: #434B5C;\n",
              "      --hover-fill-color: #FFFFFF;\n",
              "      --disabled-bg-color: #3B4455;\n",
              "      --disabled-fill-color: #666;\n",
              "  }\n",
              "\n",
              "  .colab-df-quickchart {\n",
              "    background-color: var(--bg-color);\n",
              "    border: none;\n",
              "    border-radius: 50%;\n",
              "    cursor: pointer;\n",
              "    display: none;\n",
              "    fill: var(--fill-color);\n",
              "    height: 32px;\n",
              "    padding: 0;\n",
              "    width: 32px;\n",
              "  }\n",
              "\n",
              "  .colab-df-quickchart:hover {\n",
              "    background-color: var(--hover-bg-color);\n",
              "    box-shadow: 0 1px 2px rgba(60, 64, 67, 0.3), 0 1px 3px 1px rgba(60, 64, 67, 0.15);\n",
              "    fill: var(--button-hover-fill-color);\n",
              "  }\n",
              "\n",
              "  .colab-df-quickchart-complete:disabled,\n",
              "  .colab-df-quickchart-complete:disabled:hover {\n",
              "    background-color: var(--disabled-bg-color);\n",
              "    fill: var(--disabled-fill-color);\n",
              "    box-shadow: none;\n",
              "  }\n",
              "\n",
              "  .colab-df-spinner {\n",
              "    border: 2px solid var(--fill-color);\n",
              "    border-color: transparent;\n",
              "    border-bottom-color: var(--fill-color);\n",
              "    animation:\n",
              "      spin 1s steps(1) infinite;\n",
              "  }\n",
              "\n",
              "  @keyframes spin {\n",
              "    0% {\n",
              "      border-color: transparent;\n",
              "      border-bottom-color: var(--fill-color);\n",
              "      border-left-color: var(--fill-color);\n",
              "    }\n",
              "    20% {\n",
              "      border-color: transparent;\n",
              "      border-left-color: var(--fill-color);\n",
              "      border-top-color: var(--fill-color);\n",
              "    }\n",
              "    30% {\n",
              "      border-color: transparent;\n",
              "      border-left-color: var(--fill-color);\n",
              "      border-top-color: var(--fill-color);\n",
              "      border-right-color: var(--fill-color);\n",
              "    }\n",
              "    40% {\n",
              "      border-color: transparent;\n",
              "      border-right-color: var(--fill-color);\n",
              "      border-top-color: var(--fill-color);\n",
              "    }\n",
              "    60% {\n",
              "      border-color: transparent;\n",
              "      border-right-color: var(--fill-color);\n",
              "    }\n",
              "    80% {\n",
              "      border-color: transparent;\n",
              "      border-right-color: var(--fill-color);\n",
              "      border-bottom-color: var(--fill-color);\n",
              "    }\n",
              "    90% {\n",
              "      border-color: transparent;\n",
              "      border-bottom-color: var(--fill-color);\n",
              "    }\n",
              "  }\n",
              "</style>\n",
              "\n",
              "  <script>\n",
              "    async function quickchart(key) {\n",
              "      const quickchartButtonEl =\n",
              "        document.querySelector('#' + key + ' button');\n",
              "      quickchartButtonEl.disabled = true;  // To prevent multiple clicks.\n",
              "      quickchartButtonEl.classList.add('colab-df-spinner');\n",
              "      try {\n",
              "        const charts = await google.colab.kernel.invokeFunction(\n",
              "            'suggestCharts', [key], {});\n",
              "      } catch (error) {\n",
              "        console.error('Error during call to suggestCharts:', error);\n",
              "      }\n",
              "      quickchartButtonEl.classList.remove('colab-df-spinner');\n",
              "      quickchartButtonEl.classList.add('colab-df-quickchart-complete');\n",
              "    }\n",
              "    (() => {\n",
              "      let quickchartButtonEl =\n",
              "        document.querySelector('#df-9816b5f5-4d82-4a91-a112-5efb141b9adc button');\n",
              "      quickchartButtonEl.style.display =\n",
              "        google.colab.kernel.accessAllowed ? 'block' : 'none';\n",
              "    })();\n",
              "  </script>\n",
              "</div>\n",
              "    </div>\n",
              "  </div>\n"
            ],
            "application/vnd.google.colaboratory.intrinsic+json": {
              "type": "dataframe",
              "variable_name": "unique_cuisine_per_camis",
              "summary": "{\n  \"name\": \"unique_cuisine_per_camis\",\n  \"rows\": 23354,\n  \"fields\": [\n    {\n      \"column\": \"ID RESTAURANT\",\n      \"properties\": {\n        \"dtype\": \"number\",\n        \"std\": 4045443,\n        \"min\": 30075445,\n        \"max\": 50145855,\n        \"num_unique_values\": 23354,\n        \"samples\": [\n          41647897,\n          50032620,\n          50008136\n        ],\n        \"semantic_type\": \"\",\n        \"description\": \"\"\n      }\n    },\n    {\n      \"column\": \"CUISINE DESCRIPTION\",\n      \"properties\": {\n        \"dtype\": \"category\",\n        \"num_unique_values\": 89,\n        \"samples\": [\n          \"Chinese/Cuban\",\n          \"Bangladeshi\",\n          \"Russian\"\n        ],\n        \"semantic_type\": \"\",\n        \"description\": \"\"\n      }\n    }\n  ]\n}"
            }
          },
          "metadata": {},
          "execution_count": 274
        }
      ],
      "source": [
        "unique_cuisine_per_camis = mydf.groupby('CAMIS')['CUISINE DESCRIPTION'].unique().reset_index()\n",
        "unique_cuisine_per_camis['CUISINE DESCRIPTION'] = unique_cuisine_per_camis['CUISINE DESCRIPTION'].apply(lambda x: ', '.join(x))\n",
        "unique_cuisine_per_camis.rename(columns={'CAMIS': 'ID RESTAURANT'}, inplace=True)\n",
        "unique_cuisine_per_camis.head(2)"
      ]
    },
    {
      "cell_type": "code",
      "execution_count": 275,
      "id": "2f261867-9afc-4171-a4ce-e60531d603f1",
      "metadata": {
        "colab": {
          "base_uri": "https://localhost:8080/"
        },
        "id": "2f261867-9afc-4171-a4ce-e60531d603f1",
        "outputId": "5052729f-cfa8-4a0f-8da1-46110754f7d2"
      },
      "outputs": [
        {
          "output_type": "stream",
          "name": "stdout",
          "text": [
            "<class 'pandas.core.frame.DataFrame'>\n",
            "RangeIndex: 23354 entries, 0 to 23353\n",
            "Data columns (total 2 columns):\n",
            " #   Column               Non-Null Count  Dtype \n",
            "---  ------               --------------  ----- \n",
            " 0   ID RESTAURANT        23354 non-null  int64 \n",
            " 1   CUISINE DESCRIPTION  23354 non-null  object\n",
            "dtypes: int64(1), object(1)\n",
            "memory usage: 365.0+ KB\n"
          ]
        }
      ],
      "source": [
        "unique_cuisine_per_camis.info()"
      ]
    },
    {
      "cell_type": "code",
      "execution_count": 276,
      "id": "be33e056-56c7-4351-93f7-a050896c5432",
      "metadata": {
        "colab": {
          "base_uri": "https://localhost:8080/",
          "height": 146
        },
        "id": "be33e056-56c7-4351-93f7-a050896c5432",
        "outputId": "8b48c349-ba2f-463c-fc11-f6db80704318"
      },
      "outputs": [
        {
          "output_type": "execute_result",
          "data": {
            "text/plain": [
              "   ID RESTAURANT GRADE                    DBA   Latitude  Longitude  \\\n",
              "0       30075445     A  MORRIS PARK BAKE SHOP  40.848231 -73.855972   \n",
              "1       30112340     B                WENDY'S  40.662652 -73.962081   \n",
              "\n",
              "   Exponential Smoothed Score  Probabilistic risk Score  Final Cluster  \\\n",
              "0                   10.802323                 12.361325              0   \n",
              "1                   10.221990                 11.697238              2   \n",
              "\n",
              "        CUISINE DESCRIPTION  \n",
              "0  Bakery Products/Desserts  \n",
              "1                Hamburgers  "
            ],
            "text/html": [
              "\n",
              "  <div id=\"df-67d39b3d-034d-4b94-a6a5-c03e61bcd3f4\" class=\"colab-df-container\">\n",
              "    <div>\n",
              "<style scoped>\n",
              "    .dataframe tbody tr th:only-of-type {\n",
              "        vertical-align: middle;\n",
              "    }\n",
              "\n",
              "    .dataframe tbody tr th {\n",
              "        vertical-align: top;\n",
              "    }\n",
              "\n",
              "    .dataframe thead th {\n",
              "        text-align: right;\n",
              "    }\n",
              "</style>\n",
              "<table border=\"1\" class=\"dataframe\">\n",
              "  <thead>\n",
              "    <tr style=\"text-align: right;\">\n",
              "      <th></th>\n",
              "      <th>ID RESTAURANT</th>\n",
              "      <th>GRADE</th>\n",
              "      <th>DBA</th>\n",
              "      <th>Latitude</th>\n",
              "      <th>Longitude</th>\n",
              "      <th>Exponential Smoothed Score</th>\n",
              "      <th>Probabilistic risk Score</th>\n",
              "      <th>Final Cluster</th>\n",
              "      <th>CUISINE DESCRIPTION</th>\n",
              "    </tr>\n",
              "  </thead>\n",
              "  <tbody>\n",
              "    <tr>\n",
              "      <th>0</th>\n",
              "      <td>30075445</td>\n",
              "      <td>A</td>\n",
              "      <td>MORRIS PARK BAKE SHOP</td>\n",
              "      <td>40.848231</td>\n",
              "      <td>-73.855972</td>\n",
              "      <td>10.802323</td>\n",
              "      <td>12.361325</td>\n",
              "      <td>0</td>\n",
              "      <td>Bakery Products/Desserts</td>\n",
              "    </tr>\n",
              "    <tr>\n",
              "      <th>1</th>\n",
              "      <td>30112340</td>\n",
              "      <td>B</td>\n",
              "      <td>WENDY'S</td>\n",
              "      <td>40.662652</td>\n",
              "      <td>-73.962081</td>\n",
              "      <td>10.221990</td>\n",
              "      <td>11.697238</td>\n",
              "      <td>2</td>\n",
              "      <td>Hamburgers</td>\n",
              "    </tr>\n",
              "  </tbody>\n",
              "</table>\n",
              "</div>\n",
              "    <div class=\"colab-df-buttons\">\n",
              "\n",
              "  <div class=\"colab-df-container\">\n",
              "    <button class=\"colab-df-convert\" onclick=\"convertToInteractive('df-67d39b3d-034d-4b94-a6a5-c03e61bcd3f4')\"\n",
              "            title=\"Convert this dataframe to an interactive table.\"\n",
              "            style=\"display:none;\">\n",
              "\n",
              "  <svg xmlns=\"http://www.w3.org/2000/svg\" height=\"24px\" viewBox=\"0 -960 960 960\">\n",
              "    <path d=\"M120-120v-720h720v720H120Zm60-500h600v-160H180v160Zm220 220h160v-160H400v160Zm0 220h160v-160H400v160ZM180-400h160v-160H180v160Zm440 0h160v-160H620v160ZM180-180h160v-160H180v160Zm440 0h160v-160H620v160Z\"/>\n",
              "  </svg>\n",
              "    </button>\n",
              "\n",
              "  <style>\n",
              "    .colab-df-container {\n",
              "      display:flex;\n",
              "      gap: 12px;\n",
              "    }\n",
              "\n",
              "    .colab-df-convert {\n",
              "      background-color: #E8F0FE;\n",
              "      border: none;\n",
              "      border-radius: 50%;\n",
              "      cursor: pointer;\n",
              "      display: none;\n",
              "      fill: #1967D2;\n",
              "      height: 32px;\n",
              "      padding: 0 0 0 0;\n",
              "      width: 32px;\n",
              "    }\n",
              "\n",
              "    .colab-df-convert:hover {\n",
              "      background-color: #E2EBFA;\n",
              "      box-shadow: 0px 1px 2px rgba(60, 64, 67, 0.3), 0px 1px 3px 1px rgba(60, 64, 67, 0.15);\n",
              "      fill: #174EA6;\n",
              "    }\n",
              "\n",
              "    .colab-df-buttons div {\n",
              "      margin-bottom: 4px;\n",
              "    }\n",
              "\n",
              "    [theme=dark] .colab-df-convert {\n",
              "      background-color: #3B4455;\n",
              "      fill: #D2E3FC;\n",
              "    }\n",
              "\n",
              "    [theme=dark] .colab-df-convert:hover {\n",
              "      background-color: #434B5C;\n",
              "      box-shadow: 0px 1px 3px 1px rgba(0, 0, 0, 0.15);\n",
              "      filter: drop-shadow(0px 1px 2px rgba(0, 0, 0, 0.3));\n",
              "      fill: #FFFFFF;\n",
              "    }\n",
              "  </style>\n",
              "\n",
              "    <script>\n",
              "      const buttonEl =\n",
              "        document.querySelector('#df-67d39b3d-034d-4b94-a6a5-c03e61bcd3f4 button.colab-df-convert');\n",
              "      buttonEl.style.display =\n",
              "        google.colab.kernel.accessAllowed ? 'block' : 'none';\n",
              "\n",
              "      async function convertToInteractive(key) {\n",
              "        const element = document.querySelector('#df-67d39b3d-034d-4b94-a6a5-c03e61bcd3f4');\n",
              "        const dataTable =\n",
              "          await google.colab.kernel.invokeFunction('convertToInteractive',\n",
              "                                                    [key], {});\n",
              "        if (!dataTable) return;\n",
              "\n",
              "        const docLinkHtml = 'Like what you see? Visit the ' +\n",
              "          '<a target=\"_blank\" href=https://colab.research.google.com/notebooks/data_table.ipynb>data table notebook</a>'\n",
              "          + ' to learn more about interactive tables.';\n",
              "        element.innerHTML = '';\n",
              "        dataTable['output_type'] = 'display_data';\n",
              "        await google.colab.output.renderOutput(dataTable, element);\n",
              "        const docLink = document.createElement('div');\n",
              "        docLink.innerHTML = docLinkHtml;\n",
              "        element.appendChild(docLink);\n",
              "      }\n",
              "    </script>\n",
              "  </div>\n",
              "\n",
              "\n",
              "<div id=\"df-b13a3132-262c-4283-8457-128125c798f1\">\n",
              "  <button class=\"colab-df-quickchart\" onclick=\"quickchart('df-b13a3132-262c-4283-8457-128125c798f1')\"\n",
              "            title=\"Suggest charts\"\n",
              "            style=\"display:none;\">\n",
              "\n",
              "<svg xmlns=\"http://www.w3.org/2000/svg\" height=\"24px\"viewBox=\"0 0 24 24\"\n",
              "     width=\"24px\">\n",
              "    <g>\n",
              "        <path d=\"M19 3H5c-1.1 0-2 .9-2 2v14c0 1.1.9 2 2 2h14c1.1 0 2-.9 2-2V5c0-1.1-.9-2-2-2zM9 17H7v-7h2v7zm4 0h-2V7h2v10zm4 0h-2v-4h2v4z\"/>\n",
              "    </g>\n",
              "</svg>\n",
              "  </button>\n",
              "\n",
              "<style>\n",
              "  .colab-df-quickchart {\n",
              "      --bg-color: #E8F0FE;\n",
              "      --fill-color: #1967D2;\n",
              "      --hover-bg-color: #E2EBFA;\n",
              "      --hover-fill-color: #174EA6;\n",
              "      --disabled-fill-color: #AAA;\n",
              "      --disabled-bg-color: #DDD;\n",
              "  }\n",
              "\n",
              "  [theme=dark] .colab-df-quickchart {\n",
              "      --bg-color: #3B4455;\n",
              "      --fill-color: #D2E3FC;\n",
              "      --hover-bg-color: #434B5C;\n",
              "      --hover-fill-color: #FFFFFF;\n",
              "      --disabled-bg-color: #3B4455;\n",
              "      --disabled-fill-color: #666;\n",
              "  }\n",
              "\n",
              "  .colab-df-quickchart {\n",
              "    background-color: var(--bg-color);\n",
              "    border: none;\n",
              "    border-radius: 50%;\n",
              "    cursor: pointer;\n",
              "    display: none;\n",
              "    fill: var(--fill-color);\n",
              "    height: 32px;\n",
              "    padding: 0;\n",
              "    width: 32px;\n",
              "  }\n",
              "\n",
              "  .colab-df-quickchart:hover {\n",
              "    background-color: var(--hover-bg-color);\n",
              "    box-shadow: 0 1px 2px rgba(60, 64, 67, 0.3), 0 1px 3px 1px rgba(60, 64, 67, 0.15);\n",
              "    fill: var(--button-hover-fill-color);\n",
              "  }\n",
              "\n",
              "  .colab-df-quickchart-complete:disabled,\n",
              "  .colab-df-quickchart-complete:disabled:hover {\n",
              "    background-color: var(--disabled-bg-color);\n",
              "    fill: var(--disabled-fill-color);\n",
              "    box-shadow: none;\n",
              "  }\n",
              "\n",
              "  .colab-df-spinner {\n",
              "    border: 2px solid var(--fill-color);\n",
              "    border-color: transparent;\n",
              "    border-bottom-color: var(--fill-color);\n",
              "    animation:\n",
              "      spin 1s steps(1) infinite;\n",
              "  }\n",
              "\n",
              "  @keyframes spin {\n",
              "    0% {\n",
              "      border-color: transparent;\n",
              "      border-bottom-color: var(--fill-color);\n",
              "      border-left-color: var(--fill-color);\n",
              "    }\n",
              "    20% {\n",
              "      border-color: transparent;\n",
              "      border-left-color: var(--fill-color);\n",
              "      border-top-color: var(--fill-color);\n",
              "    }\n",
              "    30% {\n",
              "      border-color: transparent;\n",
              "      border-left-color: var(--fill-color);\n",
              "      border-top-color: var(--fill-color);\n",
              "      border-right-color: var(--fill-color);\n",
              "    }\n",
              "    40% {\n",
              "      border-color: transparent;\n",
              "      border-right-color: var(--fill-color);\n",
              "      border-top-color: var(--fill-color);\n",
              "    }\n",
              "    60% {\n",
              "      border-color: transparent;\n",
              "      border-right-color: var(--fill-color);\n",
              "    }\n",
              "    80% {\n",
              "      border-color: transparent;\n",
              "      border-right-color: var(--fill-color);\n",
              "      border-bottom-color: var(--fill-color);\n",
              "    }\n",
              "    90% {\n",
              "      border-color: transparent;\n",
              "      border-bottom-color: var(--fill-color);\n",
              "    }\n",
              "  }\n",
              "</style>\n",
              "\n",
              "  <script>\n",
              "    async function quickchart(key) {\n",
              "      const quickchartButtonEl =\n",
              "        document.querySelector('#' + key + ' button');\n",
              "      quickchartButtonEl.disabled = true;  // To prevent multiple clicks.\n",
              "      quickchartButtonEl.classList.add('colab-df-spinner');\n",
              "      try {\n",
              "        const charts = await google.colab.kernel.invokeFunction(\n",
              "            'suggestCharts', [key], {});\n",
              "      } catch (error) {\n",
              "        console.error('Error during call to suggestCharts:', error);\n",
              "      }\n",
              "      quickchartButtonEl.classList.remove('colab-df-spinner');\n",
              "      quickchartButtonEl.classList.add('colab-df-quickchart-complete');\n",
              "    }\n",
              "    (() => {\n",
              "      let quickchartButtonEl =\n",
              "        document.querySelector('#df-b13a3132-262c-4283-8457-128125c798f1 button');\n",
              "      quickchartButtonEl.style.display =\n",
              "        google.colab.kernel.accessAllowed ? 'block' : 'none';\n",
              "    })();\n",
              "  </script>\n",
              "</div>\n",
              "    </div>\n",
              "  </div>\n"
            ],
            "application/vnd.google.colaboratory.intrinsic+json": {
              "type": "dataframe",
              "variable_name": "output_merged_2",
              "summary": "{\n  \"name\": \"output_merged_2\",\n  \"rows\": 23246,\n  \"fields\": [\n    {\n      \"column\": \"ID RESTAURANT\",\n      \"properties\": {\n        \"dtype\": \"number\",\n        \"std\": 4046995,\n        \"min\": 30075445,\n        \"max\": 50145855,\n        \"num_unique_values\": 23246,\n        \"samples\": [\n          40843676,\n          50014605,\n          50125815\n        ],\n        \"semantic_type\": \"\",\n        \"description\": \"\"\n      }\n    },\n    {\n      \"column\": \"GRADE\",\n      \"properties\": {\n        \"dtype\": \"category\",\n        \"num_unique_values\": 3,\n        \"samples\": [\n          \"A\",\n          \"B\",\n          \"C\"\n        ],\n        \"semantic_type\": \"\",\n        \"description\": \"\"\n      }\n    },\n    {\n      \"column\": \"DBA\",\n      \"properties\": {\n        \"dtype\": \"string\",\n        \"num_unique_values\": 18433,\n        \"samples\": [\n          \"CHEZ ALEX\",\n          \"KESTE WALL STREET\",\n          \"MERITTA'S JAMAICAN AND AMERICAN RESTAURANT\"\n        ],\n        \"semantic_type\": \"\",\n        \"description\": \"\"\n      }\n    },\n    {\n      \"column\": \"Latitude\",\n      \"properties\": {\n        \"dtype\": \"number\",\n        \"std\": 4.9586197757195265,\n        \"min\": 0.0,\n        \"max\": 40.91282233,\n        \"num_unique_values\": 19720,\n        \"samples\": [\n          40.6147749,\n          40.7051799,\n          40.78958459\n        ],\n        \"semantic_type\": \"\",\n        \"description\": \"\"\n      }\n    },\n    {\n      \"column\": \"Longitude\",\n      \"properties\": {\n        \"dtype\": \"number\",\n        \"std\": 9.002469043860577,\n        \"min\": -74.24870792,\n        \"max\": 0.0,\n        \"num_unique_values\": 19729,\n        \"samples\": [\n          -73.90431527,\n          -73.95755473,\n          -73.97633991\n        ],\n        \"semantic_type\": \"\",\n        \"description\": \"\"\n      }\n    },\n    {\n      \"column\": \"Exponential Smoothed Score\",\n      \"properties\": {\n        \"dtype\": \"number\",\n        \"std\": 6.851796637220215,\n        \"min\": -0.30053949020963344,\n        \"max\": 87.38806685496914,\n        \"num_unique_values\": 12453,\n        \"samples\": [\n          11.875954371263214,\n          7.4547960609803,\n          19.961485794884887\n        ],\n        \"semantic_type\": \"\",\n        \"description\": \"\"\n      }\n    },\n    {\n      \"column\": \"Probabilistic risk Score\",\n      \"properties\": {\n        \"dtype\": \"number\",\n        \"std\": 7.840654775658997,\n        \"min\": -0.34391364979890715,\n        \"max\": 100.0,\n        \"num_unique_values\": 12447,\n        \"samples\": [\n          5.840568130133719,\n          8.530679678899887,\n          10.623055565187016\n        ],\n        \"semantic_type\": \"\",\n        \"description\": \"\"\n      }\n    },\n    {\n      \"column\": \"Final Cluster\",\n      \"properties\": {\n        \"dtype\": \"int32\",\n        \"num_unique_values\": 4,\n        \"samples\": [\n          2,\n          3,\n          0\n        ],\n        \"semantic_type\": \"\",\n        \"description\": \"\"\n      }\n    },\n    {\n      \"column\": \"CUISINE DESCRIPTION\",\n      \"properties\": {\n        \"dtype\": \"category\",\n        \"num_unique_values\": 89,\n        \"samples\": [\n          \"Chinese/Cuban\",\n          \"Bangladeshi\",\n          \"Russian\"\n        ],\n        \"semantic_type\": \"\",\n        \"description\": \"\"\n      }\n    }\n  ]\n}"
            }
          },
          "metadata": {},
          "execution_count": 276
        }
      ],
      "source": [
        "output_merged_2 = output_merged.merge(unique_cuisine_per_camis[['ID RESTAURANT', 'CUISINE DESCRIPTION']], on='ID RESTAURANT', how='left')\n",
        "output_merged_2.head(2)"
      ]
    },
    {
      "cell_type": "markdown",
      "source": [
        "## Final Dataset for Dashboard"
      ],
      "metadata": {
        "id": "_vBeUShbnLm6"
      },
      "id": "_vBeUShbnLm6"
    },
    {
      "cell_type": "code",
      "execution_count": 277,
      "id": "1124193c-6718-4e35-8763-2cef82cf2190",
      "metadata": {
        "id": "1124193c-6718-4e35-8763-2cef82cf2190"
      },
      "outputs": [],
      "source": [
        "output_merged_2.to_csv('Output_NYC_1.CSV')"
      ]
    },
    {
      "cell_type": "code",
      "execution_count": 278,
      "id": "34323590-51b2-4365-9f65-246bf745a173",
      "metadata": {
        "colab": {
          "base_uri": "https://localhost:8080/",
          "height": 352
        },
        "id": "34323590-51b2-4365-9f65-246bf745a173",
        "outputId": "bc23b6b8-bb87-4ae0-e66f-245e6edc9664"
      },
      "outputs": [
        {
          "output_type": "stream",
          "name": "stdout",
          "text": [
            "Mean Squared Error: 19.678385056395438\n",
            "\n",
            "Feature Importances:\n"
          ]
        },
        {
          "output_type": "execute_result",
          "data": {
            "text/plain": [
              "   Feature  Importance\n",
              "19     08A    0.158288\n",
              "20     02G    0.115404\n",
              "2      02B    0.091178\n",
              "9      04A    0.076085\n",
              "30     05D    0.059926\n",
              "16     06C    0.052817\n",
              "14     06D    0.044026\n",
              "29     04H    0.030428"
            ],
            "text/html": [
              "\n",
              "  <div id=\"df-fbfdf960-268e-41f2-91ce-f99cdfd85170\" class=\"colab-df-container\">\n",
              "    <div>\n",
              "<style scoped>\n",
              "    .dataframe tbody tr th:only-of-type {\n",
              "        vertical-align: middle;\n",
              "    }\n",
              "\n",
              "    .dataframe tbody tr th {\n",
              "        vertical-align: top;\n",
              "    }\n",
              "\n",
              "    .dataframe thead th {\n",
              "        text-align: right;\n",
              "    }\n",
              "</style>\n",
              "<table border=\"1\" class=\"dataframe\">\n",
              "  <thead>\n",
              "    <tr style=\"text-align: right;\">\n",
              "      <th></th>\n",
              "      <th>Feature</th>\n",
              "      <th>Importance</th>\n",
              "    </tr>\n",
              "  </thead>\n",
              "  <tbody>\n",
              "    <tr>\n",
              "      <th>19</th>\n",
              "      <td>08A</td>\n",
              "      <td>0.158288</td>\n",
              "    </tr>\n",
              "    <tr>\n",
              "      <th>20</th>\n",
              "      <td>02G</td>\n",
              "      <td>0.115404</td>\n",
              "    </tr>\n",
              "    <tr>\n",
              "      <th>2</th>\n",
              "      <td>02B</td>\n",
              "      <td>0.091178</td>\n",
              "    </tr>\n",
              "    <tr>\n",
              "      <th>9</th>\n",
              "      <td>04A</td>\n",
              "      <td>0.076085</td>\n",
              "    </tr>\n",
              "    <tr>\n",
              "      <th>30</th>\n",
              "      <td>05D</td>\n",
              "      <td>0.059926</td>\n",
              "    </tr>\n",
              "    <tr>\n",
              "      <th>16</th>\n",
              "      <td>06C</td>\n",
              "      <td>0.052817</td>\n",
              "    </tr>\n",
              "    <tr>\n",
              "      <th>14</th>\n",
              "      <td>06D</td>\n",
              "      <td>0.044026</td>\n",
              "    </tr>\n",
              "    <tr>\n",
              "      <th>29</th>\n",
              "      <td>04H</td>\n",
              "      <td>0.030428</td>\n",
              "    </tr>\n",
              "  </tbody>\n",
              "</table>\n",
              "</div>\n",
              "    <div class=\"colab-df-buttons\">\n",
              "\n",
              "  <div class=\"colab-df-container\">\n",
              "    <button class=\"colab-df-convert\" onclick=\"convertToInteractive('df-fbfdf960-268e-41f2-91ce-f99cdfd85170')\"\n",
              "            title=\"Convert this dataframe to an interactive table.\"\n",
              "            style=\"display:none;\">\n",
              "\n",
              "  <svg xmlns=\"http://www.w3.org/2000/svg\" height=\"24px\" viewBox=\"0 -960 960 960\">\n",
              "    <path d=\"M120-120v-720h720v720H120Zm60-500h600v-160H180v160Zm220 220h160v-160H400v160Zm0 220h160v-160H400v160ZM180-400h160v-160H180v160Zm440 0h160v-160H620v160ZM180-180h160v-160H180v160Zm440 0h160v-160H620v160Z\"/>\n",
              "  </svg>\n",
              "    </button>\n",
              "\n",
              "  <style>\n",
              "    .colab-df-container {\n",
              "      display:flex;\n",
              "      gap: 12px;\n",
              "    }\n",
              "\n",
              "    .colab-df-convert {\n",
              "      background-color: #E8F0FE;\n",
              "      border: none;\n",
              "      border-radius: 50%;\n",
              "      cursor: pointer;\n",
              "      display: none;\n",
              "      fill: #1967D2;\n",
              "      height: 32px;\n",
              "      padding: 0 0 0 0;\n",
              "      width: 32px;\n",
              "    }\n",
              "\n",
              "    .colab-df-convert:hover {\n",
              "      background-color: #E2EBFA;\n",
              "      box-shadow: 0px 1px 2px rgba(60, 64, 67, 0.3), 0px 1px 3px 1px rgba(60, 64, 67, 0.15);\n",
              "      fill: #174EA6;\n",
              "    }\n",
              "\n",
              "    .colab-df-buttons div {\n",
              "      margin-bottom: 4px;\n",
              "    }\n",
              "\n",
              "    [theme=dark] .colab-df-convert {\n",
              "      background-color: #3B4455;\n",
              "      fill: #D2E3FC;\n",
              "    }\n",
              "\n",
              "    [theme=dark] .colab-df-convert:hover {\n",
              "      background-color: #434B5C;\n",
              "      box-shadow: 0px 1px 3px 1px rgba(0, 0, 0, 0.15);\n",
              "      filter: drop-shadow(0px 1px 2px rgba(0, 0, 0, 0.3));\n",
              "      fill: #FFFFFF;\n",
              "    }\n",
              "  </style>\n",
              "\n",
              "    <script>\n",
              "      const buttonEl =\n",
              "        document.querySelector('#df-fbfdf960-268e-41f2-91ce-f99cdfd85170 button.colab-df-convert');\n",
              "      buttonEl.style.display =\n",
              "        google.colab.kernel.accessAllowed ? 'block' : 'none';\n",
              "\n",
              "      async function convertToInteractive(key) {\n",
              "        const element = document.querySelector('#df-fbfdf960-268e-41f2-91ce-f99cdfd85170');\n",
              "        const dataTable =\n",
              "          await google.colab.kernel.invokeFunction('convertToInteractive',\n",
              "                                                    [key], {});\n",
              "        if (!dataTable) return;\n",
              "\n",
              "        const docLinkHtml = 'Like what you see? Visit the ' +\n",
              "          '<a target=\"_blank\" href=https://colab.research.google.com/notebooks/data_table.ipynb>data table notebook</a>'\n",
              "          + ' to learn more about interactive tables.';\n",
              "        element.innerHTML = '';\n",
              "        dataTable['output_type'] = 'display_data';\n",
              "        await google.colab.output.renderOutput(dataTable, element);\n",
              "        const docLink = document.createElement('div');\n",
              "        docLink.innerHTML = docLinkHtml;\n",
              "        element.appendChild(docLink);\n",
              "      }\n",
              "    </script>\n",
              "  </div>\n",
              "\n",
              "\n",
              "<div id=\"df-47c649e8-b9e8-4801-85cc-4ad5af1dcee5\">\n",
              "  <button class=\"colab-df-quickchart\" onclick=\"quickchart('df-47c649e8-b9e8-4801-85cc-4ad5af1dcee5')\"\n",
              "            title=\"Suggest charts\"\n",
              "            style=\"display:none;\">\n",
              "\n",
              "<svg xmlns=\"http://www.w3.org/2000/svg\" height=\"24px\"viewBox=\"0 0 24 24\"\n",
              "     width=\"24px\">\n",
              "    <g>\n",
              "        <path d=\"M19 3H5c-1.1 0-2 .9-2 2v14c0 1.1.9 2 2 2h14c1.1 0 2-.9 2-2V5c0-1.1-.9-2-2-2zM9 17H7v-7h2v7zm4 0h-2V7h2v10zm4 0h-2v-4h2v4z\"/>\n",
              "    </g>\n",
              "</svg>\n",
              "  </button>\n",
              "\n",
              "<style>\n",
              "  .colab-df-quickchart {\n",
              "      --bg-color: #E8F0FE;\n",
              "      --fill-color: #1967D2;\n",
              "      --hover-bg-color: #E2EBFA;\n",
              "      --hover-fill-color: #174EA6;\n",
              "      --disabled-fill-color: #AAA;\n",
              "      --disabled-bg-color: #DDD;\n",
              "  }\n",
              "\n",
              "  [theme=dark] .colab-df-quickchart {\n",
              "      --bg-color: #3B4455;\n",
              "      --fill-color: #D2E3FC;\n",
              "      --hover-bg-color: #434B5C;\n",
              "      --hover-fill-color: #FFFFFF;\n",
              "      --disabled-bg-color: #3B4455;\n",
              "      --disabled-fill-color: #666;\n",
              "  }\n",
              "\n",
              "  .colab-df-quickchart {\n",
              "    background-color: var(--bg-color);\n",
              "    border: none;\n",
              "    border-radius: 50%;\n",
              "    cursor: pointer;\n",
              "    display: none;\n",
              "    fill: var(--fill-color);\n",
              "    height: 32px;\n",
              "    padding: 0;\n",
              "    width: 32px;\n",
              "  }\n",
              "\n",
              "  .colab-df-quickchart:hover {\n",
              "    background-color: var(--hover-bg-color);\n",
              "    box-shadow: 0 1px 2px rgba(60, 64, 67, 0.3), 0 1px 3px 1px rgba(60, 64, 67, 0.15);\n",
              "    fill: var(--button-hover-fill-color);\n",
              "  }\n",
              "\n",
              "  .colab-df-quickchart-complete:disabled,\n",
              "  .colab-df-quickchart-complete:disabled:hover {\n",
              "    background-color: var(--disabled-bg-color);\n",
              "    fill: var(--disabled-fill-color);\n",
              "    box-shadow: none;\n",
              "  }\n",
              "\n",
              "  .colab-df-spinner {\n",
              "    border: 2px solid var(--fill-color);\n",
              "    border-color: transparent;\n",
              "    border-bottom-color: var(--fill-color);\n",
              "    animation:\n",
              "      spin 1s steps(1) infinite;\n",
              "  }\n",
              "\n",
              "  @keyframes spin {\n",
              "    0% {\n",
              "      border-color: transparent;\n",
              "      border-bottom-color: var(--fill-color);\n",
              "      border-left-color: var(--fill-color);\n",
              "    }\n",
              "    20% {\n",
              "      border-color: transparent;\n",
              "      border-left-color: var(--fill-color);\n",
              "      border-top-color: var(--fill-color);\n",
              "    }\n",
              "    30% {\n",
              "      border-color: transparent;\n",
              "      border-left-color: var(--fill-color);\n",
              "      border-top-color: var(--fill-color);\n",
              "      border-right-color: var(--fill-color);\n",
              "    }\n",
              "    40% {\n",
              "      border-color: transparent;\n",
              "      border-right-color: var(--fill-color);\n",
              "      border-top-color: var(--fill-color);\n",
              "    }\n",
              "    60% {\n",
              "      border-color: transparent;\n",
              "      border-right-color: var(--fill-color);\n",
              "    }\n",
              "    80% {\n",
              "      border-color: transparent;\n",
              "      border-right-color: var(--fill-color);\n",
              "      border-bottom-color: var(--fill-color);\n",
              "    }\n",
              "    90% {\n",
              "      border-color: transparent;\n",
              "      border-bottom-color: var(--fill-color);\n",
              "    }\n",
              "  }\n",
              "</style>\n",
              "\n",
              "  <script>\n",
              "    async function quickchart(key) {\n",
              "      const quickchartButtonEl =\n",
              "        document.querySelector('#' + key + ' button');\n",
              "      quickchartButtonEl.disabled = true;  // To prevent multiple clicks.\n",
              "      quickchartButtonEl.classList.add('colab-df-spinner');\n",
              "      try {\n",
              "        const charts = await google.colab.kernel.invokeFunction(\n",
              "            'suggestCharts', [key], {});\n",
              "      } catch (error) {\n",
              "        console.error('Error during call to suggestCharts:', error);\n",
              "      }\n",
              "      quickchartButtonEl.classList.remove('colab-df-spinner');\n",
              "      quickchartButtonEl.classList.add('colab-df-quickchart-complete');\n",
              "    }\n",
              "    (() => {\n",
              "      let quickchartButtonEl =\n",
              "        document.querySelector('#df-47c649e8-b9e8-4801-85cc-4ad5af1dcee5 button');\n",
              "      quickchartButtonEl.style.display =\n",
              "        google.colab.kernel.accessAllowed ? 'block' : 'none';\n",
              "    })();\n",
              "  </script>\n",
              "</div>\n",
              "    </div>\n",
              "  </div>\n"
            ],
            "application/vnd.google.colaboratory.intrinsic+json": {
              "type": "dataframe",
              "variable_name": "feature_importances",
              "summary": "{\n  \"name\": \"feature_importances\",\n  \"rows\": 69,\n  \"fields\": [\n    {\n      \"column\": \"Feature\",\n      \"properties\": {\n        \"dtype\": \"string\",\n        \"num_unique_values\": 69,\n        \"samples\": [\n          \"09C\",\n          \"08A\",\n          \"04D\"\n        ],\n        \"semantic_type\": \"\",\n        \"description\": \"\"\n      }\n    },\n    {\n      \"column\": \"Importance\",\n      \"properties\": {\n        \"dtype\": \"number\",\n        \"std\": 0.027796233558424678,\n        \"min\": 2.9650351345578194e-07,\n        \"max\": 0.15828800569504872,\n        \"num_unique_values\": 69,\n        \"samples\": [\n          0.00908857339536433,\n          0.15828800569504872,\n          0.0020161314312705345\n        ],\n        \"semantic_type\": \"\",\n        \"description\": \"\"\n      }\n    }\n  ]\n}"
            }
          },
          "metadata": {},
          "execution_count": 278
        }
      ],
      "source": [
        "from sklearn.ensemble import RandomForestRegressor\n",
        "from sklearn.model_selection import train_test_split\n",
        "from sklearn.metrics import mean_squared_error\n",
        "\n",
        "\n",
        "\n",
        "X = final_df[unique_violations]\n",
        "y = final_df['SCORE']\n",
        "\n",
        "# Split the data into training and testing sets\n",
        "X_train, X_test, y_train, y_test = train_test_split(X, y, test_size=0.2, random_state=42)\n",
        "\n",
        "# Initialize the Random Forest Regressor\n",
        "rf_model = RandomForestRegressor(n_estimators=100, random_state=42)\n",
        "\n",
        "# Fit the model on the training data\n",
        "rf_model.fit(X_train, y_train)\n",
        "\n",
        "# Predict the scores on the test set\n",
        "y_pred = rf_model.predict(X_test)\n",
        "\n",
        "# Evaluate the model\n",
        "mse = mean_squared_error(y_test, y_pred)\n",
        "print(f'Mean Squared Error: {mse}')\n",
        "\n",
        "# Feature importances\n",
        "feature_importances = pd.DataFrame({'Feature': X.columns, 'Importance': rf_model.feature_importances_})\n",
        "feature_importances = feature_importances.sort_values(by='Importance', ascending=False)\n",
        "print('\\nFeature Importances:')\n",
        "feature_importances.head(8)"
      ]
    },
    {
      "cell_type": "code",
      "execution_count": 279,
      "id": "223ec01e-4e37-4a22-a329-24fa03a9ed84",
      "metadata": {
        "colab": {
          "base_uri": "https://localhost:8080/",
          "height": 425
        },
        "id": "223ec01e-4e37-4a22-a329-24fa03a9ed84",
        "outputId": "77719da6-8d31-4371-ee96-d45e93a227f8"
      },
      "outputs": [
        {
          "output_type": "execute_result",
          "data": {
            "text/plain": [
              "   Feature  Importance\n",
              "19     08A    0.158288\n",
              "20     02G    0.115404\n",
              "2      02B    0.091178\n",
              "9      04A    0.076085\n",
              "30     05D    0.059926\n",
              "16     06C    0.052817\n",
              "14     06D    0.044026\n",
              "29     04H    0.030428\n",
              "43     05H    0.029137\n",
              "17     10F    0.025113\n",
              "24     06A    0.022579\n",
              "15     10B    0.021755"
            ],
            "text/html": [
              "\n",
              "  <div id=\"df-b062fdda-bf21-48f5-bd98-d9c806a23e46\" class=\"colab-df-container\">\n",
              "    <div>\n",
              "<style scoped>\n",
              "    .dataframe tbody tr th:only-of-type {\n",
              "        vertical-align: middle;\n",
              "    }\n",
              "\n",
              "    .dataframe tbody tr th {\n",
              "        vertical-align: top;\n",
              "    }\n",
              "\n",
              "    .dataframe thead th {\n",
              "        text-align: right;\n",
              "    }\n",
              "</style>\n",
              "<table border=\"1\" class=\"dataframe\">\n",
              "  <thead>\n",
              "    <tr style=\"text-align: right;\">\n",
              "      <th></th>\n",
              "      <th>Feature</th>\n",
              "      <th>Importance</th>\n",
              "    </tr>\n",
              "  </thead>\n",
              "  <tbody>\n",
              "    <tr>\n",
              "      <th>19</th>\n",
              "      <td>08A</td>\n",
              "      <td>0.158288</td>\n",
              "    </tr>\n",
              "    <tr>\n",
              "      <th>20</th>\n",
              "      <td>02G</td>\n",
              "      <td>0.115404</td>\n",
              "    </tr>\n",
              "    <tr>\n",
              "      <th>2</th>\n",
              "      <td>02B</td>\n",
              "      <td>0.091178</td>\n",
              "    </tr>\n",
              "    <tr>\n",
              "      <th>9</th>\n",
              "      <td>04A</td>\n",
              "      <td>0.076085</td>\n",
              "    </tr>\n",
              "    <tr>\n",
              "      <th>30</th>\n",
              "      <td>05D</td>\n",
              "      <td>0.059926</td>\n",
              "    </tr>\n",
              "    <tr>\n",
              "      <th>16</th>\n",
              "      <td>06C</td>\n",
              "      <td>0.052817</td>\n",
              "    </tr>\n",
              "    <tr>\n",
              "      <th>14</th>\n",
              "      <td>06D</td>\n",
              "      <td>0.044026</td>\n",
              "    </tr>\n",
              "    <tr>\n",
              "      <th>29</th>\n",
              "      <td>04H</td>\n",
              "      <td>0.030428</td>\n",
              "    </tr>\n",
              "    <tr>\n",
              "      <th>43</th>\n",
              "      <td>05H</td>\n",
              "      <td>0.029137</td>\n",
              "    </tr>\n",
              "    <tr>\n",
              "      <th>17</th>\n",
              "      <td>10F</td>\n",
              "      <td>0.025113</td>\n",
              "    </tr>\n",
              "    <tr>\n",
              "      <th>24</th>\n",
              "      <td>06A</td>\n",
              "      <td>0.022579</td>\n",
              "    </tr>\n",
              "    <tr>\n",
              "      <th>15</th>\n",
              "      <td>10B</td>\n",
              "      <td>0.021755</td>\n",
              "    </tr>\n",
              "  </tbody>\n",
              "</table>\n",
              "</div>\n",
              "    <div class=\"colab-df-buttons\">\n",
              "\n",
              "  <div class=\"colab-df-container\">\n",
              "    <button class=\"colab-df-convert\" onclick=\"convertToInteractive('df-b062fdda-bf21-48f5-bd98-d9c806a23e46')\"\n",
              "            title=\"Convert this dataframe to an interactive table.\"\n",
              "            style=\"display:none;\">\n",
              "\n",
              "  <svg xmlns=\"http://www.w3.org/2000/svg\" height=\"24px\" viewBox=\"0 -960 960 960\">\n",
              "    <path d=\"M120-120v-720h720v720H120Zm60-500h600v-160H180v160Zm220 220h160v-160H400v160Zm0 220h160v-160H400v160ZM180-400h160v-160H180v160Zm440 0h160v-160H620v160ZM180-180h160v-160H180v160Zm440 0h160v-160H620v160Z\"/>\n",
              "  </svg>\n",
              "    </button>\n",
              "\n",
              "  <style>\n",
              "    .colab-df-container {\n",
              "      display:flex;\n",
              "      gap: 12px;\n",
              "    }\n",
              "\n",
              "    .colab-df-convert {\n",
              "      background-color: #E8F0FE;\n",
              "      border: none;\n",
              "      border-radius: 50%;\n",
              "      cursor: pointer;\n",
              "      display: none;\n",
              "      fill: #1967D2;\n",
              "      height: 32px;\n",
              "      padding: 0 0 0 0;\n",
              "      width: 32px;\n",
              "    }\n",
              "\n",
              "    .colab-df-convert:hover {\n",
              "      background-color: #E2EBFA;\n",
              "      box-shadow: 0px 1px 2px rgba(60, 64, 67, 0.3), 0px 1px 3px 1px rgba(60, 64, 67, 0.15);\n",
              "      fill: #174EA6;\n",
              "    }\n",
              "\n",
              "    .colab-df-buttons div {\n",
              "      margin-bottom: 4px;\n",
              "    }\n",
              "\n",
              "    [theme=dark] .colab-df-convert {\n",
              "      background-color: #3B4455;\n",
              "      fill: #D2E3FC;\n",
              "    }\n",
              "\n",
              "    [theme=dark] .colab-df-convert:hover {\n",
              "      background-color: #434B5C;\n",
              "      box-shadow: 0px 1px 3px 1px rgba(0, 0, 0, 0.15);\n",
              "      filter: drop-shadow(0px 1px 2px rgba(0, 0, 0, 0.3));\n",
              "      fill: #FFFFFF;\n",
              "    }\n",
              "  </style>\n",
              "\n",
              "    <script>\n",
              "      const buttonEl =\n",
              "        document.querySelector('#df-b062fdda-bf21-48f5-bd98-d9c806a23e46 button.colab-df-convert');\n",
              "      buttonEl.style.display =\n",
              "        google.colab.kernel.accessAllowed ? 'block' : 'none';\n",
              "\n",
              "      async function convertToInteractive(key) {\n",
              "        const element = document.querySelector('#df-b062fdda-bf21-48f5-bd98-d9c806a23e46');\n",
              "        const dataTable =\n",
              "          await google.colab.kernel.invokeFunction('convertToInteractive',\n",
              "                                                    [key], {});\n",
              "        if (!dataTable) return;\n",
              "\n",
              "        const docLinkHtml = 'Like what you see? Visit the ' +\n",
              "          '<a target=\"_blank\" href=https://colab.research.google.com/notebooks/data_table.ipynb>data table notebook</a>'\n",
              "          + ' to learn more about interactive tables.';\n",
              "        element.innerHTML = '';\n",
              "        dataTable['output_type'] = 'display_data';\n",
              "        await google.colab.output.renderOutput(dataTable, element);\n",
              "        const docLink = document.createElement('div');\n",
              "        docLink.innerHTML = docLinkHtml;\n",
              "        element.appendChild(docLink);\n",
              "      }\n",
              "    </script>\n",
              "  </div>\n",
              "\n",
              "\n",
              "<div id=\"df-126848ae-bf49-4dad-b914-b2977b0c148c\">\n",
              "  <button class=\"colab-df-quickchart\" onclick=\"quickchart('df-126848ae-bf49-4dad-b914-b2977b0c148c')\"\n",
              "            title=\"Suggest charts\"\n",
              "            style=\"display:none;\">\n",
              "\n",
              "<svg xmlns=\"http://www.w3.org/2000/svg\" height=\"24px\"viewBox=\"0 0 24 24\"\n",
              "     width=\"24px\">\n",
              "    <g>\n",
              "        <path d=\"M19 3H5c-1.1 0-2 .9-2 2v14c0 1.1.9 2 2 2h14c1.1 0 2-.9 2-2V5c0-1.1-.9-2-2-2zM9 17H7v-7h2v7zm4 0h-2V7h2v10zm4 0h-2v-4h2v4z\"/>\n",
              "    </g>\n",
              "</svg>\n",
              "  </button>\n",
              "\n",
              "<style>\n",
              "  .colab-df-quickchart {\n",
              "      --bg-color: #E8F0FE;\n",
              "      --fill-color: #1967D2;\n",
              "      --hover-bg-color: #E2EBFA;\n",
              "      --hover-fill-color: #174EA6;\n",
              "      --disabled-fill-color: #AAA;\n",
              "      --disabled-bg-color: #DDD;\n",
              "  }\n",
              "\n",
              "  [theme=dark] .colab-df-quickchart {\n",
              "      --bg-color: #3B4455;\n",
              "      --fill-color: #D2E3FC;\n",
              "      --hover-bg-color: #434B5C;\n",
              "      --hover-fill-color: #FFFFFF;\n",
              "      --disabled-bg-color: #3B4455;\n",
              "      --disabled-fill-color: #666;\n",
              "  }\n",
              "\n",
              "  .colab-df-quickchart {\n",
              "    background-color: var(--bg-color);\n",
              "    border: none;\n",
              "    border-radius: 50%;\n",
              "    cursor: pointer;\n",
              "    display: none;\n",
              "    fill: var(--fill-color);\n",
              "    height: 32px;\n",
              "    padding: 0;\n",
              "    width: 32px;\n",
              "  }\n",
              "\n",
              "  .colab-df-quickchart:hover {\n",
              "    background-color: var(--hover-bg-color);\n",
              "    box-shadow: 0 1px 2px rgba(60, 64, 67, 0.3), 0 1px 3px 1px rgba(60, 64, 67, 0.15);\n",
              "    fill: var(--button-hover-fill-color);\n",
              "  }\n",
              "\n",
              "  .colab-df-quickchart-complete:disabled,\n",
              "  .colab-df-quickchart-complete:disabled:hover {\n",
              "    background-color: var(--disabled-bg-color);\n",
              "    fill: var(--disabled-fill-color);\n",
              "    box-shadow: none;\n",
              "  }\n",
              "\n",
              "  .colab-df-spinner {\n",
              "    border: 2px solid var(--fill-color);\n",
              "    border-color: transparent;\n",
              "    border-bottom-color: var(--fill-color);\n",
              "    animation:\n",
              "      spin 1s steps(1) infinite;\n",
              "  }\n",
              "\n",
              "  @keyframes spin {\n",
              "    0% {\n",
              "      border-color: transparent;\n",
              "      border-bottom-color: var(--fill-color);\n",
              "      border-left-color: var(--fill-color);\n",
              "    }\n",
              "    20% {\n",
              "      border-color: transparent;\n",
              "      border-left-color: var(--fill-color);\n",
              "      border-top-color: var(--fill-color);\n",
              "    }\n",
              "    30% {\n",
              "      border-color: transparent;\n",
              "      border-left-color: var(--fill-color);\n",
              "      border-top-color: var(--fill-color);\n",
              "      border-right-color: var(--fill-color);\n",
              "    }\n",
              "    40% {\n",
              "      border-color: transparent;\n",
              "      border-right-color: var(--fill-color);\n",
              "      border-top-color: var(--fill-color);\n",
              "    }\n",
              "    60% {\n",
              "      border-color: transparent;\n",
              "      border-right-color: var(--fill-color);\n",
              "    }\n",
              "    80% {\n",
              "      border-color: transparent;\n",
              "      border-right-color: var(--fill-color);\n",
              "      border-bottom-color: var(--fill-color);\n",
              "    }\n",
              "    90% {\n",
              "      border-color: transparent;\n",
              "      border-bottom-color: var(--fill-color);\n",
              "    }\n",
              "  }\n",
              "</style>\n",
              "\n",
              "  <script>\n",
              "    async function quickchart(key) {\n",
              "      const quickchartButtonEl =\n",
              "        document.querySelector('#' + key + ' button');\n",
              "      quickchartButtonEl.disabled = true;  // To prevent multiple clicks.\n",
              "      quickchartButtonEl.classList.add('colab-df-spinner');\n",
              "      try {\n",
              "        const charts = await google.colab.kernel.invokeFunction(\n",
              "            'suggestCharts', [key], {});\n",
              "      } catch (error) {\n",
              "        console.error('Error during call to suggestCharts:', error);\n",
              "      }\n",
              "      quickchartButtonEl.classList.remove('colab-df-spinner');\n",
              "      quickchartButtonEl.classList.add('colab-df-quickchart-complete');\n",
              "    }\n",
              "    (() => {\n",
              "      let quickchartButtonEl =\n",
              "        document.querySelector('#df-126848ae-bf49-4dad-b914-b2977b0c148c button');\n",
              "      quickchartButtonEl.style.display =\n",
              "        google.colab.kernel.accessAllowed ? 'block' : 'none';\n",
              "    })();\n",
              "  </script>\n",
              "</div>\n",
              "    </div>\n",
              "  </div>\n"
            ],
            "application/vnd.google.colaboratory.intrinsic+json": {
              "type": "dataframe",
              "variable_name": "feature_importances",
              "summary": "{\n  \"name\": \"feature_importances\",\n  \"rows\": 69,\n  \"fields\": [\n    {\n      \"column\": \"Feature\",\n      \"properties\": {\n        \"dtype\": \"string\",\n        \"num_unique_values\": 69,\n        \"samples\": [\n          \"09C\",\n          \"08A\",\n          \"04D\"\n        ],\n        \"semantic_type\": \"\",\n        \"description\": \"\"\n      }\n    },\n    {\n      \"column\": \"Importance\",\n      \"properties\": {\n        \"dtype\": \"number\",\n        \"std\": 0.027796233558424678,\n        \"min\": 2.9650351345578194e-07,\n        \"max\": 0.15828800569504872,\n        \"num_unique_values\": 69,\n        \"samples\": [\n          0.00908857339536433,\n          0.15828800569504872,\n          0.0020161314312705345\n        ],\n        \"semantic_type\": \"\",\n        \"description\": \"\"\n      }\n    }\n  ]\n}"
            }
          },
          "metadata": {},
          "execution_count": 279
        }
      ],
      "source": [
        "feature_importances.head(12)"
      ]
    }
  ],
  "metadata": {
    "kernelspec": {
      "display_name": "Python 3 (ipykernel)",
      "language": "python",
      "name": "python3"
    },
    "language_info": {
      "codemirror_mode": {
        "name": "ipython",
        "version": 3
      },
      "file_extension": ".py",
      "mimetype": "text/x-python",
      "name": "python",
      "nbconvert_exporter": "python",
      "pygments_lexer": "ipython3",
      "version": "3.11.8"
    },
    "colab": {
      "provenance": [],
      "toc_visible": true
    }
  },
  "nbformat": 4,
  "nbformat_minor": 5
}